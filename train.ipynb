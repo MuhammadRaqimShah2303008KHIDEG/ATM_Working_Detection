{
  "nbformat": 4,
  "nbformat_minor": 0,
  "metadata": {
    "colab": {
      "provenance": [],
      "gpuType": "T4"
    },
    "kernelspec": {
      "name": "python3",
      "display_name": "Python 3"
    },
    "language_info": {
      "name": "python"
    },
    "accelerator": "GPU"
  },
  "cells": [
    {
      "cell_type": "code",
      "execution_count": null,
      "metadata": {
        "id": "K3pS29LCHnTP",
        "colab": {
          "base_uri": "https://localhost:8080/"
        },
        "outputId": "171b424d-76e4-4db2-8666-9e9e40e3e4b2"
      },
      "outputs": [
        {
          "output_type": "stream",
          "name": "stdout",
          "text": [
            "Collecting ultralytics\n",
            "  Downloading ultralytics-8.0.231-py3-none-any.whl (663 kB)\n",
            "\u001b[2K     \u001b[90m━━━━━━━━━━━━━━━━━━━━━━━━━━━━━━━━━━━━━━━━\u001b[0m \u001b[32m663.2/663.2 kB\u001b[0m \u001b[31m10.0 MB/s\u001b[0m eta \u001b[36m0:00:00\u001b[0m\n",
            "\u001b[?25hRequirement already satisfied: matplotlib>=3.3.0 in /usr/local/lib/python3.10/dist-packages (from ultralytics) (3.7.1)\n",
            "Requirement already satisfied: numpy>=1.22.2 in /usr/local/lib/python3.10/dist-packages (from ultralytics) (1.23.5)\n",
            "Requirement already satisfied: opencv-python>=4.6.0 in /usr/local/lib/python3.10/dist-packages (from ultralytics) (4.8.0.76)\n",
            "Requirement already satisfied: pillow>=7.1.2 in /usr/local/lib/python3.10/dist-packages (from ultralytics) (9.4.0)\n",
            "Requirement already satisfied: pyyaml>=5.3.1 in /usr/local/lib/python3.10/dist-packages (from ultralytics) (6.0.1)\n",
            "Requirement already satisfied: requests>=2.23.0 in /usr/local/lib/python3.10/dist-packages (from ultralytics) (2.31.0)\n",
            "Requirement already satisfied: scipy>=1.4.1 in /usr/local/lib/python3.10/dist-packages (from ultralytics) (1.11.4)\n",
            "Requirement already satisfied: torch>=1.8.0 in /usr/local/lib/python3.10/dist-packages (from ultralytics) (2.1.0+cu121)\n",
            "Requirement already satisfied: torchvision>=0.9.0 in /usr/local/lib/python3.10/dist-packages (from ultralytics) (0.16.0+cu121)\n",
            "Requirement already satisfied: tqdm>=4.64.0 in /usr/local/lib/python3.10/dist-packages (from ultralytics) (4.66.1)\n",
            "Requirement already satisfied: psutil in /usr/local/lib/python3.10/dist-packages (from ultralytics) (5.9.5)\n",
            "Requirement already satisfied: py-cpuinfo in /usr/local/lib/python3.10/dist-packages (from ultralytics) (9.0.0)\n",
            "Collecting thop>=0.1.1 (from ultralytics)\n",
            "  Downloading thop-0.1.1.post2209072238-py3-none-any.whl (15 kB)\n",
            "Requirement already satisfied: pandas>=1.1.4 in /usr/local/lib/python3.10/dist-packages (from ultralytics) (1.5.3)\n",
            "Requirement already satisfied: seaborn>=0.11.0 in /usr/local/lib/python3.10/dist-packages (from ultralytics) (0.12.2)\n",
            "Requirement already satisfied: contourpy>=1.0.1 in /usr/local/lib/python3.10/dist-packages (from matplotlib>=3.3.0->ultralytics) (1.2.0)\n",
            "Requirement already satisfied: cycler>=0.10 in /usr/local/lib/python3.10/dist-packages (from matplotlib>=3.3.0->ultralytics) (0.12.1)\n",
            "Requirement already satisfied: fonttools>=4.22.0 in /usr/local/lib/python3.10/dist-packages (from matplotlib>=3.3.0->ultralytics) (4.46.0)\n",
            "Requirement already satisfied: kiwisolver>=1.0.1 in /usr/local/lib/python3.10/dist-packages (from matplotlib>=3.3.0->ultralytics) (1.4.5)\n",
            "Requirement already satisfied: packaging>=20.0 in /usr/local/lib/python3.10/dist-packages (from matplotlib>=3.3.0->ultralytics) (23.2)\n",
            "Requirement already satisfied: pyparsing>=2.3.1 in /usr/local/lib/python3.10/dist-packages (from matplotlib>=3.3.0->ultralytics) (3.1.1)\n",
            "Requirement already satisfied: python-dateutil>=2.7 in /usr/local/lib/python3.10/dist-packages (from matplotlib>=3.3.0->ultralytics) (2.8.2)\n",
            "Requirement already satisfied: pytz>=2020.1 in /usr/local/lib/python3.10/dist-packages (from pandas>=1.1.4->ultralytics) (2023.3.post1)\n",
            "Requirement already satisfied: charset-normalizer<4,>=2 in /usr/local/lib/python3.10/dist-packages (from requests>=2.23.0->ultralytics) (3.3.2)\n",
            "Requirement already satisfied: idna<4,>=2.5 in /usr/local/lib/python3.10/dist-packages (from requests>=2.23.0->ultralytics) (3.6)\n",
            "Requirement already satisfied: urllib3<3,>=1.21.1 in /usr/local/lib/python3.10/dist-packages (from requests>=2.23.0->ultralytics) (2.0.7)\n",
            "Requirement already satisfied: certifi>=2017.4.17 in /usr/local/lib/python3.10/dist-packages (from requests>=2.23.0->ultralytics) (2023.11.17)\n",
            "Requirement already satisfied: filelock in /usr/local/lib/python3.10/dist-packages (from torch>=1.8.0->ultralytics) (3.13.1)\n",
            "Requirement already satisfied: typing-extensions in /usr/local/lib/python3.10/dist-packages (from torch>=1.8.0->ultralytics) (4.5.0)\n",
            "Requirement already satisfied: sympy in /usr/local/lib/python3.10/dist-packages (from torch>=1.8.0->ultralytics) (1.12)\n",
            "Requirement already satisfied: networkx in /usr/local/lib/python3.10/dist-packages (from torch>=1.8.0->ultralytics) (3.2.1)\n",
            "Requirement already satisfied: jinja2 in /usr/local/lib/python3.10/dist-packages (from torch>=1.8.0->ultralytics) (3.1.2)\n",
            "Requirement already satisfied: fsspec in /usr/local/lib/python3.10/dist-packages (from torch>=1.8.0->ultralytics) (2023.6.0)\n",
            "Requirement already satisfied: triton==2.1.0 in /usr/local/lib/python3.10/dist-packages (from torch>=1.8.0->ultralytics) (2.1.0)\n",
            "Requirement already satisfied: six>=1.5 in /usr/local/lib/python3.10/dist-packages (from python-dateutil>=2.7->matplotlib>=3.3.0->ultralytics) (1.16.0)\n",
            "Requirement already satisfied: MarkupSafe>=2.0 in /usr/local/lib/python3.10/dist-packages (from jinja2->torch>=1.8.0->ultralytics) (2.1.3)\n",
            "Requirement already satisfied: mpmath>=0.19 in /usr/local/lib/python3.10/dist-packages (from sympy->torch>=1.8.0->ultralytics) (1.3.0)\n",
            "Installing collected packages: thop, ultralytics\n",
            "Successfully installed thop-0.1.1.post2209072238 ultralytics-8.0.231\n"
          ]
        }
      ],
      "source": [
        "!pip install ultralytics"
      ]
    },
    {
      "cell_type": "code",
      "source": [
        "from ultralytics import YOLO"
      ],
      "metadata": {
        "id": "DA6TTQKiqUCa"
      },
      "execution_count": null,
      "outputs": []
    },
    {
      "cell_type": "code",
      "source": [
        "\n",
        "# Load a model\n",
        "model = YOLO(\"yolov8n.pt\")  # load a pretrained model (recommended for training)\n",
        "\n",
        "# Use the model\n",
        "model.train(data=\"/content/drive/MyDrive/cash_training/Currency-Identification-Smart-Glasses.v1i.yolov8/data.yaml\", epochs=50)  # train the model\n",
        "metrics = model.val()  # evaluate model performance on the validation set"
      ],
      "metadata": {
        "colab": {
          "base_uri": "https://localhost:8080/"
        },
        "id": "4kNo7IURquVI",
        "outputId": "0e4ec656-8735-4887-a263-7105412a8580"
      },
      "execution_count": null,
      "outputs": [
        {
          "output_type": "stream",
          "name": "stdout",
          "text": [
            "Downloading https://github.com/ultralytics/assets/releases/download/v0.0.0/yolov8n.pt to 'yolov8n.pt'...\n"
          ]
        },
        {
          "output_type": "stream",
          "name": "stderr",
          "text": [
            "100%|██████████| 6.23M/6.23M [00:00<00:00, 65.5MB/s]\n"
          ]
        },
        {
          "output_type": "stream",
          "name": "stdout",
          "text": [
            "Ultralytics YOLOv8.0.231 🚀 Python-3.10.12 torch-2.1.0+cu121 CUDA:0 (Tesla T4, 15102MiB)\n",
            "\u001b[34m\u001b[1mengine/trainer: \u001b[0mtask=detect, mode=train, model=yolov8n.pt, data=/content/drive/MyDrive/cash_training/Currency-Identification-Smart-Glasses.v1i.yolov8/data.yaml, epochs=50, time=None, patience=50, batch=16, imgsz=640, save=True, save_period=-1, cache=False, device=None, workers=8, project=None, name=train, exist_ok=False, pretrained=True, optimizer=auto, verbose=True, seed=0, deterministic=True, single_cls=False, rect=False, cos_lr=False, close_mosaic=10, resume=False, amp=True, fraction=1.0, profile=False, freeze=None, overlap_mask=True, mask_ratio=4, dropout=0.0, val=True, split=val, save_json=False, save_hybrid=False, conf=None, iou=0.7, max_det=300, half=False, dnn=False, plots=True, source=None, vid_stride=1, stream_buffer=False, visualize=False, augment=False, agnostic_nms=False, classes=None, retina_masks=False, embed=None, show=False, save_frames=False, save_txt=False, save_conf=False, save_crop=False, show_labels=True, show_conf=True, show_boxes=True, line_width=None, format=torchscript, keras=False, optimize=False, int8=False, dynamic=False, simplify=False, opset=None, workspace=4, nms=False, lr0=0.01, lrf=0.01, momentum=0.937, weight_decay=0.0005, warmup_epochs=3.0, warmup_momentum=0.8, warmup_bias_lr=0.1, box=7.5, cls=0.5, dfl=1.5, pose=12.0, kobj=1.0, label_smoothing=0.0, nbs=64, hsv_h=0.015, hsv_s=0.7, hsv_v=0.4, degrees=0.0, translate=0.1, scale=0.5, shear=0.0, perspective=0.0, flipud=0.0, fliplr=0.5, mosaic=1.0, mixup=0.0, copy_paste=0.0, cfg=None, tracker=botsort.yaml, save_dir=runs/detect/train\n",
            "Downloading https://ultralytics.com/assets/Arial.ttf to '/root/.config/Ultralytics/Arial.ttf'...\n"
          ]
        },
        {
          "output_type": "stream",
          "name": "stderr",
          "text": [
            "100%|██████████| 755k/755k [00:00<00:00, 27.7MB/s]\n"
          ]
        },
        {
          "output_type": "stream",
          "name": "stdout",
          "text": [
            "Overriding model.yaml nc=80 with nc=2\n",
            "\n",
            "                   from  n    params  module                                       arguments                     \n",
            "  0                  -1  1       464  ultralytics.nn.modules.conv.Conv             [3, 16, 3, 2]                 \n",
            "  1                  -1  1      4672  ultralytics.nn.modules.conv.Conv             [16, 32, 3, 2]                \n",
            "  2                  -1  1      7360  ultralytics.nn.modules.block.C2f             [32, 32, 1, True]             \n",
            "  3                  -1  1     18560  ultralytics.nn.modules.conv.Conv             [32, 64, 3, 2]                \n",
            "  4                  -1  2     49664  ultralytics.nn.modules.block.C2f             [64, 64, 2, True]             \n",
            "  5                  -1  1     73984  ultralytics.nn.modules.conv.Conv             [64, 128, 3, 2]               \n",
            "  6                  -1  2    197632  ultralytics.nn.modules.block.C2f             [128, 128, 2, True]           \n",
            "  7                  -1  1    295424  ultralytics.nn.modules.conv.Conv             [128, 256, 3, 2]              \n",
            "  8                  -1  1    460288  ultralytics.nn.modules.block.C2f             [256, 256, 1, True]           \n",
            "  9                  -1  1    164608  ultralytics.nn.modules.block.SPPF            [256, 256, 5]                 \n",
            " 10                  -1  1         0  torch.nn.modules.upsampling.Upsample         [None, 2, 'nearest']          \n",
            " 11             [-1, 6]  1         0  ultralytics.nn.modules.conv.Concat           [1]                           \n",
            " 12                  -1  1    148224  ultralytics.nn.modules.block.C2f             [384, 128, 1]                 \n",
            " 13                  -1  1         0  torch.nn.modules.upsampling.Upsample         [None, 2, 'nearest']          \n",
            " 14             [-1, 4]  1         0  ultralytics.nn.modules.conv.Concat           [1]                           \n",
            " 15                  -1  1     37248  ultralytics.nn.modules.block.C2f             [192, 64, 1]                  \n",
            " 16                  -1  1     36992  ultralytics.nn.modules.conv.Conv             [64, 64, 3, 2]                \n",
            " 17            [-1, 12]  1         0  ultralytics.nn.modules.conv.Concat           [1]                           \n",
            " 18                  -1  1    123648  ultralytics.nn.modules.block.C2f             [192, 128, 1]                 \n",
            " 19                  -1  1    147712  ultralytics.nn.modules.conv.Conv             [128, 128, 3, 2]              \n",
            " 20             [-1, 9]  1         0  ultralytics.nn.modules.conv.Concat           [1]                           \n",
            " 21                  -1  1    493056  ultralytics.nn.modules.block.C2f             [384, 256, 1]                 \n",
            " 22        [15, 18, 21]  1    751702  ultralytics.nn.modules.head.Detect           [2, [64, 128, 256]]           \n",
            "Model summary: 225 layers, 3011238 parameters, 3011222 gradients, 8.2 GFLOPs\n",
            "\n",
            "Transferred 319/355 items from pretrained weights\n",
            "\u001b[34m\u001b[1mTensorBoard: \u001b[0mStart with 'tensorboard --logdir runs/detect/train', view at http://localhost:6006/\n",
            "Freezing layer 'model.22.dfl.conv.weight'\n",
            "\u001b[34m\u001b[1mAMP: \u001b[0mrunning Automatic Mixed Precision (AMP) checks with YOLOv8n...\n",
            "WARNING ⚠️ NMS time limit 0.550s exceeded\n",
            "\u001b[34m\u001b[1mAMP: \u001b[0mchecks passed ✅\n"
          ]
        },
        {
          "output_type": "stream",
          "name": "stderr",
          "text": [
            "\u001b[34m\u001b[1mtrain: \u001b[0mScanning /content/drive/MyDrive/cash_training/Currency-Identification-Smart-Glasses.v1i.yolov8/train/labels... 238 images, 4 backgrounds, 0 corrupt: 100%|██████████| 238/238 [01:49<00:00,  2.18it/s]"
          ]
        },
        {
          "output_type": "stream",
          "name": "stdout",
          "text": [
            "\u001b[34m\u001b[1mtrain: \u001b[0mNew cache created: /content/drive/MyDrive/cash_training/Currency-Identification-Smart-Glasses.v1i.yolov8/train/labels.cache\n"
          ]
        },
        {
          "output_type": "stream",
          "name": "stderr",
          "text": [
            "\n"
          ]
        },
        {
          "output_type": "stream",
          "name": "stdout",
          "text": [
            "\u001b[34m\u001b[1malbumentations: \u001b[0mBlur(p=0.01, blur_limit=(3, 7)), MedianBlur(p=0.01, blur_limit=(3, 7)), ToGray(p=0.01), CLAHE(p=0.01, clip_limit=(1, 4.0), tile_grid_size=(8, 8))\n"
          ]
        },
        {
          "output_type": "stream",
          "name": "stderr",
          "text": [
            "\u001b[34m\u001b[1mval: \u001b[0mScanning /content/drive/MyDrive/cash_training/Currency-Identification-Smart-Glasses.v1i.yolov8/valid/labels... 68 images, 0 backgrounds, 0 corrupt: 100%|██████████| 68/68 [01:00<00:00,  1.12it/s]"
          ]
        },
        {
          "output_type": "stream",
          "name": "stdout",
          "text": [
            "\u001b[34m\u001b[1mval: \u001b[0mNew cache created: /content/drive/MyDrive/cash_training/Currency-Identification-Smart-Glasses.v1i.yolov8/valid/labels.cache\n"
          ]
        },
        {
          "output_type": "stream",
          "name": "stderr",
          "text": [
            "\n"
          ]
        },
        {
          "output_type": "stream",
          "name": "stdout",
          "text": [
            "Plotting labels to runs/detect/train/labels.jpg... \n",
            "\u001b[34m\u001b[1moptimizer:\u001b[0m 'optimizer=auto' found, ignoring 'lr0=0.01' and 'momentum=0.937' and determining best 'optimizer', 'lr0' and 'momentum' automatically... \n",
            "\u001b[34m\u001b[1moptimizer:\u001b[0m AdamW(lr=0.001667, momentum=0.9) with parameter groups 57 weight(decay=0.0), 64 weight(decay=0.0005), 63 bias(decay=0.0)\n",
            "50 epochs...\n",
            "\n",
            "      Epoch    GPU_mem   box_loss   cls_loss   dfl_loss  Instances       Size\n"
          ]
        },
        {
          "output_type": "stream",
          "name": "stderr",
          "text": [
            "       1/50      2.39G      2.828      7.086      1.833         22        640: 100%|██████████| 15/15 [00:10<00:00,  1.40it/s]\n",
            "                 Class     Images  Instances      Box(P          R      mAP50  mAP50-95): 100%|██████████| 3/3 [00:02<00:00,  1.34it/s]"
          ]
        },
        {
          "output_type": "stream",
          "name": "stdout",
          "text": [
            "                   all         68         75    0.00198      0.535    0.00168   0.000623\n"
          ]
        },
        {
          "output_type": "stream",
          "name": "stderr",
          "text": [
            "\n"
          ]
        },
        {
          "output_type": "stream",
          "name": "stdout",
          "text": [
            "\n",
            "      Epoch    GPU_mem   box_loss   cls_loss   dfl_loss  Instances       Size\n"
          ]
        },
        {
          "output_type": "stream",
          "name": "stderr",
          "text": [
            "       2/50      2.27G      2.132      4.504      1.365         18        640: 100%|██████████| 15/15 [00:04<00:00,  3.30it/s]\n",
            "                 Class     Images  Instances      Box(P          R      mAP50  mAP50-95): 100%|██████████| 3/3 [00:01<00:00,  1.91it/s]\n"
          ]
        },
        {
          "output_type": "stream",
          "name": "stdout",
          "text": [
            "                   all         68         75    0.00108      0.292   0.000704   0.000177\n",
            "\n",
            "      Epoch    GPU_mem   box_loss   cls_loss   dfl_loss  Instances       Size\n"
          ]
        },
        {
          "output_type": "stream",
          "name": "stderr",
          "text": [
            "       3/50      2.28G      1.938      3.469      1.339         17        640: 100%|██████████| 15/15 [00:06<00:00,  2.47it/s]\n",
            "                 Class     Images  Instances      Box(P          R      mAP50  mAP50-95): 100%|██████████| 3/3 [00:01<00:00,  2.86it/s]"
          ]
        },
        {
          "output_type": "stream",
          "name": "stdout",
          "text": [
            "                   all         68         75   0.000116     0.0278   0.000452   0.000129\n"
          ]
        },
        {
          "output_type": "stream",
          "name": "stderr",
          "text": [
            "\n"
          ]
        },
        {
          "output_type": "stream",
          "name": "stdout",
          "text": [
            "\n",
            "      Epoch    GPU_mem   box_loss   cls_loss   dfl_loss  Instances       Size\n"
          ]
        },
        {
          "output_type": "stream",
          "name": "stderr",
          "text": [
            "       4/50      2.27G      1.865      3.077      1.315         14        640: 100%|██████████| 15/15 [00:04<00:00,  3.42it/s]\n",
            "                 Class     Images  Instances      Box(P          R      mAP50  mAP50-95): 100%|██████████| 3/3 [00:01<00:00,  1.83it/s]"
          ]
        },
        {
          "output_type": "stream",
          "name": "stdout",
          "text": [
            "                   all         68         75    0.00225       0.61    0.00906    0.00303\n"
          ]
        },
        {
          "output_type": "stream",
          "name": "stderr",
          "text": [
            "\n"
          ]
        },
        {
          "output_type": "stream",
          "name": "stdout",
          "text": [
            "\n",
            "      Epoch    GPU_mem   box_loss   cls_loss   dfl_loss  Instances       Size\n"
          ]
        },
        {
          "output_type": "stream",
          "name": "stderr",
          "text": [
            "       5/50      2.27G      1.779      2.947       1.27         26        640: 100%|██████████| 15/15 [00:06<00:00,  2.41it/s]\n",
            "                 Class     Images  Instances      Box(P          R      mAP50  mAP50-95): 100%|██████████| 3/3 [00:01<00:00,  2.27it/s]"
          ]
        },
        {
          "output_type": "stream",
          "name": "stdout",
          "text": [
            "                   all         68         75      0.716      0.125      0.418      0.168\n"
          ]
        },
        {
          "output_type": "stream",
          "name": "stderr",
          "text": [
            "\n"
          ]
        },
        {
          "output_type": "stream",
          "name": "stdout",
          "text": [
            "\n",
            "      Epoch    GPU_mem   box_loss   cls_loss   dfl_loss  Instances       Size\n"
          ]
        },
        {
          "output_type": "stream",
          "name": "stderr",
          "text": [
            "       6/50      2.27G      1.777      2.555      1.313         22        640: 100%|██████████| 15/15 [00:04<00:00,  3.35it/s]\n",
            "                 Class     Images  Instances      Box(P          R      mAP50  mAP50-95): 100%|██████████| 3/3 [00:01<00:00,  2.25it/s]"
          ]
        },
        {
          "output_type": "stream",
          "name": "stdout",
          "text": [
            "                   all         68         75       0.59      0.491      0.505      0.207\n"
          ]
        },
        {
          "output_type": "stream",
          "name": "stderr",
          "text": [
            "\n"
          ]
        },
        {
          "output_type": "stream",
          "name": "stdout",
          "text": [
            "\n",
            "      Epoch    GPU_mem   box_loss   cls_loss   dfl_loss  Instances       Size\n"
          ]
        },
        {
          "output_type": "stream",
          "name": "stderr",
          "text": [
            "       7/50      2.27G      1.729      2.356      1.279         15        640: 100%|██████████| 15/15 [00:06<00:00,  2.17it/s]\n",
            "                 Class     Images  Instances      Box(P          R      mAP50  mAP50-95): 100%|██████████| 3/3 [00:01<00:00,  2.25it/s]"
          ]
        },
        {
          "output_type": "stream",
          "name": "stdout",
          "text": [
            "                   all         68         75       0.75      0.525      0.613      0.249\n"
          ]
        },
        {
          "output_type": "stream",
          "name": "stderr",
          "text": [
            "\n"
          ]
        },
        {
          "output_type": "stream",
          "name": "stdout",
          "text": [
            "\n",
            "      Epoch    GPU_mem   box_loss   cls_loss   dfl_loss  Instances       Size\n"
          ]
        },
        {
          "output_type": "stream",
          "name": "stderr",
          "text": [
            "       8/50      2.28G      1.688      2.299      1.239         24        640: 100%|██████████| 15/15 [00:04<00:00,  3.40it/s]\n",
            "                 Class     Images  Instances      Box(P          R      mAP50  mAP50-95): 100%|██████████| 3/3 [00:01<00:00,  2.22it/s]"
          ]
        },
        {
          "output_type": "stream",
          "name": "stdout",
          "text": [
            "                   all         68         75      0.728      0.554      0.615      0.346\n"
          ]
        },
        {
          "output_type": "stream",
          "name": "stderr",
          "text": [
            "\n"
          ]
        },
        {
          "output_type": "stream",
          "name": "stdout",
          "text": [
            "\n",
            "      Epoch    GPU_mem   box_loss   cls_loss   dfl_loss  Instances       Size\n"
          ]
        },
        {
          "output_type": "stream",
          "name": "stderr",
          "text": [
            "       9/50      2.27G      1.697      2.223      1.271         24        640: 100%|██████████| 15/15 [00:06<00:00,  2.20it/s]\n",
            "                 Class     Images  Instances      Box(P          R      mAP50  mAP50-95): 100%|██████████| 3/3 [00:01<00:00,  2.17it/s]"
          ]
        },
        {
          "output_type": "stream",
          "name": "stdout",
          "text": [
            "                   all         68         75      0.728      0.609      0.644      0.317\n"
          ]
        },
        {
          "output_type": "stream",
          "name": "stderr",
          "text": [
            "\n"
          ]
        },
        {
          "output_type": "stream",
          "name": "stdout",
          "text": [
            "\n",
            "      Epoch    GPU_mem   box_loss   cls_loss   dfl_loss  Instances       Size\n"
          ]
        },
        {
          "output_type": "stream",
          "name": "stderr",
          "text": [
            "      10/50      2.27G      1.635       2.05      1.259         21        640: 100%|██████████| 15/15 [00:04<00:00,  3.33it/s]\n",
            "                 Class     Images  Instances      Box(P          R      mAP50  mAP50-95): 100%|██████████| 3/3 [00:01<00:00,  2.68it/s]"
          ]
        },
        {
          "output_type": "stream",
          "name": "stdout",
          "text": [
            "                   all         68         75      0.676       0.62      0.664      0.308\n"
          ]
        },
        {
          "output_type": "stream",
          "name": "stderr",
          "text": [
            "\n"
          ]
        },
        {
          "output_type": "stream",
          "name": "stdout",
          "text": [
            "\n",
            "      Epoch    GPU_mem   box_loss   cls_loss   dfl_loss  Instances       Size\n"
          ]
        },
        {
          "output_type": "stream",
          "name": "stderr",
          "text": [
            "      11/50      2.26G      1.719      2.011        1.3         18        640: 100%|██████████| 15/15 [00:05<00:00,  2.53it/s]\n",
            "                 Class     Images  Instances      Box(P          R      mAP50  mAP50-95): 100%|██████████| 3/3 [00:01<00:00,  1.59it/s]"
          ]
        },
        {
          "output_type": "stream",
          "name": "stdout",
          "text": [
            "                   all         68         75      0.628      0.496      0.547      0.275\n"
          ]
        },
        {
          "output_type": "stream",
          "name": "stderr",
          "text": [
            "\n"
          ]
        },
        {
          "output_type": "stream",
          "name": "stdout",
          "text": [
            "\n",
            "      Epoch    GPU_mem   box_loss   cls_loss   dfl_loss  Instances       Size\n"
          ]
        },
        {
          "output_type": "stream",
          "name": "stderr",
          "text": [
            "      12/50      2.28G      1.635      1.941      1.287         21        640: 100%|██████████| 15/15 [00:04<00:00,  3.40it/s]\n",
            "                 Class     Images  Instances      Box(P          R      mAP50  mAP50-95): 100%|██████████| 3/3 [00:01<00:00,  2.45it/s]"
          ]
        },
        {
          "output_type": "stream",
          "name": "stdout",
          "text": [
            "                   all         68         75      0.755      0.578      0.666      0.311\n"
          ]
        },
        {
          "output_type": "stream",
          "name": "stderr",
          "text": [
            "\n"
          ]
        },
        {
          "output_type": "stream",
          "name": "stdout",
          "text": [
            "\n",
            "      Epoch    GPU_mem   box_loss   cls_loss   dfl_loss  Instances       Size\n"
          ]
        },
        {
          "output_type": "stream",
          "name": "stderr",
          "text": [
            "      13/50      2.27G      1.543      1.833      1.215         15        640: 100%|██████████| 15/15 [00:04<00:00,  3.12it/s]\n",
            "                 Class     Images  Instances      Box(P          R      mAP50  mAP50-95): 100%|██████████| 3/3 [00:02<00:00,  1.49it/s]"
          ]
        },
        {
          "output_type": "stream",
          "name": "stdout",
          "text": [
            "                   all         68         75      0.714      0.743       0.75      0.407\n"
          ]
        },
        {
          "output_type": "stream",
          "name": "stderr",
          "text": [
            "\n"
          ]
        },
        {
          "output_type": "stream",
          "name": "stdout",
          "text": [
            "\n",
            "      Epoch    GPU_mem   box_loss   cls_loss   dfl_loss  Instances       Size\n"
          ]
        },
        {
          "output_type": "stream",
          "name": "stderr",
          "text": [
            "      14/50      2.27G      1.566      1.616      1.245         15        640: 100%|██████████| 15/15 [00:04<00:00,  3.13it/s]\n",
            "                 Class     Images  Instances      Box(P          R      mAP50  mAP50-95): 100%|██████████| 3/3 [00:01<00:00,  2.72it/s]"
          ]
        },
        {
          "output_type": "stream",
          "name": "stdout",
          "text": [
            "                   all         68         75      0.793      0.661      0.702      0.386\n"
          ]
        },
        {
          "output_type": "stream",
          "name": "stderr",
          "text": [
            "\n"
          ]
        },
        {
          "output_type": "stream",
          "name": "stdout",
          "text": [
            "\n",
            "      Epoch    GPU_mem   box_loss   cls_loss   dfl_loss  Instances       Size\n"
          ]
        },
        {
          "output_type": "stream",
          "name": "stderr",
          "text": [
            "      15/50      2.26G      1.522       1.57      1.203         17        640: 100%|██████████| 15/15 [00:05<00:00,  3.00it/s]\n",
            "                 Class     Images  Instances      Box(P          R      mAP50  mAP50-95): 100%|██████████| 3/3 [00:01<00:00,  1.61it/s]"
          ]
        },
        {
          "output_type": "stream",
          "name": "stdout",
          "text": [
            "                   all         68         75        0.8      0.694      0.736      0.384\n"
          ]
        },
        {
          "output_type": "stream",
          "name": "stderr",
          "text": [
            "\n"
          ]
        },
        {
          "output_type": "stream",
          "name": "stdout",
          "text": [
            "\n",
            "      Epoch    GPU_mem   box_loss   cls_loss   dfl_loss  Instances       Size\n"
          ]
        },
        {
          "output_type": "stream",
          "name": "stderr",
          "text": [
            "      16/50      2.28G       1.58      1.604      1.214         12        640: 100%|██████████| 15/15 [00:05<00:00,  2.77it/s]\n",
            "                 Class     Images  Instances      Box(P          R      mAP50  mAP50-95): 100%|██████████| 3/3 [00:00<00:00,  3.30it/s]"
          ]
        },
        {
          "output_type": "stream",
          "name": "stdout",
          "text": [
            "                   all         68         75      0.764      0.698      0.728      0.384\n"
          ]
        },
        {
          "output_type": "stream",
          "name": "stderr",
          "text": [
            "\n"
          ]
        },
        {
          "output_type": "stream",
          "name": "stdout",
          "text": [
            "\n",
            "      Epoch    GPU_mem   box_loss   cls_loss   dfl_loss  Instances       Size\n"
          ]
        },
        {
          "output_type": "stream",
          "name": "stderr",
          "text": [
            "      17/50      2.27G      1.518      1.459      1.212         18        640: 100%|██████████| 15/15 [00:04<00:00,  3.47it/s]\n",
            "                 Class     Images  Instances      Box(P          R      mAP50  mAP50-95): 100%|██████████| 3/3 [00:01<00:00,  1.86it/s]"
          ]
        },
        {
          "output_type": "stream",
          "name": "stdout",
          "text": [
            "                   all         68         75      0.888      0.623       0.73      0.398\n"
          ]
        },
        {
          "output_type": "stream",
          "name": "stderr",
          "text": [
            "\n"
          ]
        },
        {
          "output_type": "stream",
          "name": "stdout",
          "text": [
            "\n",
            "      Epoch    GPU_mem   box_loss   cls_loss   dfl_loss  Instances       Size\n"
          ]
        },
        {
          "output_type": "stream",
          "name": "stderr",
          "text": [
            "      18/50      2.27G      1.495      1.373      1.211         20        640: 100%|██████████| 15/15 [00:06<00:00,  2.49it/s]\n",
            "                 Class     Images  Instances      Box(P          R      mAP50  mAP50-95): 100%|██████████| 3/3 [00:01<00:00,  2.89it/s]"
          ]
        },
        {
          "output_type": "stream",
          "name": "stdout",
          "text": [
            "                   all         68         75      0.952       0.67      0.754      0.428\n"
          ]
        },
        {
          "output_type": "stream",
          "name": "stderr",
          "text": [
            "\n"
          ]
        },
        {
          "output_type": "stream",
          "name": "stdout",
          "text": [
            "\n",
            "      Epoch    GPU_mem   box_loss   cls_loss   dfl_loss  Instances       Size\n"
          ]
        },
        {
          "output_type": "stream",
          "name": "stderr",
          "text": [
            "      19/50      2.27G      1.552      1.414      1.285         13        640: 100%|██████████| 15/15 [00:04<00:00,  3.06it/s]\n",
            "                 Class     Images  Instances      Box(P          R      mAP50  mAP50-95): 100%|██████████| 3/3 [00:01<00:00,  2.48it/s]"
          ]
        },
        {
          "output_type": "stream",
          "name": "stdout",
          "text": [
            "                   all         68         75      0.967      0.656      0.759      0.427\n"
          ]
        },
        {
          "output_type": "stream",
          "name": "stderr",
          "text": [
            "\n"
          ]
        },
        {
          "output_type": "stream",
          "name": "stdout",
          "text": [
            "\n",
            "      Epoch    GPU_mem   box_loss   cls_loss   dfl_loss  Instances       Size\n"
          ]
        },
        {
          "output_type": "stream",
          "name": "stderr",
          "text": [
            "      20/50      2.28G      1.451      1.251      1.171         20        640: 100%|██████████| 15/15 [00:06<00:00,  2.24it/s]\n",
            "                 Class     Images  Instances      Box(P          R      mAP50  mAP50-95): 100%|██████████| 3/3 [00:01<00:00,  2.66it/s]\n"
          ]
        },
        {
          "output_type": "stream",
          "name": "stdout",
          "text": [
            "                   all         68         75      0.989      0.657      0.794      0.446\n",
            "\n",
            "      Epoch    GPU_mem   box_loss   cls_loss   dfl_loss  Instances       Size\n"
          ]
        },
        {
          "output_type": "stream",
          "name": "stderr",
          "text": [
            "      21/50      2.27G      1.424      1.179      1.133         19        640: 100%|██████████| 15/15 [00:04<00:00,  3.31it/s]\n",
            "                 Class     Images  Instances      Box(P          R      mAP50  mAP50-95): 100%|██████████| 3/3 [00:01<00:00,  2.51it/s]"
          ]
        },
        {
          "output_type": "stream",
          "name": "stdout",
          "text": [
            "                   all         68         75      0.935      0.645      0.775      0.446\n"
          ]
        },
        {
          "output_type": "stream",
          "name": "stderr",
          "text": [
            "\n"
          ]
        },
        {
          "output_type": "stream",
          "name": "stdout",
          "text": [
            "\n",
            "      Epoch    GPU_mem   box_loss   cls_loss   dfl_loss  Instances       Size\n"
          ]
        },
        {
          "output_type": "stream",
          "name": "stderr",
          "text": [
            "      22/50      2.27G       1.45      1.255      1.178         17        640: 100%|██████████| 15/15 [00:06<00:00,  2.20it/s]\n",
            "                 Class     Images  Instances      Box(P          R      mAP50  mAP50-95): 100%|██████████| 3/3 [00:01<00:00,  2.36it/s]\n"
          ]
        },
        {
          "output_type": "stream",
          "name": "stdout",
          "text": [
            "                   all         68         75      0.838      0.673      0.782      0.446\n",
            "\n",
            "      Epoch    GPU_mem   box_loss   cls_loss   dfl_loss  Instances       Size\n"
          ]
        },
        {
          "output_type": "stream",
          "name": "stderr",
          "text": [
            "      23/50      2.26G      1.424      1.159      1.158         22        640: 100%|██████████| 15/15 [00:04<00:00,  3.21it/s]\n",
            "                 Class     Images  Instances      Box(P          R      mAP50  mAP50-95): 100%|██████████| 3/3 [00:00<00:00,  3.41it/s]"
          ]
        },
        {
          "output_type": "stream",
          "name": "stdout",
          "text": [
            "                   all         68         75       0.85      0.634      0.732       0.41\n"
          ]
        },
        {
          "output_type": "stream",
          "name": "stderr",
          "text": [
            "\n"
          ]
        },
        {
          "output_type": "stream",
          "name": "stdout",
          "text": [
            "\n",
            "      Epoch    GPU_mem   box_loss   cls_loss   dfl_loss  Instances       Size\n"
          ]
        },
        {
          "output_type": "stream",
          "name": "stderr",
          "text": [
            "      24/50      2.27G      1.434      1.158      1.173         15        640: 100%|██████████| 15/15 [00:05<00:00,  2.52it/s]\n",
            "                 Class     Images  Instances      Box(P          R      mAP50  mAP50-95): 100%|██████████| 3/3 [00:01<00:00,  1.63it/s]"
          ]
        },
        {
          "output_type": "stream",
          "name": "stdout",
          "text": [
            "                   all         68         75      0.802      0.765      0.794      0.433\n"
          ]
        },
        {
          "output_type": "stream",
          "name": "stderr",
          "text": [
            "\n"
          ]
        },
        {
          "output_type": "stream",
          "name": "stdout",
          "text": [
            "\n",
            "      Epoch    GPU_mem   box_loss   cls_loss   dfl_loss  Instances       Size\n"
          ]
        },
        {
          "output_type": "stream",
          "name": "stderr",
          "text": [
            "      25/50      2.27G      1.389      1.114      1.155         26        640: 100%|██████████| 15/15 [00:04<00:00,  3.35it/s]\n",
            "                 Class     Images  Instances      Box(P          R      mAP50  mAP50-95): 100%|██████████| 3/3 [00:01<00:00,  2.86it/s]"
          ]
        },
        {
          "output_type": "stream",
          "name": "stdout",
          "text": [
            "                   all         68         75      0.804      0.724      0.784      0.445\n"
          ]
        },
        {
          "output_type": "stream",
          "name": "stderr",
          "text": [
            "\n"
          ]
        },
        {
          "output_type": "stream",
          "name": "stdout",
          "text": [
            "\n",
            "      Epoch    GPU_mem   box_loss   cls_loss   dfl_loss  Instances       Size\n"
          ]
        },
        {
          "output_type": "stream",
          "name": "stderr",
          "text": [
            "      26/50      2.27G      1.446      1.066      1.177         20        640: 100%|██████████| 15/15 [00:04<00:00,  3.03it/s]\n",
            "                 Class     Images  Instances      Box(P          R      mAP50  mAP50-95): 100%|██████████| 3/3 [00:01<00:00,  1.58it/s]"
          ]
        },
        {
          "output_type": "stream",
          "name": "stdout",
          "text": [
            "                   all         68         75      0.772      0.759      0.786      0.409\n"
          ]
        },
        {
          "output_type": "stream",
          "name": "stderr",
          "text": [
            "\n"
          ]
        },
        {
          "output_type": "stream",
          "name": "stdout",
          "text": [
            "\n",
            "      Epoch    GPU_mem   box_loss   cls_loss   dfl_loss  Instances       Size\n"
          ]
        },
        {
          "output_type": "stream",
          "name": "stderr",
          "text": [
            "      27/50      2.26G      1.417      1.029      1.146         24        640: 100%|██████████| 15/15 [00:04<00:00,  3.19it/s]\n",
            "                 Class     Images  Instances      Box(P          R      mAP50  mAP50-95): 100%|██████████| 3/3 [00:01<00:00,  2.99it/s]"
          ]
        },
        {
          "output_type": "stream",
          "name": "stdout",
          "text": [
            "                   all         68         75      0.766      0.771      0.765      0.394\n"
          ]
        },
        {
          "output_type": "stream",
          "name": "stderr",
          "text": [
            "\n"
          ]
        },
        {
          "output_type": "stream",
          "name": "stdout",
          "text": [
            "\n",
            "      Epoch    GPU_mem   box_loss   cls_loss   dfl_loss  Instances       Size\n"
          ]
        },
        {
          "output_type": "stream",
          "name": "stderr",
          "text": [
            "      28/50      2.27G      1.373      1.018      1.143         22        640: 100%|██████████| 15/15 [00:04<00:00,  3.55it/s]\n",
            "                 Class     Images  Instances      Box(P          R      mAP50  mAP50-95): 100%|██████████| 3/3 [00:01<00:00,  1.89it/s]\n"
          ]
        },
        {
          "output_type": "stream",
          "name": "stdout",
          "text": [
            "                   all         68         75      0.816      0.742      0.792      0.423\n",
            "\n",
            "      Epoch    GPU_mem   box_loss   cls_loss   dfl_loss  Instances       Size\n"
          ]
        },
        {
          "output_type": "stream",
          "name": "stderr",
          "text": [
            "      29/50      2.27G      1.335     0.9658      1.086         27        640: 100%|██████████| 15/15 [00:05<00:00,  2.69it/s]\n",
            "                 Class     Images  Instances      Box(P          R      mAP50  mAP50-95): 100%|██████████| 3/3 [00:00<00:00,  3.12it/s]\n"
          ]
        },
        {
          "output_type": "stream",
          "name": "stdout",
          "text": [
            "                   all         68         75       0.92      0.643      0.758      0.428\n",
            "\n",
            "      Epoch    GPU_mem   box_loss   cls_loss   dfl_loss  Instances       Size\n"
          ]
        },
        {
          "output_type": "stream",
          "name": "stderr",
          "text": [
            "      30/50      2.27G      1.376     0.9428       1.12         21        640: 100%|██████████| 15/15 [00:04<00:00,  3.32it/s]\n",
            "                 Class     Images  Instances      Box(P          R      mAP50  mAP50-95): 100%|██████████| 3/3 [00:01<00:00,  2.48it/s]"
          ]
        },
        {
          "output_type": "stream",
          "name": "stdout",
          "text": [
            "                   all         68         75      0.871      0.655       0.76      0.415\n"
          ]
        },
        {
          "output_type": "stream",
          "name": "stderr",
          "text": [
            "\n"
          ]
        },
        {
          "output_type": "stream",
          "name": "stdout",
          "text": [
            "\n",
            "      Epoch    GPU_mem   box_loss   cls_loss   dfl_loss  Instances       Size\n"
          ]
        },
        {
          "output_type": "stream",
          "name": "stderr",
          "text": [
            "      31/50      2.26G      1.325     0.9911      1.138         27        640: 100%|██████████| 15/15 [00:06<00:00,  2.23it/s]\n",
            "                 Class     Images  Instances      Box(P          R      mAP50  mAP50-95): 100%|██████████| 3/3 [00:01<00:00,  2.63it/s]"
          ]
        },
        {
          "output_type": "stream",
          "name": "stdout",
          "text": [
            "                   all         68         75      0.843      0.651      0.756      0.398\n"
          ]
        },
        {
          "output_type": "stream",
          "name": "stderr",
          "text": [
            "\n"
          ]
        },
        {
          "output_type": "stream",
          "name": "stdout",
          "text": [
            "\n",
            "      Epoch    GPU_mem   box_loss   cls_loss   dfl_loss  Instances       Size\n"
          ]
        },
        {
          "output_type": "stream",
          "name": "stderr",
          "text": [
            "      32/50      2.27G      1.299      0.945      1.113         18        640: 100%|██████████| 15/15 [00:04<00:00,  3.40it/s]\n",
            "                 Class     Images  Instances      Box(P          R      mAP50  mAP50-95): 100%|██████████| 3/3 [00:01<00:00,  2.73it/s]"
          ]
        },
        {
          "output_type": "stream",
          "name": "stdout",
          "text": [
            "                   all         68         75      0.845      0.761      0.801      0.441\n"
          ]
        },
        {
          "output_type": "stream",
          "name": "stderr",
          "text": [
            "\n"
          ]
        },
        {
          "output_type": "stream",
          "name": "stdout",
          "text": [
            "\n",
            "      Epoch    GPU_mem   box_loss   cls_loss   dfl_loss  Instances       Size\n"
          ]
        },
        {
          "output_type": "stream",
          "name": "stderr",
          "text": [
            "      33/50      2.27G      1.349     0.9242       1.11         17        640: 100%|██████████| 15/15 [00:05<00:00,  2.51it/s]\n",
            "                 Class     Images  Instances      Box(P          R      mAP50  mAP50-95): 100%|██████████| 3/3 [00:01<00:00,  1.64it/s]"
          ]
        },
        {
          "output_type": "stream",
          "name": "stdout",
          "text": [
            "                   all         68         75      0.861      0.767      0.813      0.424\n"
          ]
        },
        {
          "output_type": "stream",
          "name": "stderr",
          "text": [
            "\n"
          ]
        },
        {
          "output_type": "stream",
          "name": "stdout",
          "text": [
            "\n",
            "      Epoch    GPU_mem   box_loss   cls_loss   dfl_loss  Instances       Size\n"
          ]
        },
        {
          "output_type": "stream",
          "name": "stderr",
          "text": [
            "      34/50      2.27G      1.291     0.8991      1.096         17        640: 100%|██████████| 15/15 [00:04<00:00,  3.45it/s]\n",
            "                 Class     Images  Instances      Box(P          R      mAP50  mAP50-95): 100%|██████████| 3/3 [00:01<00:00,  2.70it/s]"
          ]
        },
        {
          "output_type": "stream",
          "name": "stdout",
          "text": [
            "                   all         68         75      0.843      0.767       0.81      0.453\n"
          ]
        },
        {
          "output_type": "stream",
          "name": "stderr",
          "text": [
            "\n"
          ]
        },
        {
          "output_type": "stream",
          "name": "stdout",
          "text": [
            "\n",
            "      Epoch    GPU_mem   box_loss   cls_loss   dfl_loss  Instances       Size\n"
          ]
        },
        {
          "output_type": "stream",
          "name": "stderr",
          "text": [
            "      35/50      2.26G      1.379     0.8763      1.121         25        640: 100%|██████████| 15/15 [00:05<00:00,  2.95it/s]\n",
            "                 Class     Images  Instances      Box(P          R      mAP50  mAP50-95): 100%|██████████| 3/3 [00:01<00:00,  1.68it/s]"
          ]
        },
        {
          "output_type": "stream",
          "name": "stdout",
          "text": [
            "                   all         68         75      0.928      0.722       0.83      0.476\n"
          ]
        },
        {
          "output_type": "stream",
          "name": "stderr",
          "text": [
            "\n"
          ]
        },
        {
          "output_type": "stream",
          "name": "stdout",
          "text": [
            "\n",
            "      Epoch    GPU_mem   box_loss   cls_loss   dfl_loss  Instances       Size\n"
          ]
        },
        {
          "output_type": "stream",
          "name": "stderr",
          "text": [
            "      36/50      2.27G      1.289     0.8905      1.134         11        640: 100%|██████████| 15/15 [00:04<00:00,  3.34it/s]\n",
            "                 Class     Images  Instances      Box(P          R      mAP50  mAP50-95): 100%|██████████| 3/3 [00:01<00:00,  2.51it/s]"
          ]
        },
        {
          "output_type": "stream",
          "name": "stdout",
          "text": [
            "                   all         68         75      0.869      0.794      0.837      0.483\n"
          ]
        },
        {
          "output_type": "stream",
          "name": "stderr",
          "text": [
            "\n"
          ]
        },
        {
          "output_type": "stream",
          "name": "stdout",
          "text": [
            "\n",
            "      Epoch    GPU_mem   box_loss   cls_loss   dfl_loss  Instances       Size\n"
          ]
        },
        {
          "output_type": "stream",
          "name": "stderr",
          "text": [
            "      37/50      2.27G      1.252     0.8286       1.06         15        640: 100%|██████████| 15/15 [00:04<00:00,  3.25it/s]\n",
            "                 Class     Images  Instances      Box(P          R      mAP50  mAP50-95): 100%|██████████| 3/3 [00:01<00:00,  1.69it/s]"
          ]
        },
        {
          "output_type": "stream",
          "name": "stdout",
          "text": [
            "                   all         68         75      0.843      0.757      0.808       0.49\n"
          ]
        },
        {
          "output_type": "stream",
          "name": "stderr",
          "text": [
            "\n"
          ]
        },
        {
          "output_type": "stream",
          "name": "stdout",
          "text": [
            "\n",
            "      Epoch    GPU_mem   box_loss   cls_loss   dfl_loss  Instances       Size\n"
          ]
        },
        {
          "output_type": "stream",
          "name": "stderr",
          "text": [
            "      38/50      2.27G      1.226     0.8164      1.073         17        640: 100%|██████████| 15/15 [00:04<00:00,  3.02it/s]\n",
            "                 Class     Images  Instances      Box(P          R      mAP50  mAP50-95): 100%|██████████| 3/3 [00:01<00:00,  2.65it/s]"
          ]
        },
        {
          "output_type": "stream",
          "name": "stdout",
          "text": [
            "                   all         68         75      0.906      0.735      0.826      0.476\n"
          ]
        },
        {
          "output_type": "stream",
          "name": "stderr",
          "text": [
            "\n"
          ]
        },
        {
          "output_type": "stream",
          "name": "stdout",
          "text": [
            "\n",
            "      Epoch    GPU_mem   box_loss   cls_loss   dfl_loss  Instances       Size\n"
          ]
        },
        {
          "output_type": "stream",
          "name": "stderr",
          "text": [
            "      39/50      2.26G      1.233     0.8167      1.062         27        640: 100%|██████████| 15/15 [00:05<00:00,  2.62it/s]\n",
            "                 Class     Images  Instances      Box(P          R      mAP50  mAP50-95): 100%|██████████| 3/3 [00:01<00:00,  1.77it/s]\n"
          ]
        },
        {
          "output_type": "stream",
          "name": "stdout",
          "text": [
            "                   all         68         75      0.914      0.786      0.848      0.471\n",
            "\n",
            "      Epoch    GPU_mem   box_loss   cls_loss   dfl_loss  Instances       Size\n"
          ]
        },
        {
          "output_type": "stream",
          "name": "stderr",
          "text": [
            "      40/50      2.27G      1.254     0.8453      1.091         20        640: 100%|██████████| 15/15 [00:06<00:00,  2.18it/s]\n",
            "                 Class     Images  Instances      Box(P          R      mAP50  mAP50-95): 100%|██████████| 3/3 [00:01<00:00,  2.76it/s]"
          ]
        },
        {
          "output_type": "stream",
          "name": "stdout",
          "text": [
            "                   all         68         75      0.957      0.766      0.855      0.489\n"
          ]
        },
        {
          "output_type": "stream",
          "name": "stderr",
          "text": [
            "\n"
          ]
        },
        {
          "output_type": "stream",
          "name": "stdout",
          "text": [
            "Closing dataloader mosaic\n",
            "\u001b[34m\u001b[1malbumentations: \u001b[0mBlur(p=0.01, blur_limit=(3, 7)), MedianBlur(p=0.01, blur_limit=(3, 7)), ToGray(p=0.01), CLAHE(p=0.01, clip_limit=(1, 4.0), tile_grid_size=(8, 8))\n",
            "\n",
            "      Epoch    GPU_mem   box_loss   cls_loss   dfl_loss  Instances       Size\n"
          ]
        },
        {
          "output_type": "stream",
          "name": "stderr",
          "text": [
            "      41/50      2.27G      1.144     0.8312      1.106         14        640: 100%|██████████| 15/15 [00:06<00:00,  2.31it/s]\n",
            "                 Class     Images  Instances      Box(P          R      mAP50  mAP50-95): 100%|██████████| 3/3 [00:01<00:00,  2.09it/s]"
          ]
        },
        {
          "output_type": "stream",
          "name": "stdout",
          "text": [
            "                   all         68         75      0.951      0.744      0.834      0.478\n"
          ]
        },
        {
          "output_type": "stream",
          "name": "stderr",
          "text": [
            "\n"
          ]
        },
        {
          "output_type": "stream",
          "name": "stdout",
          "text": [
            "\n",
            "      Epoch    GPU_mem   box_loss   cls_loss   dfl_loss  Instances       Size\n"
          ]
        },
        {
          "output_type": "stream",
          "name": "stderr",
          "text": [
            "      42/50      2.27G      1.149     0.7773      1.077         14        640: 100%|██████████| 15/15 [00:05<00:00,  2.99it/s]\n",
            "                 Class     Images  Instances      Box(P          R      mAP50  mAP50-95): 100%|██████████| 3/3 [00:01<00:00,  2.67it/s]"
          ]
        },
        {
          "output_type": "stream",
          "name": "stdout",
          "text": [
            "                   all         68         75      0.902       0.74      0.816      0.481\n"
          ]
        },
        {
          "output_type": "stream",
          "name": "stderr",
          "text": [
            "\n"
          ]
        },
        {
          "output_type": "stream",
          "name": "stdout",
          "text": [
            "\n",
            "      Epoch    GPU_mem   box_loss   cls_loss   dfl_loss  Instances       Size\n"
          ]
        },
        {
          "output_type": "stream",
          "name": "stderr",
          "text": [
            "      43/50      2.27G      1.147      0.816        1.1         14        640: 100%|██████████| 15/15 [00:03<00:00,  4.03it/s]\n",
            "                 Class     Images  Instances      Box(P          R      mAP50  mAP50-95): 100%|██████████| 3/3 [00:01<00:00,  2.63it/s]"
          ]
        },
        {
          "output_type": "stream",
          "name": "stdout",
          "text": [
            "                   all         68         75      0.917      0.727      0.807      0.468\n"
          ]
        },
        {
          "output_type": "stream",
          "name": "stderr",
          "text": [
            "\n"
          ]
        },
        {
          "output_type": "stream",
          "name": "stdout",
          "text": [
            "\n",
            "      Epoch    GPU_mem   box_loss   cls_loss   dfl_loss  Instances       Size\n"
          ]
        },
        {
          "output_type": "stream",
          "name": "stderr",
          "text": [
            "      44/50      2.28G      1.122     0.7586      1.088         13        640: 100%|██████████| 15/15 [00:05<00:00,  2.65it/s]\n",
            "                 Class     Images  Instances      Box(P          R      mAP50  mAP50-95): 100%|██████████| 3/3 [00:01<00:00,  2.07it/s]"
          ]
        },
        {
          "output_type": "stream",
          "name": "stdout",
          "text": [
            "                   all         68         75      0.888      0.766      0.826       0.47\n"
          ]
        },
        {
          "output_type": "stream",
          "name": "stderr",
          "text": [
            "\n"
          ]
        },
        {
          "output_type": "stream",
          "name": "stdout",
          "text": [
            "\n",
            "      Epoch    GPU_mem   box_loss   cls_loss   dfl_loss  Instances       Size\n"
          ]
        },
        {
          "output_type": "stream",
          "name": "stderr",
          "text": [
            "      45/50      2.27G      1.107     0.7633      1.076         13        640: 100%|██████████| 15/15 [00:04<00:00,  3.73it/s]\n",
            "                 Class     Images  Instances      Box(P          R      mAP50  mAP50-95): 100%|██████████| 3/3 [00:01<00:00,  2.66it/s]"
          ]
        },
        {
          "output_type": "stream",
          "name": "stdout",
          "text": [
            "                   all         68         75      0.874       0.78      0.833      0.473\n"
          ]
        },
        {
          "output_type": "stream",
          "name": "stderr",
          "text": [
            "\n"
          ]
        },
        {
          "output_type": "stream",
          "name": "stdout",
          "text": [
            "\n",
            "      Epoch    GPU_mem   box_loss   cls_loss   dfl_loss  Instances       Size\n"
          ]
        },
        {
          "output_type": "stream",
          "name": "stderr",
          "text": [
            "      46/50      2.27G      1.102     0.7405      1.056         13        640: 100%|██████████| 15/15 [00:03<00:00,  3.84it/s]\n",
            "                 Class     Images  Instances      Box(P          R      mAP50  mAP50-95): 100%|██████████| 3/3 [00:01<00:00,  1.74it/s]"
          ]
        },
        {
          "output_type": "stream",
          "name": "stdout",
          "text": [
            "                   all         68         75      0.869       0.78      0.829      0.463\n"
          ]
        },
        {
          "output_type": "stream",
          "name": "stderr",
          "text": [
            "\n"
          ]
        },
        {
          "output_type": "stream",
          "name": "stdout",
          "text": [
            "\n",
            "      Epoch    GPU_mem   box_loss   cls_loss   dfl_loss  Instances       Size\n"
          ]
        },
        {
          "output_type": "stream",
          "name": "stderr",
          "text": [
            "      47/50      2.27G      1.102      0.751      1.069         14        640: 100%|██████████| 15/15 [00:04<00:00,  3.12it/s]\n",
            "                 Class     Images  Instances      Box(P          R      mAP50  mAP50-95): 100%|██████████| 3/3 [00:01<00:00,  2.61it/s]"
          ]
        },
        {
          "output_type": "stream",
          "name": "stdout",
          "text": [
            "                   all         68         75      0.947      0.777      0.855      0.482\n"
          ]
        },
        {
          "output_type": "stream",
          "name": "stderr",
          "text": [
            "\n"
          ]
        },
        {
          "output_type": "stream",
          "name": "stdout",
          "text": [
            "\n",
            "      Epoch    GPU_mem   box_loss   cls_loss   dfl_loss  Instances       Size\n"
          ]
        },
        {
          "output_type": "stream",
          "name": "stderr",
          "text": [
            "      48/50      2.28G       1.07     0.7383      1.055         14        640: 100%|██████████| 15/15 [00:03<00:00,  4.00it/s]\n",
            "                 Class     Images  Instances      Box(P          R      mAP50  mAP50-95): 100%|██████████| 3/3 [00:01<00:00,  2.46it/s]"
          ]
        },
        {
          "output_type": "stream",
          "name": "stdout",
          "text": [
            "                   all         68         75      0.946       0.78      0.856      0.484\n"
          ]
        },
        {
          "output_type": "stream",
          "name": "stderr",
          "text": [
            "\n"
          ]
        },
        {
          "output_type": "stream",
          "name": "stdout",
          "text": [
            "\n",
            "      Epoch    GPU_mem   box_loss   cls_loss   dfl_loss  Instances       Size\n"
          ]
        },
        {
          "output_type": "stream",
          "name": "stderr",
          "text": [
            "      49/50      2.27G      1.055     0.7232      1.073         14        640: 100%|██████████| 15/15 [00:06<00:00,  2.47it/s]\n",
            "                 Class     Images  Instances      Box(P          R      mAP50  mAP50-95): 100%|██████████| 3/3 [00:01<00:00,  2.37it/s]"
          ]
        },
        {
          "output_type": "stream",
          "name": "stdout",
          "text": [
            "                   all         68         75      0.904       0.79      0.854      0.491\n"
          ]
        },
        {
          "output_type": "stream",
          "name": "stderr",
          "text": [
            "\n"
          ]
        },
        {
          "output_type": "stream",
          "name": "stdout",
          "text": [
            "\n",
            "      Epoch    GPU_mem   box_loss   cls_loss   dfl_loss  Instances       Size\n"
          ]
        },
        {
          "output_type": "stream",
          "name": "stderr",
          "text": [
            "      50/50      2.27G      1.061     0.7021      1.065         14        640: 100%|██████████| 15/15 [00:03<00:00,  4.07it/s]\n",
            "                 Class     Images  Instances      Box(P          R      mAP50  mAP50-95): 100%|██████████| 3/3 [00:01<00:00,  2.55it/s]"
          ]
        },
        {
          "output_type": "stream",
          "name": "stdout",
          "text": [
            "                   all         68         75      0.877      0.805      0.843      0.497\n"
          ]
        },
        {
          "output_type": "stream",
          "name": "stderr",
          "text": [
            "\n"
          ]
        },
        {
          "output_type": "stream",
          "name": "stdout",
          "text": [
            "\n",
            "50 epochs completed in 0.106 hours.\n",
            "Optimizer stripped from runs/detect/train/weights/last.pt, 6.3MB\n",
            "Optimizer stripped from runs/detect/train/weights/best.pt, 6.3MB\n",
            "\n",
            "Validating runs/detect/train/weights/best.pt...\n",
            "Ultralytics YOLOv8.0.231 🚀 Python-3.10.12 torch-2.1.0+cu121 CUDA:0 (Tesla T4, 15102MiB)\n",
            "Model summary (fused): 168 layers, 3006038 parameters, 0 gradients, 8.1 GFLOPs\n"
          ]
        },
        {
          "output_type": "stream",
          "name": "stderr",
          "text": [
            "                 Class     Images  Instances      Box(P          R      mAP50  mAP50-95): 100%|██████████| 3/3 [00:01<00:00,  2.98it/s]\n"
          ]
        },
        {
          "output_type": "stream",
          "name": "stdout",
          "text": [
            "                   all         68         75      0.878      0.806      0.843      0.496\n",
            "              atm-card         68         39      0.904      0.974      0.974        0.6\n",
            "                  note         68         36      0.852      0.638      0.712      0.392\n",
            "Speed: 0.3ms preprocess, 2.8ms inference, 0.0ms loss, 2.1ms postprocess per image\n",
            "Results saved to \u001b[1mruns/detect/train\u001b[0m\n",
            "Ultralytics YOLOv8.0.231 🚀 Python-3.10.12 torch-2.1.0+cu121 CUDA:0 (Tesla T4, 15102MiB)\n",
            "Model summary (fused): 168 layers, 3006038 parameters, 0 gradients, 8.1 GFLOPs\n"
          ]
        },
        {
          "output_type": "stream",
          "name": "stderr",
          "text": [
            "\u001b[34m\u001b[1mval: \u001b[0mScanning /content/drive/MyDrive/cash_training/Currency-Identification-Smart-Glasses.v1i.yolov8/valid/labels.cache... 68 images, 0 backgrounds, 0 corrupt: 100%|██████████| 68/68 [00:00<?, ?it/s]\n",
            "                 Class     Images  Instances      Box(P          R      mAP50  mAP50-95): 100%|██████████| 5/5 [00:03<00:00,  1.46it/s]\n"
          ]
        },
        {
          "output_type": "stream",
          "name": "stdout",
          "text": [
            "                   all         68         75      0.883      0.807      0.843      0.496\n",
            "              atm-card         68         39      0.915      0.974      0.974        0.6\n",
            "                  note         68         36      0.851      0.639      0.712      0.392\n",
            "Speed: 0.8ms preprocess, 16.7ms inference, 0.0ms loss, 3.7ms postprocess per image\n",
            "Results saved to \u001b[1mruns/detect/train2\u001b[0m\n"
          ]
        }
      ]
    },
    {
      "cell_type": "code",
      "source": [
        "# Load a pretrained YOLOv8n model\n",
        "model = YOLO('/content/runs/detect/train/weights/best.pt')\n",
        "\n",
        "# Define path to the image file\n",
        "# source = '/content/drive/MyDrive/cash_training/Currency-Identification-Smart-Glasses.v1i.yolov8/frame_3229.jpg'\n",
        "source = '/content/drive/MyDrive/cash_training/Currency-Identification-Smart-Glasses.v1i.yolov8/test2.mp4'\n",
        "\n",
        "# Run inference on 'bus.jpg' with arguments\n",
        "results=model.predict(source, save=True, imgsz=320, conf=0.1)\n",
        "\n"
      ],
      "metadata": {
        "colab": {
          "base_uri": "https://localhost:8080/"
        },
        "id": "QEfgy2_uUw8n",
        "outputId": "7c66ec52-2d88-46fc-c7bb-cb2104b4ff28"
      },
      "execution_count": null,
      "outputs": [
        {
          "output_type": "stream",
          "name": "stdout",
          "text": [
            "\n",
            "\n",
            "WARNING ⚠️ inference results will accumulate in RAM unless `stream=True` is passed, causing potential out-of-memory\n",
            "errors for large sources or long-running streams and videos. See https://docs.ultralytics.com/modes/predict/ for help.\n",
            "\n",
            "Example:\n",
            "    results = model(source=..., stream=True)  # generator of Results objects\n",
            "    for r in results:\n",
            "        boxes = r.boxes  # Boxes object for bbox outputs\n",
            "        masks = r.masks  # Masks object for segment masks outputs\n",
            "        probs = r.probs  # Class probabilities for classification outputs\n",
            "\n",
            "video 1/1 (1/1395) /content/drive/MyDrive/cash_training/Currency-Identification-Smart-Glasses.v1i.yolov8/test2.mp4: 192x320 (no detections), 14.6ms\n",
            "video 1/1 (2/1395) /content/drive/MyDrive/cash_training/Currency-Identification-Smart-Glasses.v1i.yolov8/test2.mp4: 192x320 (no detections), 20.0ms\n",
            "video 1/1 (3/1395) /content/drive/MyDrive/cash_training/Currency-Identification-Smart-Glasses.v1i.yolov8/test2.mp4: 192x320 (no detections), 12.5ms\n",
            "video 1/1 (4/1395) /content/drive/MyDrive/cash_training/Currency-Identification-Smart-Glasses.v1i.yolov8/test2.mp4: 192x320 1 note, 8.4ms\n",
            "video 1/1 (5/1395) /content/drive/MyDrive/cash_training/Currency-Identification-Smart-Glasses.v1i.yolov8/test2.mp4: 192x320 1 note, 8.7ms\n",
            "video 1/1 (6/1395) /content/drive/MyDrive/cash_training/Currency-Identification-Smart-Glasses.v1i.yolov8/test2.mp4: 192x320 1 note, 8.2ms\n",
            "video 1/1 (7/1395) /content/drive/MyDrive/cash_training/Currency-Identification-Smart-Glasses.v1i.yolov8/test2.mp4: 192x320 1 note, 8.4ms\n",
            "video 1/1 (8/1395) /content/drive/MyDrive/cash_training/Currency-Identification-Smart-Glasses.v1i.yolov8/test2.mp4: 192x320 1 note, 9.3ms\n",
            "video 1/1 (9/1395) /content/drive/MyDrive/cash_training/Currency-Identification-Smart-Glasses.v1i.yolov8/test2.mp4: 192x320 1 note, 8.8ms\n",
            "video 1/1 (10/1395) /content/drive/MyDrive/cash_training/Currency-Identification-Smart-Glasses.v1i.yolov8/test2.mp4: 192x320 1 note, 11.9ms\n",
            "video 1/1 (11/1395) /content/drive/MyDrive/cash_training/Currency-Identification-Smart-Glasses.v1i.yolov8/test2.mp4: 192x320 1 note, 8.6ms\n",
            "video 1/1 (12/1395) /content/drive/MyDrive/cash_training/Currency-Identification-Smart-Glasses.v1i.yolov8/test2.mp4: 192x320 1 note, 8.6ms\n",
            "video 1/1 (13/1395) /content/drive/MyDrive/cash_training/Currency-Identification-Smart-Glasses.v1i.yolov8/test2.mp4: 192x320 1 note, 8.6ms\n",
            "video 1/1 (14/1395) /content/drive/MyDrive/cash_training/Currency-Identification-Smart-Glasses.v1i.yolov8/test2.mp4: 192x320 1 note, 10.7ms\n",
            "video 1/1 (15/1395) /content/drive/MyDrive/cash_training/Currency-Identification-Smart-Glasses.v1i.yolov8/test2.mp4: 192x320 1 note, 8.6ms\n",
            "video 1/1 (16/1395) /content/drive/MyDrive/cash_training/Currency-Identification-Smart-Glasses.v1i.yolov8/test2.mp4: 192x320 1 note, 9.1ms\n",
            "video 1/1 (17/1395) /content/drive/MyDrive/cash_training/Currency-Identification-Smart-Glasses.v1i.yolov8/test2.mp4: 192x320 1 note, 9.0ms\n",
            "video 1/1 (18/1395) /content/drive/MyDrive/cash_training/Currency-Identification-Smart-Glasses.v1i.yolov8/test2.mp4: 192x320 1 note, 10.5ms\n",
            "video 1/1 (19/1395) /content/drive/MyDrive/cash_training/Currency-Identification-Smart-Glasses.v1i.yolov8/test2.mp4: 192x320 1 note, 8.6ms\n",
            "video 1/1 (20/1395) /content/drive/MyDrive/cash_training/Currency-Identification-Smart-Glasses.v1i.yolov8/test2.mp4: 192x320 1 note, 8.4ms\n",
            "video 1/1 (21/1395) /content/drive/MyDrive/cash_training/Currency-Identification-Smart-Glasses.v1i.yolov8/test2.mp4: 192x320 1 note, 8.2ms\n",
            "video 1/1 (22/1395) /content/drive/MyDrive/cash_training/Currency-Identification-Smart-Glasses.v1i.yolov8/test2.mp4: 192x320 1 note, 11.2ms\n",
            "video 1/1 (23/1395) /content/drive/MyDrive/cash_training/Currency-Identification-Smart-Glasses.v1i.yolov8/test2.mp4: 192x320 1 note, 9.7ms\n",
            "video 1/1 (24/1395) /content/drive/MyDrive/cash_training/Currency-Identification-Smart-Glasses.v1i.yolov8/test2.mp4: 192x320 1 note, 11.9ms\n",
            "video 1/1 (25/1395) /content/drive/MyDrive/cash_training/Currency-Identification-Smart-Glasses.v1i.yolov8/test2.mp4: 192x320 1 note, 8.5ms\n",
            "video 1/1 (26/1395) /content/drive/MyDrive/cash_training/Currency-Identification-Smart-Glasses.v1i.yolov8/test2.mp4: 192x320 1 note, 14.4ms\n",
            "video 1/1 (27/1395) /content/drive/MyDrive/cash_training/Currency-Identification-Smart-Glasses.v1i.yolov8/test2.mp4: 192x320 1 note, 8.6ms\n",
            "video 1/1 (28/1395) /content/drive/MyDrive/cash_training/Currency-Identification-Smart-Glasses.v1i.yolov8/test2.mp4: 192x320 1 note, 8.5ms\n",
            "video 1/1 (29/1395) /content/drive/MyDrive/cash_training/Currency-Identification-Smart-Glasses.v1i.yolov8/test2.mp4: 192x320 1 note, 11.7ms\n",
            "video 1/1 (30/1395) /content/drive/MyDrive/cash_training/Currency-Identification-Smart-Glasses.v1i.yolov8/test2.mp4: 192x320 1 note, 14.0ms\n",
            "video 1/1 (31/1395) /content/drive/MyDrive/cash_training/Currency-Identification-Smart-Glasses.v1i.yolov8/test2.mp4: 192x320 1 note, 11.4ms\n",
            "video 1/1 (32/1395) /content/drive/MyDrive/cash_training/Currency-Identification-Smart-Glasses.v1i.yolov8/test2.mp4: 192x320 1 note, 9.7ms\n",
            "video 1/1 (33/1395) /content/drive/MyDrive/cash_training/Currency-Identification-Smart-Glasses.v1i.yolov8/test2.mp4: 192x320 1 note, 10.7ms\n",
            "video 1/1 (34/1395) /content/drive/MyDrive/cash_training/Currency-Identification-Smart-Glasses.v1i.yolov8/test2.mp4: 192x320 1 note, 8.8ms\n",
            "video 1/1 (35/1395) /content/drive/MyDrive/cash_training/Currency-Identification-Smart-Glasses.v1i.yolov8/test2.mp4: 192x320 1 note, 10.1ms\n",
            "video 1/1 (36/1395) /content/drive/MyDrive/cash_training/Currency-Identification-Smart-Glasses.v1i.yolov8/test2.mp4: 192x320 1 note, 8.7ms\n",
            "video 1/1 (37/1395) /content/drive/MyDrive/cash_training/Currency-Identification-Smart-Glasses.v1i.yolov8/test2.mp4: 192x320 1 note, 11.3ms\n",
            "video 1/1 (38/1395) /content/drive/MyDrive/cash_training/Currency-Identification-Smart-Glasses.v1i.yolov8/test2.mp4: 192x320 (no detections), 8.4ms\n",
            "video 1/1 (39/1395) /content/drive/MyDrive/cash_training/Currency-Identification-Smart-Glasses.v1i.yolov8/test2.mp4: 192x320 (no detections), 13.5ms\n",
            "video 1/1 (40/1395) /content/drive/MyDrive/cash_training/Currency-Identification-Smart-Glasses.v1i.yolov8/test2.mp4: 192x320 (no detections), 8.8ms\n",
            "video 1/1 (41/1395) /content/drive/MyDrive/cash_training/Currency-Identification-Smart-Glasses.v1i.yolov8/test2.mp4: 192x320 (no detections), 12.5ms\n",
            "video 1/1 (42/1395) /content/drive/MyDrive/cash_training/Currency-Identification-Smart-Glasses.v1i.yolov8/test2.mp4: 192x320 (no detections), 9.1ms\n",
            "video 1/1 (43/1395) /content/drive/MyDrive/cash_training/Currency-Identification-Smart-Glasses.v1i.yolov8/test2.mp4: 192x320 (no detections), 12.1ms\n",
            "video 1/1 (44/1395) /content/drive/MyDrive/cash_training/Currency-Identification-Smart-Glasses.v1i.yolov8/test2.mp4: 192x320 (no detections), 8.6ms\n",
            "video 1/1 (45/1395) /content/drive/MyDrive/cash_training/Currency-Identification-Smart-Glasses.v1i.yolov8/test2.mp4: 192x320 (no detections), 11.7ms\n",
            "video 1/1 (46/1395) /content/drive/MyDrive/cash_training/Currency-Identification-Smart-Glasses.v1i.yolov8/test2.mp4: 192x320 (no detections), 8.6ms\n",
            "video 1/1 (47/1395) /content/drive/MyDrive/cash_training/Currency-Identification-Smart-Glasses.v1i.yolov8/test2.mp4: 192x320 (no detections), 8.6ms\n",
            "video 1/1 (48/1395) /content/drive/MyDrive/cash_training/Currency-Identification-Smart-Glasses.v1i.yolov8/test2.mp4: 192x320 (no detections), 12.0ms\n",
            "video 1/1 (49/1395) /content/drive/MyDrive/cash_training/Currency-Identification-Smart-Glasses.v1i.yolov8/test2.mp4: 192x320 (no detections), 9.0ms\n",
            "video 1/1 (50/1395) /content/drive/MyDrive/cash_training/Currency-Identification-Smart-Glasses.v1i.yolov8/test2.mp4: 192x320 (no detections), 8.5ms\n",
            "video 1/1 (51/1395) /content/drive/MyDrive/cash_training/Currency-Identification-Smart-Glasses.v1i.yolov8/test2.mp4: 192x320 (no detections), 9.0ms\n",
            "video 1/1 (52/1395) /content/drive/MyDrive/cash_training/Currency-Identification-Smart-Glasses.v1i.yolov8/test2.mp4: 192x320 (no detections), 10.9ms\n",
            "video 1/1 (53/1395) /content/drive/MyDrive/cash_training/Currency-Identification-Smart-Glasses.v1i.yolov8/test2.mp4: 192x320 (no detections), 12.1ms\n",
            "video 1/1 (54/1395) /content/drive/MyDrive/cash_training/Currency-Identification-Smart-Glasses.v1i.yolov8/test2.mp4: 192x320 (no detections), 11.8ms\n",
            "video 1/1 (55/1395) /content/drive/MyDrive/cash_training/Currency-Identification-Smart-Glasses.v1i.yolov8/test2.mp4: 192x320 (no detections), 8.3ms\n",
            "video 1/1 (56/1395) /content/drive/MyDrive/cash_training/Currency-Identification-Smart-Glasses.v1i.yolov8/test2.mp4: 192x320 (no detections), 9.1ms\n",
            "video 1/1 (57/1395) /content/drive/MyDrive/cash_training/Currency-Identification-Smart-Glasses.v1i.yolov8/test2.mp4: 192x320 (no detections), 8.1ms\n",
            "video 1/1 (58/1395) /content/drive/MyDrive/cash_training/Currency-Identification-Smart-Glasses.v1i.yolov8/test2.mp4: 192x320 (no detections), 10.1ms\n",
            "video 1/1 (59/1395) /content/drive/MyDrive/cash_training/Currency-Identification-Smart-Glasses.v1i.yolov8/test2.mp4: 192x320 (no detections), 8.3ms\n",
            "video 1/1 (60/1395) /content/drive/MyDrive/cash_training/Currency-Identification-Smart-Glasses.v1i.yolov8/test2.mp4: 192x320 (no detections), 13.6ms\n",
            "video 1/1 (61/1395) /content/drive/MyDrive/cash_training/Currency-Identification-Smart-Glasses.v1i.yolov8/test2.mp4: 192x320 (no detections), 8.8ms\n",
            "video 1/1 (62/1395) /content/drive/MyDrive/cash_training/Currency-Identification-Smart-Glasses.v1i.yolov8/test2.mp4: 192x320 (no detections), 11.5ms\n",
            "video 1/1 (63/1395) /content/drive/MyDrive/cash_training/Currency-Identification-Smart-Glasses.v1i.yolov8/test2.mp4: 192x320 (no detections), 8.7ms\n",
            "video 1/1 (64/1395) /content/drive/MyDrive/cash_training/Currency-Identification-Smart-Glasses.v1i.yolov8/test2.mp4: 192x320 (no detections), 9.7ms\n",
            "video 1/1 (65/1395) /content/drive/MyDrive/cash_training/Currency-Identification-Smart-Glasses.v1i.yolov8/test2.mp4: 192x320 (no detections), 8.9ms\n",
            "video 1/1 (66/1395) /content/drive/MyDrive/cash_training/Currency-Identification-Smart-Glasses.v1i.yolov8/test2.mp4: 192x320 (no detections), 19.6ms\n",
            "video 1/1 (67/1395) /content/drive/MyDrive/cash_training/Currency-Identification-Smart-Glasses.v1i.yolov8/test2.mp4: 192x320 (no detections), 8.7ms\n",
            "video 1/1 (68/1395) /content/drive/MyDrive/cash_training/Currency-Identification-Smart-Glasses.v1i.yolov8/test2.mp4: 192x320 (no detections), 8.2ms\n",
            "video 1/1 (69/1395) /content/drive/MyDrive/cash_training/Currency-Identification-Smart-Glasses.v1i.yolov8/test2.mp4: 192x320 1 note, 9.4ms\n",
            "video 1/1 (70/1395) /content/drive/MyDrive/cash_training/Currency-Identification-Smart-Glasses.v1i.yolov8/test2.mp4: 192x320 1 note, 9.8ms\n",
            "video 1/1 (71/1395) /content/drive/MyDrive/cash_training/Currency-Identification-Smart-Glasses.v1i.yolov8/test2.mp4: 192x320 1 note, 8.5ms\n",
            "video 1/1 (72/1395) /content/drive/MyDrive/cash_training/Currency-Identification-Smart-Glasses.v1i.yolov8/test2.mp4: 192x320 1 note, 12.0ms\n",
            "video 1/1 (73/1395) /content/drive/MyDrive/cash_training/Currency-Identification-Smart-Glasses.v1i.yolov8/test2.mp4: 192x320 1 note, 9.1ms\n",
            "video 1/1 (74/1395) /content/drive/MyDrive/cash_training/Currency-Identification-Smart-Glasses.v1i.yolov8/test2.mp4: 192x320 1 note, 8.9ms\n",
            "video 1/1 (75/1395) /content/drive/MyDrive/cash_training/Currency-Identification-Smart-Glasses.v1i.yolov8/test2.mp4: 192x320 1 note, 9.1ms\n",
            "video 1/1 (76/1395) /content/drive/MyDrive/cash_training/Currency-Identification-Smart-Glasses.v1i.yolov8/test2.mp4: 192x320 1 note, 10.4ms\n",
            "video 1/1 (77/1395) /content/drive/MyDrive/cash_training/Currency-Identification-Smart-Glasses.v1i.yolov8/test2.mp4: 192x320 1 note, 9.7ms\n",
            "video 1/1 (78/1395) /content/drive/MyDrive/cash_training/Currency-Identification-Smart-Glasses.v1i.yolov8/test2.mp4: 192x320 1 note, 10.4ms\n",
            "video 1/1 (79/1395) /content/drive/MyDrive/cash_training/Currency-Identification-Smart-Glasses.v1i.yolov8/test2.mp4: 192x320 1 note, 9.7ms\n",
            "video 1/1 (80/1395) /content/drive/MyDrive/cash_training/Currency-Identification-Smart-Glasses.v1i.yolov8/test2.mp4: 192x320 1 note, 8.6ms\n",
            "video 1/1 (81/1395) /content/drive/MyDrive/cash_training/Currency-Identification-Smart-Glasses.v1i.yolov8/test2.mp4: 192x320 1 atm-card, 1 note, 9.3ms\n",
            "video 1/1 (82/1395) /content/drive/MyDrive/cash_training/Currency-Identification-Smart-Glasses.v1i.yolov8/test2.mp4: 192x320 1 note, 10.3ms\n",
            "video 1/1 (83/1395) /content/drive/MyDrive/cash_training/Currency-Identification-Smart-Glasses.v1i.yolov8/test2.mp4: 192x320 1 note, 10.0ms\n",
            "video 1/1 (84/1395) /content/drive/MyDrive/cash_training/Currency-Identification-Smart-Glasses.v1i.yolov8/test2.mp4: 192x320 1 note, 9.2ms\n",
            "video 1/1 (85/1395) /content/drive/MyDrive/cash_training/Currency-Identification-Smart-Glasses.v1i.yolov8/test2.mp4: 192x320 (no detections), 16.8ms\n",
            "video 1/1 (86/1395) /content/drive/MyDrive/cash_training/Currency-Identification-Smart-Glasses.v1i.yolov8/test2.mp4: 192x320 (no detections), 8.7ms\n",
            "video 1/1 (87/1395) /content/drive/MyDrive/cash_training/Currency-Identification-Smart-Glasses.v1i.yolov8/test2.mp4: 192x320 (no detections), 10.0ms\n",
            "video 1/1 (88/1395) /content/drive/MyDrive/cash_training/Currency-Identification-Smart-Glasses.v1i.yolov8/test2.mp4: 192x320 (no detections), 12.2ms\n",
            "video 1/1 (89/1395) /content/drive/MyDrive/cash_training/Currency-Identification-Smart-Glasses.v1i.yolov8/test2.mp4: 192x320 (no detections), 8.5ms\n",
            "video 1/1 (90/1395) /content/drive/MyDrive/cash_training/Currency-Identification-Smart-Glasses.v1i.yolov8/test2.mp4: 192x320 (no detections), 12.2ms\n",
            "video 1/1 (91/1395) /content/drive/MyDrive/cash_training/Currency-Identification-Smart-Glasses.v1i.yolov8/test2.mp4: 192x320 1 note, 9.6ms\n",
            "video 1/1 (92/1395) /content/drive/MyDrive/cash_training/Currency-Identification-Smart-Glasses.v1i.yolov8/test2.mp4: 192x320 1 note, 11.8ms\n",
            "video 1/1 (93/1395) /content/drive/MyDrive/cash_training/Currency-Identification-Smart-Glasses.v1i.yolov8/test2.mp4: 192x320 1 note, 8.1ms\n",
            "video 1/1 (94/1395) /content/drive/MyDrive/cash_training/Currency-Identification-Smart-Glasses.v1i.yolov8/test2.mp4: 192x320 1 note, 11.6ms\n",
            "video 1/1 (95/1395) /content/drive/MyDrive/cash_training/Currency-Identification-Smart-Glasses.v1i.yolov8/test2.mp4: 192x320 1 note, 9.2ms\n",
            "video 1/1 (96/1395) /content/drive/MyDrive/cash_training/Currency-Identification-Smart-Glasses.v1i.yolov8/test2.mp4: 192x320 1 note, 11.1ms\n",
            "video 1/1 (97/1395) /content/drive/MyDrive/cash_training/Currency-Identification-Smart-Glasses.v1i.yolov8/test2.mp4: 192x320 (no detections), 14.8ms\n",
            "video 1/1 (98/1395) /content/drive/MyDrive/cash_training/Currency-Identification-Smart-Glasses.v1i.yolov8/test2.mp4: 192x320 (no detections), 14.4ms\n",
            "video 1/1 (99/1395) /content/drive/MyDrive/cash_training/Currency-Identification-Smart-Glasses.v1i.yolov8/test2.mp4: 192x320 (no detections), 8.9ms\n",
            "video 1/1 (100/1395) /content/drive/MyDrive/cash_training/Currency-Identification-Smart-Glasses.v1i.yolov8/test2.mp4: 192x320 (no detections), 23.9ms\n",
            "video 1/1 (101/1395) /content/drive/MyDrive/cash_training/Currency-Identification-Smart-Glasses.v1i.yolov8/test2.mp4: 192x320 (no detections), 17.5ms\n",
            "video 1/1 (102/1395) /content/drive/MyDrive/cash_training/Currency-Identification-Smart-Glasses.v1i.yolov8/test2.mp4: 192x320 (no detections), 18.8ms\n",
            "video 1/1 (103/1395) /content/drive/MyDrive/cash_training/Currency-Identification-Smart-Glasses.v1i.yolov8/test2.mp4: 192x320 (no detections), 19.5ms\n",
            "video 1/1 (104/1395) /content/drive/MyDrive/cash_training/Currency-Identification-Smart-Glasses.v1i.yolov8/test2.mp4: 192x320 (no detections), 12.0ms\n",
            "video 1/1 (105/1395) /content/drive/MyDrive/cash_training/Currency-Identification-Smart-Glasses.v1i.yolov8/test2.mp4: 192x320 1 note, 11.3ms\n",
            "video 1/1 (106/1395) /content/drive/MyDrive/cash_training/Currency-Identification-Smart-Glasses.v1i.yolov8/test2.mp4: 192x320 1 note, 17.3ms\n",
            "video 1/1 (107/1395) /content/drive/MyDrive/cash_training/Currency-Identification-Smart-Glasses.v1i.yolov8/test2.mp4: 192x320 1 note, 13.8ms\n",
            "video 1/1 (108/1395) /content/drive/MyDrive/cash_training/Currency-Identification-Smart-Glasses.v1i.yolov8/test2.mp4: 192x320 1 note, 14.4ms\n",
            "video 1/1 (109/1395) /content/drive/MyDrive/cash_training/Currency-Identification-Smart-Glasses.v1i.yolov8/test2.mp4: 192x320 1 note, 11.3ms\n",
            "video 1/1 (110/1395) /content/drive/MyDrive/cash_training/Currency-Identification-Smart-Glasses.v1i.yolov8/test2.mp4: 192x320 1 note, 13.2ms\n",
            "video 1/1 (111/1395) /content/drive/MyDrive/cash_training/Currency-Identification-Smart-Glasses.v1i.yolov8/test2.mp4: 192x320 1 note, 11.0ms\n",
            "video 1/1 (112/1395) /content/drive/MyDrive/cash_training/Currency-Identification-Smart-Glasses.v1i.yolov8/test2.mp4: 192x320 1 note, 13.2ms\n",
            "video 1/1 (113/1395) /content/drive/MyDrive/cash_training/Currency-Identification-Smart-Glasses.v1i.yolov8/test2.mp4: 192x320 1 note, 12.8ms\n",
            "video 1/1 (114/1395) /content/drive/MyDrive/cash_training/Currency-Identification-Smart-Glasses.v1i.yolov8/test2.mp4: 192x320 1 note, 15.0ms\n",
            "video 1/1 (115/1395) /content/drive/MyDrive/cash_training/Currency-Identification-Smart-Glasses.v1i.yolov8/test2.mp4: 192x320 1 note, 10.9ms\n",
            "video 1/1 (116/1395) /content/drive/MyDrive/cash_training/Currency-Identification-Smart-Glasses.v1i.yolov8/test2.mp4: 192x320 1 note, 11.9ms\n",
            "video 1/1 (117/1395) /content/drive/MyDrive/cash_training/Currency-Identification-Smart-Glasses.v1i.yolov8/test2.mp4: 192x320 1 note, 11.3ms\n",
            "video 1/1 (118/1395) /content/drive/MyDrive/cash_training/Currency-Identification-Smart-Glasses.v1i.yolov8/test2.mp4: 192x320 1 note, 13.5ms\n",
            "video 1/1 (119/1395) /content/drive/MyDrive/cash_training/Currency-Identification-Smart-Glasses.v1i.yolov8/test2.mp4: 192x320 1 note, 16.0ms\n",
            "video 1/1 (120/1395) /content/drive/MyDrive/cash_training/Currency-Identification-Smart-Glasses.v1i.yolov8/test2.mp4: 192x320 1 note, 12.5ms\n",
            "video 1/1 (121/1395) /content/drive/MyDrive/cash_training/Currency-Identification-Smart-Glasses.v1i.yolov8/test2.mp4: 192x320 1 note, 10.5ms\n",
            "video 1/1 (122/1395) /content/drive/MyDrive/cash_training/Currency-Identification-Smart-Glasses.v1i.yolov8/test2.mp4: 192x320 1 note, 10.6ms\n",
            "video 1/1 (123/1395) /content/drive/MyDrive/cash_training/Currency-Identification-Smart-Glasses.v1i.yolov8/test2.mp4: 192x320 1 note, 10.6ms\n",
            "video 1/1 (124/1395) /content/drive/MyDrive/cash_training/Currency-Identification-Smart-Glasses.v1i.yolov8/test2.mp4: 192x320 1 note, 10.5ms\n",
            "video 1/1 (125/1395) /content/drive/MyDrive/cash_training/Currency-Identification-Smart-Glasses.v1i.yolov8/test2.mp4: 192x320 1 note, 14.2ms\n",
            "video 1/1 (126/1395) /content/drive/MyDrive/cash_training/Currency-Identification-Smart-Glasses.v1i.yolov8/test2.mp4: 192x320 1 note, 12.5ms\n",
            "video 1/1 (127/1395) /content/drive/MyDrive/cash_training/Currency-Identification-Smart-Glasses.v1i.yolov8/test2.mp4: 192x320 1 note, 11.2ms\n",
            "video 1/1 (128/1395) /content/drive/MyDrive/cash_training/Currency-Identification-Smart-Glasses.v1i.yolov8/test2.mp4: 192x320 1 note, 11.1ms\n",
            "video 1/1 (129/1395) /content/drive/MyDrive/cash_training/Currency-Identification-Smart-Glasses.v1i.yolov8/test2.mp4: 192x320 1 note, 11.1ms\n",
            "video 1/1 (130/1395) /content/drive/MyDrive/cash_training/Currency-Identification-Smart-Glasses.v1i.yolov8/test2.mp4: 192x320 1 note, 10.8ms\n",
            "video 1/1 (131/1395) /content/drive/MyDrive/cash_training/Currency-Identification-Smart-Glasses.v1i.yolov8/test2.mp4: 192x320 1 note, 14.1ms\n",
            "video 1/1 (132/1395) /content/drive/MyDrive/cash_training/Currency-Identification-Smart-Glasses.v1i.yolov8/test2.mp4: 192x320 1 note, 15.4ms\n",
            "video 1/1 (133/1395) /content/drive/MyDrive/cash_training/Currency-Identification-Smart-Glasses.v1i.yolov8/test2.mp4: 192x320 1 note, 12.0ms\n",
            "video 1/1 (134/1395) /content/drive/MyDrive/cash_training/Currency-Identification-Smart-Glasses.v1i.yolov8/test2.mp4: 192x320 1 note, 13.5ms\n",
            "video 1/1 (135/1395) /content/drive/MyDrive/cash_training/Currency-Identification-Smart-Glasses.v1i.yolov8/test2.mp4: 192x320 1 note, 13.1ms\n",
            "video 1/1 (136/1395) /content/drive/MyDrive/cash_training/Currency-Identification-Smart-Glasses.v1i.yolov8/test2.mp4: 192x320 1 note, 13.6ms\n",
            "video 1/1 (137/1395) /content/drive/MyDrive/cash_training/Currency-Identification-Smart-Glasses.v1i.yolov8/test2.mp4: 192x320 1 note, 11.9ms\n",
            "video 1/1 (138/1395) /content/drive/MyDrive/cash_training/Currency-Identification-Smart-Glasses.v1i.yolov8/test2.mp4: 192x320 1 note, 10.6ms\n",
            "video 1/1 (139/1395) /content/drive/MyDrive/cash_training/Currency-Identification-Smart-Glasses.v1i.yolov8/test2.mp4: 192x320 1 note, 12.5ms\n",
            "video 1/1 (140/1395) /content/drive/MyDrive/cash_training/Currency-Identification-Smart-Glasses.v1i.yolov8/test2.mp4: 192x320 1 note, 10.3ms\n",
            "video 1/1 (141/1395) /content/drive/MyDrive/cash_training/Currency-Identification-Smart-Glasses.v1i.yolov8/test2.mp4: 192x320 1 note, 14.3ms\n",
            "video 1/1 (142/1395) /content/drive/MyDrive/cash_training/Currency-Identification-Smart-Glasses.v1i.yolov8/test2.mp4: 192x320 1 note, 15.8ms\n",
            "video 1/1 (143/1395) /content/drive/MyDrive/cash_training/Currency-Identification-Smart-Glasses.v1i.yolov8/test2.mp4: 192x320 1 note, 13.2ms\n",
            "video 1/1 (144/1395) /content/drive/MyDrive/cash_training/Currency-Identification-Smart-Glasses.v1i.yolov8/test2.mp4: 192x320 1 note, 11.7ms\n",
            "video 1/1 (145/1395) /content/drive/MyDrive/cash_training/Currency-Identification-Smart-Glasses.v1i.yolov8/test2.mp4: 192x320 1 note, 14.0ms\n",
            "video 1/1 (146/1395) /content/drive/MyDrive/cash_training/Currency-Identification-Smart-Glasses.v1i.yolov8/test2.mp4: 192x320 1 note, 12.0ms\n",
            "video 1/1 (147/1395) /content/drive/MyDrive/cash_training/Currency-Identification-Smart-Glasses.v1i.yolov8/test2.mp4: 192x320 1 note, 13.4ms\n",
            "video 1/1 (148/1395) /content/drive/MyDrive/cash_training/Currency-Identification-Smart-Glasses.v1i.yolov8/test2.mp4: 192x320 1 note, 12.0ms\n",
            "video 1/1 (149/1395) /content/drive/MyDrive/cash_training/Currency-Identification-Smart-Glasses.v1i.yolov8/test2.mp4: 192x320 1 note, 17.2ms\n",
            "video 1/1 (150/1395) /content/drive/MyDrive/cash_training/Currency-Identification-Smart-Glasses.v1i.yolov8/test2.mp4: 192x320 1 note, 14.4ms\n",
            "video 1/1 (151/1395) /content/drive/MyDrive/cash_training/Currency-Identification-Smart-Glasses.v1i.yolov8/test2.mp4: 192x320 1 note, 13.9ms\n",
            "video 1/1 (152/1395) /content/drive/MyDrive/cash_training/Currency-Identification-Smart-Glasses.v1i.yolov8/test2.mp4: 192x320 1 note, 11.8ms\n",
            "video 1/1 (153/1395) /content/drive/MyDrive/cash_training/Currency-Identification-Smart-Glasses.v1i.yolov8/test2.mp4: 192x320 1 note, 11.0ms\n",
            "video 1/1 (154/1395) /content/drive/MyDrive/cash_training/Currency-Identification-Smart-Glasses.v1i.yolov8/test2.mp4: 192x320 1 note, 14.1ms\n",
            "video 1/1 (155/1395) /content/drive/MyDrive/cash_training/Currency-Identification-Smart-Glasses.v1i.yolov8/test2.mp4: 192x320 1 note, 14.0ms\n",
            "video 1/1 (156/1395) /content/drive/MyDrive/cash_training/Currency-Identification-Smart-Glasses.v1i.yolov8/test2.mp4: 192x320 1 note, 14.2ms\n",
            "video 1/1 (157/1395) /content/drive/MyDrive/cash_training/Currency-Identification-Smart-Glasses.v1i.yolov8/test2.mp4: 192x320 1 note, 10.7ms\n",
            "video 1/1 (158/1395) /content/drive/MyDrive/cash_training/Currency-Identification-Smart-Glasses.v1i.yolov8/test2.mp4: 192x320 1 note, 15.9ms\n",
            "video 1/1 (159/1395) /content/drive/MyDrive/cash_training/Currency-Identification-Smart-Glasses.v1i.yolov8/test2.mp4: 192x320 1 note, 10.5ms\n",
            "video 1/1 (160/1395) /content/drive/MyDrive/cash_training/Currency-Identification-Smart-Glasses.v1i.yolov8/test2.mp4: 192x320 1 note, 11.3ms\n",
            "video 1/1 (161/1395) /content/drive/MyDrive/cash_training/Currency-Identification-Smart-Glasses.v1i.yolov8/test2.mp4: 192x320 1 note, 10.9ms\n",
            "video 1/1 (162/1395) /content/drive/MyDrive/cash_training/Currency-Identification-Smart-Glasses.v1i.yolov8/test2.mp4: 192x320 1 note, 13.8ms\n",
            "video 1/1 (163/1395) /content/drive/MyDrive/cash_training/Currency-Identification-Smart-Glasses.v1i.yolov8/test2.mp4: 192x320 1 note, 12.0ms\n",
            "video 1/1 (164/1395) /content/drive/MyDrive/cash_training/Currency-Identification-Smart-Glasses.v1i.yolov8/test2.mp4: 192x320 1 note, 13.8ms\n",
            "video 1/1 (165/1395) /content/drive/MyDrive/cash_training/Currency-Identification-Smart-Glasses.v1i.yolov8/test2.mp4: 192x320 1 note, 10.6ms\n",
            "video 1/1 (166/1395) /content/drive/MyDrive/cash_training/Currency-Identification-Smart-Glasses.v1i.yolov8/test2.mp4: 192x320 1 note, 11.1ms\n",
            "video 1/1 (167/1395) /content/drive/MyDrive/cash_training/Currency-Identification-Smart-Glasses.v1i.yolov8/test2.mp4: 192x320 1 note, 12.1ms\n",
            "video 1/1 (168/1395) /content/drive/MyDrive/cash_training/Currency-Identification-Smart-Glasses.v1i.yolov8/test2.mp4: 192x320 1 note, 12.7ms\n",
            "video 1/1 (169/1395) /content/drive/MyDrive/cash_training/Currency-Identification-Smart-Glasses.v1i.yolov8/test2.mp4: 192x320 1 note, 12.2ms\n",
            "video 1/1 (170/1395) /content/drive/MyDrive/cash_training/Currency-Identification-Smart-Glasses.v1i.yolov8/test2.mp4: 192x320 1 note, 14.7ms\n",
            "video 1/1 (171/1395) /content/drive/MyDrive/cash_training/Currency-Identification-Smart-Glasses.v1i.yolov8/test2.mp4: 192x320 1 note, 13.1ms\n",
            "video 1/1 (172/1395) /content/drive/MyDrive/cash_training/Currency-Identification-Smart-Glasses.v1i.yolov8/test2.mp4: 192x320 1 note, 18.0ms\n",
            "video 1/1 (173/1395) /content/drive/MyDrive/cash_training/Currency-Identification-Smart-Glasses.v1i.yolov8/test2.mp4: 192x320 1 note, 11.7ms\n",
            "video 1/1 (174/1395) /content/drive/MyDrive/cash_training/Currency-Identification-Smart-Glasses.v1i.yolov8/test2.mp4: 192x320 1 note, 11.8ms\n",
            "video 1/1 (175/1395) /content/drive/MyDrive/cash_training/Currency-Identification-Smart-Glasses.v1i.yolov8/test2.mp4: 192x320 1 note, 13.2ms\n",
            "video 1/1 (176/1395) /content/drive/MyDrive/cash_training/Currency-Identification-Smart-Glasses.v1i.yolov8/test2.mp4: 192x320 (no detections), 14.9ms\n",
            "video 1/1 (177/1395) /content/drive/MyDrive/cash_training/Currency-Identification-Smart-Glasses.v1i.yolov8/test2.mp4: 192x320 (no detections), 14.9ms\n",
            "video 1/1 (178/1395) /content/drive/MyDrive/cash_training/Currency-Identification-Smart-Glasses.v1i.yolov8/test2.mp4: 192x320 (no detections), 15.2ms\n",
            "video 1/1 (179/1395) /content/drive/MyDrive/cash_training/Currency-Identification-Smart-Glasses.v1i.yolov8/test2.mp4: 192x320 (no detections), 11.2ms\n",
            "video 1/1 (180/1395) /content/drive/MyDrive/cash_training/Currency-Identification-Smart-Glasses.v1i.yolov8/test2.mp4: 192x320 1 note, 11.2ms\n",
            "video 1/1 (181/1395) /content/drive/MyDrive/cash_training/Currency-Identification-Smart-Glasses.v1i.yolov8/test2.mp4: 192x320 (no detections), 11.4ms\n",
            "video 1/1 (182/1395) /content/drive/MyDrive/cash_training/Currency-Identification-Smart-Glasses.v1i.yolov8/test2.mp4: 192x320 (no detections), 10.8ms\n",
            "video 1/1 (183/1395) /content/drive/MyDrive/cash_training/Currency-Identification-Smart-Glasses.v1i.yolov8/test2.mp4: 192x320 (no detections), 11.6ms\n",
            "video 1/1 (184/1395) /content/drive/MyDrive/cash_training/Currency-Identification-Smart-Glasses.v1i.yolov8/test2.mp4: 192x320 (no detections), 11.0ms\n",
            "video 1/1 (185/1395) /content/drive/MyDrive/cash_training/Currency-Identification-Smart-Glasses.v1i.yolov8/test2.mp4: 192x320 (no detections), 11.5ms\n",
            "video 1/1 (186/1395) /content/drive/MyDrive/cash_training/Currency-Identification-Smart-Glasses.v1i.yolov8/test2.mp4: 192x320 1 note, 11.8ms\n",
            "video 1/1 (187/1395) /content/drive/MyDrive/cash_training/Currency-Identification-Smart-Glasses.v1i.yolov8/test2.mp4: 192x320 1 note, 16.0ms\n",
            "video 1/1 (188/1395) /content/drive/MyDrive/cash_training/Currency-Identification-Smart-Glasses.v1i.yolov8/test2.mp4: 192x320 1 note, 10.8ms\n",
            "video 1/1 (189/1395) /content/drive/MyDrive/cash_training/Currency-Identification-Smart-Glasses.v1i.yolov8/test2.mp4: 192x320 1 note, 13.6ms\n",
            "video 1/1 (190/1395) /content/drive/MyDrive/cash_training/Currency-Identification-Smart-Glasses.v1i.yolov8/test2.mp4: 192x320 1 note, 10.8ms\n",
            "video 1/1 (191/1395) /content/drive/MyDrive/cash_training/Currency-Identification-Smart-Glasses.v1i.yolov8/test2.mp4: 192x320 1 note, 13.1ms\n",
            "video 1/1 (192/1395) /content/drive/MyDrive/cash_training/Currency-Identification-Smart-Glasses.v1i.yolov8/test2.mp4: 192x320 (no detections), 10.6ms\n",
            "video 1/1 (193/1395) /content/drive/MyDrive/cash_training/Currency-Identification-Smart-Glasses.v1i.yolov8/test2.mp4: 192x320 1 note, 14.9ms\n",
            "video 1/1 (194/1395) /content/drive/MyDrive/cash_training/Currency-Identification-Smart-Glasses.v1i.yolov8/test2.mp4: 192x320 (no detections), 10.7ms\n",
            "video 1/1 (195/1395) /content/drive/MyDrive/cash_training/Currency-Identification-Smart-Glasses.v1i.yolov8/test2.mp4: 192x320 (no detections), 16.5ms\n",
            "video 1/1 (196/1395) /content/drive/MyDrive/cash_training/Currency-Identification-Smart-Glasses.v1i.yolov8/test2.mp4: 192x320 (no detections), 11.7ms\n",
            "video 1/1 (197/1395) /content/drive/MyDrive/cash_training/Currency-Identification-Smart-Glasses.v1i.yolov8/test2.mp4: 192x320 (no detections), 11.0ms\n",
            "video 1/1 (198/1395) /content/drive/MyDrive/cash_training/Currency-Identification-Smart-Glasses.v1i.yolov8/test2.mp4: 192x320 (no detections), 14.8ms\n",
            "video 1/1 (199/1395) /content/drive/MyDrive/cash_training/Currency-Identification-Smart-Glasses.v1i.yolov8/test2.mp4: 192x320 (no detections), 15.1ms\n",
            "video 1/1 (200/1395) /content/drive/MyDrive/cash_training/Currency-Identification-Smart-Glasses.v1i.yolov8/test2.mp4: 192x320 (no detections), 14.9ms\n",
            "video 1/1 (201/1395) /content/drive/MyDrive/cash_training/Currency-Identification-Smart-Glasses.v1i.yolov8/test2.mp4: 192x320 (no detections), 11.5ms\n",
            "video 1/1 (202/1395) /content/drive/MyDrive/cash_training/Currency-Identification-Smart-Glasses.v1i.yolov8/test2.mp4: 192x320 (no detections), 11.9ms\n",
            "video 1/1 (203/1395) /content/drive/MyDrive/cash_training/Currency-Identification-Smart-Glasses.v1i.yolov8/test2.mp4: 192x320 (no detections), 10.9ms\n",
            "video 1/1 (204/1395) /content/drive/MyDrive/cash_training/Currency-Identification-Smart-Glasses.v1i.yolov8/test2.mp4: 192x320 1 note, 14.4ms\n",
            "video 1/1 (205/1395) /content/drive/MyDrive/cash_training/Currency-Identification-Smart-Glasses.v1i.yolov8/test2.mp4: 192x320 2 notes, 13.2ms\n",
            "video 1/1 (206/1395) /content/drive/MyDrive/cash_training/Currency-Identification-Smart-Glasses.v1i.yolov8/test2.mp4: 192x320 1 note, 11.4ms\n",
            "video 1/1 (207/1395) /content/drive/MyDrive/cash_training/Currency-Identification-Smart-Glasses.v1i.yolov8/test2.mp4: 192x320 1 note, 11.2ms\n",
            "video 1/1 (208/1395) /content/drive/MyDrive/cash_training/Currency-Identification-Smart-Glasses.v1i.yolov8/test2.mp4: 192x320 1 note, 11.7ms\n",
            "video 1/1 (209/1395) /content/drive/MyDrive/cash_training/Currency-Identification-Smart-Glasses.v1i.yolov8/test2.mp4: 192x320 1 note, 14.5ms\n",
            "video 1/1 (210/1395) /content/drive/MyDrive/cash_training/Currency-Identification-Smart-Glasses.v1i.yolov8/test2.mp4: 192x320 1 note, 21.5ms\n",
            "video 1/1 (211/1395) /content/drive/MyDrive/cash_training/Currency-Identification-Smart-Glasses.v1i.yolov8/test2.mp4: 192x320 (no detections), 14.1ms\n",
            "video 1/1 (212/1395) /content/drive/MyDrive/cash_training/Currency-Identification-Smart-Glasses.v1i.yolov8/test2.mp4: 192x320 (no detections), 14.8ms\n",
            "video 1/1 (213/1395) /content/drive/MyDrive/cash_training/Currency-Identification-Smart-Glasses.v1i.yolov8/test2.mp4: 192x320 (no detections), 14.5ms\n",
            "video 1/1 (214/1395) /content/drive/MyDrive/cash_training/Currency-Identification-Smart-Glasses.v1i.yolov8/test2.mp4: 192x320 1 note, 18.3ms\n",
            "video 1/1 (215/1395) /content/drive/MyDrive/cash_training/Currency-Identification-Smart-Glasses.v1i.yolov8/test2.mp4: 192x320 (no detections), 9.1ms\n",
            "video 1/1 (216/1395) /content/drive/MyDrive/cash_training/Currency-Identification-Smart-Glasses.v1i.yolov8/test2.mp4: 192x320 (no detections), 12.1ms\n",
            "video 1/1 (217/1395) /content/drive/MyDrive/cash_training/Currency-Identification-Smart-Glasses.v1i.yolov8/test2.mp4: 192x320 1 note, 8.5ms\n",
            "video 1/1 (218/1395) /content/drive/MyDrive/cash_training/Currency-Identification-Smart-Glasses.v1i.yolov8/test2.mp4: 192x320 (no detections), 8.8ms\n",
            "video 1/1 (219/1395) /content/drive/MyDrive/cash_training/Currency-Identification-Smart-Glasses.v1i.yolov8/test2.mp4: 192x320 1 note, 11.3ms\n",
            "video 1/1 (220/1395) /content/drive/MyDrive/cash_training/Currency-Identification-Smart-Glasses.v1i.yolov8/test2.mp4: 192x320 1 note, 8.2ms\n",
            "video 1/1 (221/1395) /content/drive/MyDrive/cash_training/Currency-Identification-Smart-Glasses.v1i.yolov8/test2.mp4: 192x320 1 note, 11.2ms\n",
            "video 1/1 (222/1395) /content/drive/MyDrive/cash_training/Currency-Identification-Smart-Glasses.v1i.yolov8/test2.mp4: 192x320 (no detections), 8.5ms\n",
            "video 1/1 (223/1395) /content/drive/MyDrive/cash_training/Currency-Identification-Smart-Glasses.v1i.yolov8/test2.mp4: 192x320 (no detections), 12.0ms\n",
            "video 1/1 (224/1395) /content/drive/MyDrive/cash_training/Currency-Identification-Smart-Glasses.v1i.yolov8/test2.mp4: 192x320 1 note, 13.4ms\n",
            "video 1/1 (225/1395) /content/drive/MyDrive/cash_training/Currency-Identification-Smart-Glasses.v1i.yolov8/test2.mp4: 192x320 1 note, 10.4ms\n",
            "video 1/1 (226/1395) /content/drive/MyDrive/cash_training/Currency-Identification-Smart-Glasses.v1i.yolov8/test2.mp4: 192x320 1 note, 8.3ms\n",
            "video 1/1 (227/1395) /content/drive/MyDrive/cash_training/Currency-Identification-Smart-Glasses.v1i.yolov8/test2.mp4: 192x320 (no detections), 14.3ms\n",
            "video 1/1 (228/1395) /content/drive/MyDrive/cash_training/Currency-Identification-Smart-Glasses.v1i.yolov8/test2.mp4: 192x320 (no detections), 8.5ms\n",
            "video 1/1 (229/1395) /content/drive/MyDrive/cash_training/Currency-Identification-Smart-Glasses.v1i.yolov8/test2.mp4: 192x320 1 note, 11.4ms\n",
            "video 1/1 (230/1395) /content/drive/MyDrive/cash_training/Currency-Identification-Smart-Glasses.v1i.yolov8/test2.mp4: 192x320 (no detections), 9.3ms\n",
            "video 1/1 (231/1395) /content/drive/MyDrive/cash_training/Currency-Identification-Smart-Glasses.v1i.yolov8/test2.mp4: 192x320 1 note, 11.7ms\n",
            "video 1/1 (232/1395) /content/drive/MyDrive/cash_training/Currency-Identification-Smart-Glasses.v1i.yolov8/test2.mp4: 192x320 1 note, 9.4ms\n",
            "video 1/1 (233/1395) /content/drive/MyDrive/cash_training/Currency-Identification-Smart-Glasses.v1i.yolov8/test2.mp4: 192x320 1 note, 12.6ms\n",
            "video 1/1 (234/1395) /content/drive/MyDrive/cash_training/Currency-Identification-Smart-Glasses.v1i.yolov8/test2.mp4: 192x320 1 note, 16.4ms\n",
            "video 1/1 (235/1395) /content/drive/MyDrive/cash_training/Currency-Identification-Smart-Glasses.v1i.yolov8/test2.mp4: 192x320 1 note, 12.0ms\n",
            "video 1/1 (236/1395) /content/drive/MyDrive/cash_training/Currency-Identification-Smart-Glasses.v1i.yolov8/test2.mp4: 192x320 1 note, 9.4ms\n",
            "video 1/1 (237/1395) /content/drive/MyDrive/cash_training/Currency-Identification-Smart-Glasses.v1i.yolov8/test2.mp4: 192x320 1 note, 17.7ms\n",
            "video 1/1 (238/1395) /content/drive/MyDrive/cash_training/Currency-Identification-Smart-Glasses.v1i.yolov8/test2.mp4: 192x320 1 note, 8.5ms\n",
            "video 1/1 (239/1395) /content/drive/MyDrive/cash_training/Currency-Identification-Smart-Glasses.v1i.yolov8/test2.mp4: 192x320 1 note, 11.4ms\n",
            "video 1/1 (240/1395) /content/drive/MyDrive/cash_training/Currency-Identification-Smart-Glasses.v1i.yolov8/test2.mp4: 192x320 1 note, 13.4ms\n",
            "video 1/1 (241/1395) /content/drive/MyDrive/cash_training/Currency-Identification-Smart-Glasses.v1i.yolov8/test2.mp4: 192x320 (no detections), 11.6ms\n",
            "video 1/1 (242/1395) /content/drive/MyDrive/cash_training/Currency-Identification-Smart-Glasses.v1i.yolov8/test2.mp4: 192x320 (no detections), 9.0ms\n",
            "video 1/1 (243/1395) /content/drive/MyDrive/cash_training/Currency-Identification-Smart-Glasses.v1i.yolov8/test2.mp4: 192x320 (no detections), 9.6ms\n",
            "video 1/1 (244/1395) /content/drive/MyDrive/cash_training/Currency-Identification-Smart-Glasses.v1i.yolov8/test2.mp4: 192x320 (no detections), 9.5ms\n",
            "video 1/1 (245/1395) /content/drive/MyDrive/cash_training/Currency-Identification-Smart-Glasses.v1i.yolov8/test2.mp4: 192x320 (no detections), 11.4ms\n",
            "video 1/1 (246/1395) /content/drive/MyDrive/cash_training/Currency-Identification-Smart-Glasses.v1i.yolov8/test2.mp4: 192x320 (no detections), 12.1ms\n",
            "video 1/1 (247/1395) /content/drive/MyDrive/cash_training/Currency-Identification-Smart-Glasses.v1i.yolov8/test2.mp4: 192x320 (no detections), 9.1ms\n",
            "video 1/1 (248/1395) /content/drive/MyDrive/cash_training/Currency-Identification-Smart-Glasses.v1i.yolov8/test2.mp4: 192x320 (no detections), 8.3ms\n",
            "video 1/1 (249/1395) /content/drive/MyDrive/cash_training/Currency-Identification-Smart-Glasses.v1i.yolov8/test2.mp4: 192x320 (no detections), 11.7ms\n",
            "video 1/1 (250/1395) /content/drive/MyDrive/cash_training/Currency-Identification-Smart-Glasses.v1i.yolov8/test2.mp4: 192x320 (no detections), 9.1ms\n",
            "video 1/1 (251/1395) /content/drive/MyDrive/cash_training/Currency-Identification-Smart-Glasses.v1i.yolov8/test2.mp4: 192x320 (no detections), 11.6ms\n",
            "video 1/1 (252/1395) /content/drive/MyDrive/cash_training/Currency-Identification-Smart-Glasses.v1i.yolov8/test2.mp4: 192x320 (no detections), 8.9ms\n",
            "video 1/1 (253/1395) /content/drive/MyDrive/cash_training/Currency-Identification-Smart-Glasses.v1i.yolov8/test2.mp4: 192x320 (no detections), 9.6ms\n",
            "video 1/1 (254/1395) /content/drive/MyDrive/cash_training/Currency-Identification-Smart-Glasses.v1i.yolov8/test2.mp4: 192x320 (no detections), 8.4ms\n",
            "video 1/1 (255/1395) /content/drive/MyDrive/cash_training/Currency-Identification-Smart-Glasses.v1i.yolov8/test2.mp4: 192x320 (no detections), 10.3ms\n",
            "video 1/1 (256/1395) /content/drive/MyDrive/cash_training/Currency-Identification-Smart-Glasses.v1i.yolov8/test2.mp4: 192x320 (no detections), 11.8ms\n",
            "video 1/1 (257/1395) /content/drive/MyDrive/cash_training/Currency-Identification-Smart-Glasses.v1i.yolov8/test2.mp4: 192x320 (no detections), 9.8ms\n",
            "video 1/1 (258/1395) /content/drive/MyDrive/cash_training/Currency-Identification-Smart-Glasses.v1i.yolov8/test2.mp4: 192x320 (no detections), 11.0ms\n",
            "video 1/1 (259/1395) /content/drive/MyDrive/cash_training/Currency-Identification-Smart-Glasses.v1i.yolov8/test2.mp4: 192x320 (no detections), 9.0ms\n",
            "video 1/1 (260/1395) /content/drive/MyDrive/cash_training/Currency-Identification-Smart-Glasses.v1i.yolov8/test2.mp4: 192x320 (no detections), 11.5ms\n",
            "video 1/1 (261/1395) /content/drive/MyDrive/cash_training/Currency-Identification-Smart-Glasses.v1i.yolov8/test2.mp4: 192x320 (no detections), 8.7ms\n",
            "video 1/1 (262/1395) /content/drive/MyDrive/cash_training/Currency-Identification-Smart-Glasses.v1i.yolov8/test2.mp4: 192x320 (no detections), 9.7ms\n",
            "video 1/1 (263/1395) /content/drive/MyDrive/cash_training/Currency-Identification-Smart-Glasses.v1i.yolov8/test2.mp4: 192x320 (no detections), 8.4ms\n",
            "video 1/1 (264/1395) /content/drive/MyDrive/cash_training/Currency-Identification-Smart-Glasses.v1i.yolov8/test2.mp4: 192x320 (no detections), 12.3ms\n",
            "video 1/1 (265/1395) /content/drive/MyDrive/cash_training/Currency-Identification-Smart-Glasses.v1i.yolov8/test2.mp4: 192x320 (no detections), 8.9ms\n",
            "video 1/1 (266/1395) /content/drive/MyDrive/cash_training/Currency-Identification-Smart-Glasses.v1i.yolov8/test2.mp4: 192x320 (no detections), 13.1ms\n",
            "video 1/1 (267/1395) /content/drive/MyDrive/cash_training/Currency-Identification-Smart-Glasses.v1i.yolov8/test2.mp4: 192x320 (no detections), 8.7ms\n",
            "video 1/1 (268/1395) /content/drive/MyDrive/cash_training/Currency-Identification-Smart-Glasses.v1i.yolov8/test2.mp4: 192x320 (no detections), 14.3ms\n",
            "video 1/1 (269/1395) /content/drive/MyDrive/cash_training/Currency-Identification-Smart-Glasses.v1i.yolov8/test2.mp4: 192x320 (no detections), 11.4ms\n",
            "video 1/1 (270/1395) /content/drive/MyDrive/cash_training/Currency-Identification-Smart-Glasses.v1i.yolov8/test2.mp4: 192x320 (no detections), 15.1ms\n",
            "video 1/1 (271/1395) /content/drive/MyDrive/cash_training/Currency-Identification-Smart-Glasses.v1i.yolov8/test2.mp4: 192x320 1 note, 11.6ms\n",
            "video 1/1 (272/1395) /content/drive/MyDrive/cash_training/Currency-Identification-Smart-Glasses.v1i.yolov8/test2.mp4: 192x320 1 note, 14.1ms\n",
            "video 1/1 (273/1395) /content/drive/MyDrive/cash_training/Currency-Identification-Smart-Glasses.v1i.yolov8/test2.mp4: 192x320 1 note, 11.3ms\n",
            "video 1/1 (274/1395) /content/drive/MyDrive/cash_training/Currency-Identification-Smart-Glasses.v1i.yolov8/test2.mp4: 192x320 (no detections), 8.7ms\n",
            "video 1/1 (275/1395) /content/drive/MyDrive/cash_training/Currency-Identification-Smart-Glasses.v1i.yolov8/test2.mp4: 192x320 (no detections), 11.1ms\n",
            "video 1/1 (276/1395) /content/drive/MyDrive/cash_training/Currency-Identification-Smart-Glasses.v1i.yolov8/test2.mp4: 192x320 1 note, 8.7ms\n",
            "video 1/1 (277/1395) /content/drive/MyDrive/cash_training/Currency-Identification-Smart-Glasses.v1i.yolov8/test2.mp4: 192x320 1 note, 12.0ms\n",
            "video 1/1 (278/1395) /content/drive/MyDrive/cash_training/Currency-Identification-Smart-Glasses.v1i.yolov8/test2.mp4: 192x320 (no detections), 8.5ms\n",
            "video 1/1 (279/1395) /content/drive/MyDrive/cash_training/Currency-Identification-Smart-Glasses.v1i.yolov8/test2.mp4: 192x320 1 note, 9.6ms\n",
            "video 1/1 (280/1395) /content/drive/MyDrive/cash_training/Currency-Identification-Smart-Glasses.v1i.yolov8/test2.mp4: 192x320 (no detections), 8.7ms\n",
            "video 1/1 (281/1395) /content/drive/MyDrive/cash_training/Currency-Identification-Smart-Glasses.v1i.yolov8/test2.mp4: 192x320 (no detections), 8.3ms\n",
            "video 1/1 (282/1395) /content/drive/MyDrive/cash_training/Currency-Identification-Smart-Glasses.v1i.yolov8/test2.mp4: 192x320 (no detections), 8.6ms\n",
            "video 1/1 (283/1395) /content/drive/MyDrive/cash_training/Currency-Identification-Smart-Glasses.v1i.yolov8/test2.mp4: 192x320 (no detections), 10.1ms\n",
            "video 1/1 (284/1395) /content/drive/MyDrive/cash_training/Currency-Identification-Smart-Glasses.v1i.yolov8/test2.mp4: 192x320 (no detections), 8.8ms\n",
            "video 1/1 (285/1395) /content/drive/MyDrive/cash_training/Currency-Identification-Smart-Glasses.v1i.yolov8/test2.mp4: 192x320 1 note, 10.6ms\n",
            "video 1/1 (286/1395) /content/drive/MyDrive/cash_training/Currency-Identification-Smart-Glasses.v1i.yolov8/test2.mp4: 192x320 1 note, 8.6ms\n",
            "video 1/1 (287/1395) /content/drive/MyDrive/cash_training/Currency-Identification-Smart-Glasses.v1i.yolov8/test2.mp4: 192x320 1 note, 10.3ms\n",
            "video 1/1 (288/1395) /content/drive/MyDrive/cash_training/Currency-Identification-Smart-Glasses.v1i.yolov8/test2.mp4: 192x320 1 note, 9.1ms\n",
            "video 1/1 (289/1395) /content/drive/MyDrive/cash_training/Currency-Identification-Smart-Glasses.v1i.yolov8/test2.mp4: 192x320 1 note, 11.1ms\n",
            "video 1/1 (290/1395) /content/drive/MyDrive/cash_training/Currency-Identification-Smart-Glasses.v1i.yolov8/test2.mp4: 192x320 1 note, 9.3ms\n",
            "video 1/1 (291/1395) /content/drive/MyDrive/cash_training/Currency-Identification-Smart-Glasses.v1i.yolov8/test2.mp4: 192x320 1 note, 10.7ms\n",
            "video 1/1 (292/1395) /content/drive/MyDrive/cash_training/Currency-Identification-Smart-Glasses.v1i.yolov8/test2.mp4: 192x320 1 note, 8.4ms\n",
            "video 1/1 (293/1395) /content/drive/MyDrive/cash_training/Currency-Identification-Smart-Glasses.v1i.yolov8/test2.mp4: 192x320 1 note, 9.7ms\n",
            "video 1/1 (294/1395) /content/drive/MyDrive/cash_training/Currency-Identification-Smart-Glasses.v1i.yolov8/test2.mp4: 192x320 1 note, 12.7ms\n",
            "video 1/1 (295/1395) /content/drive/MyDrive/cash_training/Currency-Identification-Smart-Glasses.v1i.yolov8/test2.mp4: 192x320 (no detections), 8.7ms\n",
            "video 1/1 (296/1395) /content/drive/MyDrive/cash_training/Currency-Identification-Smart-Glasses.v1i.yolov8/test2.mp4: 192x320 (no detections), 12.9ms\n",
            "video 1/1 (297/1395) /content/drive/MyDrive/cash_training/Currency-Identification-Smart-Glasses.v1i.yolov8/test2.mp4: 192x320 (no detections), 10.9ms\n",
            "video 1/1 (298/1395) /content/drive/MyDrive/cash_training/Currency-Identification-Smart-Glasses.v1i.yolov8/test2.mp4: 192x320 (no detections), 8.5ms\n",
            "video 1/1 (299/1395) /content/drive/MyDrive/cash_training/Currency-Identification-Smart-Glasses.v1i.yolov8/test2.mp4: 192x320 (no detections), 21.7ms\n",
            "video 1/1 (300/1395) /content/drive/MyDrive/cash_training/Currency-Identification-Smart-Glasses.v1i.yolov8/test2.mp4: 192x320 (no detections), 14.0ms\n",
            "video 1/1 (301/1395) /content/drive/MyDrive/cash_training/Currency-Identification-Smart-Glasses.v1i.yolov8/test2.mp4: 192x320 (no detections), 11.1ms\n",
            "video 1/1 (302/1395) /content/drive/MyDrive/cash_training/Currency-Identification-Smart-Glasses.v1i.yolov8/test2.mp4: 192x320 (no detections), 9.3ms\n",
            "video 1/1 (303/1395) /content/drive/MyDrive/cash_training/Currency-Identification-Smart-Glasses.v1i.yolov8/test2.mp4: 192x320 (no detections), 11.6ms\n",
            "video 1/1 (304/1395) /content/drive/MyDrive/cash_training/Currency-Identification-Smart-Glasses.v1i.yolov8/test2.mp4: 192x320 (no detections), 8.9ms\n",
            "video 1/1 (305/1395) /content/drive/MyDrive/cash_training/Currency-Identification-Smart-Glasses.v1i.yolov8/test2.mp4: 192x320 (no detections), 9.8ms\n",
            "video 1/1 (306/1395) /content/drive/MyDrive/cash_training/Currency-Identification-Smart-Glasses.v1i.yolov8/test2.mp4: 192x320 (no detections), 10.0ms\n",
            "video 1/1 (307/1395) /content/drive/MyDrive/cash_training/Currency-Identification-Smart-Glasses.v1i.yolov8/test2.mp4: 192x320 (no detections), 10.6ms\n",
            "video 1/1 (308/1395) /content/drive/MyDrive/cash_training/Currency-Identification-Smart-Glasses.v1i.yolov8/test2.mp4: 192x320 (no detections), 8.8ms\n",
            "video 1/1 (309/1395) /content/drive/MyDrive/cash_training/Currency-Identification-Smart-Glasses.v1i.yolov8/test2.mp4: 192x320 (no detections), 9.5ms\n",
            "video 1/1 (310/1395) /content/drive/MyDrive/cash_training/Currency-Identification-Smart-Glasses.v1i.yolov8/test2.mp4: 192x320 1 note, 8.9ms\n",
            "video 1/1 (311/1395) /content/drive/MyDrive/cash_training/Currency-Identification-Smart-Glasses.v1i.yolov8/test2.mp4: 192x320 (no detections), 10.6ms\n",
            "video 1/1 (312/1395) /content/drive/MyDrive/cash_training/Currency-Identification-Smart-Glasses.v1i.yolov8/test2.mp4: 192x320 1 note, 8.4ms\n",
            "video 1/1 (313/1395) /content/drive/MyDrive/cash_training/Currency-Identification-Smart-Glasses.v1i.yolov8/test2.mp4: 192x320 (no detections), 9.5ms\n",
            "video 1/1 (314/1395) /content/drive/MyDrive/cash_training/Currency-Identification-Smart-Glasses.v1i.yolov8/test2.mp4: 192x320 (no detections), 8.5ms\n",
            "video 1/1 (315/1395) /content/drive/MyDrive/cash_training/Currency-Identification-Smart-Glasses.v1i.yolov8/test2.mp4: 192x320 (no detections), 9.3ms\n",
            "video 1/1 (316/1395) /content/drive/MyDrive/cash_training/Currency-Identification-Smart-Glasses.v1i.yolov8/test2.mp4: 192x320 (no detections), 10.1ms\n",
            "video 1/1 (317/1395) /content/drive/MyDrive/cash_training/Currency-Identification-Smart-Glasses.v1i.yolov8/test2.mp4: 192x320 (no detections), 9.6ms\n",
            "video 1/1 (318/1395) /content/drive/MyDrive/cash_training/Currency-Identification-Smart-Glasses.v1i.yolov8/test2.mp4: 192x320 (no detections), 12.0ms\n",
            "video 1/1 (319/1395) /content/drive/MyDrive/cash_training/Currency-Identification-Smart-Glasses.v1i.yolov8/test2.mp4: 192x320 (no detections), 9.9ms\n",
            "video 1/1 (320/1395) /content/drive/MyDrive/cash_training/Currency-Identification-Smart-Glasses.v1i.yolov8/test2.mp4: 192x320 (no detections), 12.0ms\n",
            "video 1/1 (321/1395) /content/drive/MyDrive/cash_training/Currency-Identification-Smart-Glasses.v1i.yolov8/test2.mp4: 192x320 (no detections), 10.5ms\n",
            "video 1/1 (322/1395) /content/drive/MyDrive/cash_training/Currency-Identification-Smart-Glasses.v1i.yolov8/test2.mp4: 192x320 (no detections), 11.7ms\n",
            "video 1/1 (323/1395) /content/drive/MyDrive/cash_training/Currency-Identification-Smart-Glasses.v1i.yolov8/test2.mp4: 192x320 (no detections), 9.6ms\n",
            "video 1/1 (324/1395) /content/drive/MyDrive/cash_training/Currency-Identification-Smart-Glasses.v1i.yolov8/test2.mp4: 192x320 (no detections), 8.8ms\n",
            "video 1/1 (325/1395) /content/drive/MyDrive/cash_training/Currency-Identification-Smart-Glasses.v1i.yolov8/test2.mp4: 192x320 (no detections), 12.5ms\n",
            "video 1/1 (326/1395) /content/drive/MyDrive/cash_training/Currency-Identification-Smart-Glasses.v1i.yolov8/test2.mp4: 192x320 (no detections), 9.4ms\n",
            "video 1/1 (327/1395) /content/drive/MyDrive/cash_training/Currency-Identification-Smart-Glasses.v1i.yolov8/test2.mp4: 192x320 (no detections), 12.0ms\n",
            "video 1/1 (328/1395) /content/drive/MyDrive/cash_training/Currency-Identification-Smart-Glasses.v1i.yolov8/test2.mp4: 192x320 (no detections), 8.9ms\n",
            "video 1/1 (329/1395) /content/drive/MyDrive/cash_training/Currency-Identification-Smart-Glasses.v1i.yolov8/test2.mp4: 192x320 (no detections), 9.9ms\n",
            "video 1/1 (330/1395) /content/drive/MyDrive/cash_training/Currency-Identification-Smart-Glasses.v1i.yolov8/test2.mp4: 192x320 (no detections), 21.4ms\n",
            "video 1/1 (331/1395) /content/drive/MyDrive/cash_training/Currency-Identification-Smart-Glasses.v1i.yolov8/test2.mp4: 192x320 1 note, 9.3ms\n",
            "video 1/1 (332/1395) /content/drive/MyDrive/cash_training/Currency-Identification-Smart-Glasses.v1i.yolov8/test2.mp4: 192x320 1 note, 9.1ms\n",
            "video 1/1 (333/1395) /content/drive/MyDrive/cash_training/Currency-Identification-Smart-Glasses.v1i.yolov8/test2.mp4: 192x320 1 note, 9.9ms\n",
            "video 1/1 (334/1395) /content/drive/MyDrive/cash_training/Currency-Identification-Smart-Glasses.v1i.yolov8/test2.mp4: 192x320 1 note, 9.7ms\n",
            "video 1/1 (335/1395) /content/drive/MyDrive/cash_training/Currency-Identification-Smart-Glasses.v1i.yolov8/test2.mp4: 192x320 1 note, 8.5ms\n",
            "video 1/1 (336/1395) /content/drive/MyDrive/cash_training/Currency-Identification-Smart-Glasses.v1i.yolov8/test2.mp4: 192x320 1 note, 9.6ms\n",
            "video 1/1 (337/1395) /content/drive/MyDrive/cash_training/Currency-Identification-Smart-Glasses.v1i.yolov8/test2.mp4: 192x320 1 note, 9.6ms\n",
            "video 1/1 (338/1395) /content/drive/MyDrive/cash_training/Currency-Identification-Smart-Glasses.v1i.yolov8/test2.mp4: 192x320 1 note, 9.8ms\n",
            "video 1/1 (339/1395) /content/drive/MyDrive/cash_training/Currency-Identification-Smart-Glasses.v1i.yolov8/test2.mp4: 192x320 1 note, 10.5ms\n",
            "video 1/1 (340/1395) /content/drive/MyDrive/cash_training/Currency-Identification-Smart-Glasses.v1i.yolov8/test2.mp4: 192x320 1 note, 8.9ms\n",
            "video 1/1 (341/1395) /content/drive/MyDrive/cash_training/Currency-Identification-Smart-Glasses.v1i.yolov8/test2.mp4: 192x320 1 note, 9.0ms\n",
            "video 1/1 (342/1395) /content/drive/MyDrive/cash_training/Currency-Identification-Smart-Glasses.v1i.yolov8/test2.mp4: 192x320 1 note, 10.4ms\n",
            "video 1/1 (343/1395) /content/drive/MyDrive/cash_training/Currency-Identification-Smart-Glasses.v1i.yolov8/test2.mp4: 192x320 1 note, 9.9ms\n",
            "video 1/1 (344/1395) /content/drive/MyDrive/cash_training/Currency-Identification-Smart-Glasses.v1i.yolov8/test2.mp4: 192x320 1 note, 11.3ms\n",
            "video 1/1 (345/1395) /content/drive/MyDrive/cash_training/Currency-Identification-Smart-Glasses.v1i.yolov8/test2.mp4: 192x320 1 note, 8.5ms\n",
            "video 1/1 (346/1395) /content/drive/MyDrive/cash_training/Currency-Identification-Smart-Glasses.v1i.yolov8/test2.mp4: 192x320 1 note, 8.8ms\n",
            "video 1/1 (347/1395) /content/drive/MyDrive/cash_training/Currency-Identification-Smart-Glasses.v1i.yolov8/test2.mp4: 192x320 1 note, 12.4ms\n",
            "video 1/1 (348/1395) /content/drive/MyDrive/cash_training/Currency-Identification-Smart-Glasses.v1i.yolov8/test2.mp4: 192x320 1 note, 10.3ms\n",
            "video 1/1 (349/1395) /content/drive/MyDrive/cash_training/Currency-Identification-Smart-Glasses.v1i.yolov8/test2.mp4: 192x320 1 note, 10.7ms\n",
            "video 1/1 (350/1395) /content/drive/MyDrive/cash_training/Currency-Identification-Smart-Glasses.v1i.yolov8/test2.mp4: 192x320 1 note, 8.7ms\n",
            "video 1/1 (351/1395) /content/drive/MyDrive/cash_training/Currency-Identification-Smart-Glasses.v1i.yolov8/test2.mp4: 192x320 1 note, 13.0ms\n",
            "video 1/1 (352/1395) /content/drive/MyDrive/cash_training/Currency-Identification-Smart-Glasses.v1i.yolov8/test2.mp4: 192x320 1 note, 8.2ms\n",
            "video 1/1 (353/1395) /content/drive/MyDrive/cash_training/Currency-Identification-Smart-Glasses.v1i.yolov8/test2.mp4: 192x320 1 note, 11.2ms\n",
            "video 1/1 (354/1395) /content/drive/MyDrive/cash_training/Currency-Identification-Smart-Glasses.v1i.yolov8/test2.mp4: 192x320 1 note, 8.8ms\n",
            "video 1/1 (355/1395) /content/drive/MyDrive/cash_training/Currency-Identification-Smart-Glasses.v1i.yolov8/test2.mp4: 192x320 1 note, 11.5ms\n",
            "video 1/1 (356/1395) /content/drive/MyDrive/cash_training/Currency-Identification-Smart-Glasses.v1i.yolov8/test2.mp4: 192x320 1 note, 8.6ms\n",
            "video 1/1 (357/1395) /content/drive/MyDrive/cash_training/Currency-Identification-Smart-Glasses.v1i.yolov8/test2.mp4: 192x320 1 note, 11.4ms\n",
            "video 1/1 (358/1395) /content/drive/MyDrive/cash_training/Currency-Identification-Smart-Glasses.v1i.yolov8/test2.mp4: 192x320 1 note, 8.1ms\n",
            "video 1/1 (359/1395) /content/drive/MyDrive/cash_training/Currency-Identification-Smart-Glasses.v1i.yolov8/test2.mp4: 192x320 1 note, 11.9ms\n",
            "video 1/1 (360/1395) /content/drive/MyDrive/cash_training/Currency-Identification-Smart-Glasses.v1i.yolov8/test2.mp4: 192x320 1 note, 13.0ms\n",
            "video 1/1 (361/1395) /content/drive/MyDrive/cash_training/Currency-Identification-Smart-Glasses.v1i.yolov8/test2.mp4: 192x320 1 note, 15.9ms\n",
            "video 1/1 (362/1395) /content/drive/MyDrive/cash_training/Currency-Identification-Smart-Glasses.v1i.yolov8/test2.mp4: 192x320 1 note, 11.2ms\n",
            "video 1/1 (363/1395) /content/drive/MyDrive/cash_training/Currency-Identification-Smart-Glasses.v1i.yolov8/test2.mp4: 192x320 1 note, 11.8ms\n",
            "video 1/1 (364/1395) /content/drive/MyDrive/cash_training/Currency-Identification-Smart-Glasses.v1i.yolov8/test2.mp4: 192x320 1 note, 11.4ms\n",
            "video 1/1 (365/1395) /content/drive/MyDrive/cash_training/Currency-Identification-Smart-Glasses.v1i.yolov8/test2.mp4: 192x320 1 note, 9.0ms\n",
            "video 1/1 (366/1395) /content/drive/MyDrive/cash_training/Currency-Identification-Smart-Glasses.v1i.yolov8/test2.mp4: 192x320 1 note, 13.0ms\n",
            "video 1/1 (367/1395) /content/drive/MyDrive/cash_training/Currency-Identification-Smart-Glasses.v1i.yolov8/test2.mp4: 192x320 1 note, 8.4ms\n",
            "video 1/1 (368/1395) /content/drive/MyDrive/cash_training/Currency-Identification-Smart-Glasses.v1i.yolov8/test2.mp4: 192x320 1 note, 11.2ms\n",
            "video 1/1 (369/1395) /content/drive/MyDrive/cash_training/Currency-Identification-Smart-Glasses.v1i.yolov8/test2.mp4: 192x320 1 note, 38.8ms\n",
            "video 1/1 (370/1395) /content/drive/MyDrive/cash_training/Currency-Identification-Smart-Glasses.v1i.yolov8/test2.mp4: 192x320 1 note, 26.3ms\n",
            "video 1/1 (371/1395) /content/drive/MyDrive/cash_training/Currency-Identification-Smart-Glasses.v1i.yolov8/test2.mp4: 192x320 1 note, 13.1ms\n",
            "video 1/1 (372/1395) /content/drive/MyDrive/cash_training/Currency-Identification-Smart-Glasses.v1i.yolov8/test2.mp4: 192x320 1 note, 14.1ms\n",
            "video 1/1 (373/1395) /content/drive/MyDrive/cash_training/Currency-Identification-Smart-Glasses.v1i.yolov8/test2.mp4: 192x320 1 note, 10.6ms\n",
            "video 1/1 (374/1395) /content/drive/MyDrive/cash_training/Currency-Identification-Smart-Glasses.v1i.yolov8/test2.mp4: 192x320 1 note, 8.2ms\n",
            "video 1/1 (375/1395) /content/drive/MyDrive/cash_training/Currency-Identification-Smart-Glasses.v1i.yolov8/test2.mp4: 192x320 1 note, 11.6ms\n",
            "video 1/1 (376/1395) /content/drive/MyDrive/cash_training/Currency-Identification-Smart-Glasses.v1i.yolov8/test2.mp4: 192x320 1 note, 8.9ms\n",
            "video 1/1 (377/1395) /content/drive/MyDrive/cash_training/Currency-Identification-Smart-Glasses.v1i.yolov8/test2.mp4: 192x320 1 note, 8.1ms\n",
            "video 1/1 (378/1395) /content/drive/MyDrive/cash_training/Currency-Identification-Smart-Glasses.v1i.yolov8/test2.mp4: 192x320 1 note, 8.6ms\n",
            "video 1/1 (379/1395) /content/drive/MyDrive/cash_training/Currency-Identification-Smart-Glasses.v1i.yolov8/test2.mp4: 192x320 1 note, 10.8ms\n",
            "video 1/1 (380/1395) /content/drive/MyDrive/cash_training/Currency-Identification-Smart-Glasses.v1i.yolov8/test2.mp4: 192x320 1 note, 8.3ms\n",
            "video 1/1 (381/1395) /content/drive/MyDrive/cash_training/Currency-Identification-Smart-Glasses.v1i.yolov8/test2.mp4: 192x320 1 note, 9.1ms\n",
            "video 1/1 (382/1395) /content/drive/MyDrive/cash_training/Currency-Identification-Smart-Glasses.v1i.yolov8/test2.mp4: 192x320 1 note, 9.6ms\n",
            "video 1/1 (383/1395) /content/drive/MyDrive/cash_training/Currency-Identification-Smart-Glasses.v1i.yolov8/test2.mp4: 192x320 1 note, 10.0ms\n",
            "video 1/1 (384/1395) /content/drive/MyDrive/cash_training/Currency-Identification-Smart-Glasses.v1i.yolov8/test2.mp4: 192x320 1 note, 11.5ms\n",
            "video 1/1 (385/1395) /content/drive/MyDrive/cash_training/Currency-Identification-Smart-Glasses.v1i.yolov8/test2.mp4: 192x320 1 note, 14.1ms\n",
            "video 1/1 (386/1395) /content/drive/MyDrive/cash_training/Currency-Identification-Smart-Glasses.v1i.yolov8/test2.mp4: 192x320 1 note, 16.2ms\n",
            "video 1/1 (387/1395) /content/drive/MyDrive/cash_training/Currency-Identification-Smart-Glasses.v1i.yolov8/test2.mp4: 192x320 1 note, 11.1ms\n",
            "video 1/1 (388/1395) /content/drive/MyDrive/cash_training/Currency-Identification-Smart-Glasses.v1i.yolov8/test2.mp4: 192x320 1 note, 22.0ms\n",
            "video 1/1 (389/1395) /content/drive/MyDrive/cash_training/Currency-Identification-Smart-Glasses.v1i.yolov8/test2.mp4: 192x320 (no detections), 37.5ms\n",
            "video 1/1 (390/1395) /content/drive/MyDrive/cash_training/Currency-Identification-Smart-Glasses.v1i.yolov8/test2.mp4: 192x320 (no detections), 46.9ms\n",
            "video 1/1 (391/1395) /content/drive/MyDrive/cash_training/Currency-Identification-Smart-Glasses.v1i.yolov8/test2.mp4: 192x320 (no detections), 8.6ms\n",
            "video 1/1 (392/1395) /content/drive/MyDrive/cash_training/Currency-Identification-Smart-Glasses.v1i.yolov8/test2.mp4: 192x320 (no detections), 11.5ms\n",
            "video 1/1 (393/1395) /content/drive/MyDrive/cash_training/Currency-Identification-Smart-Glasses.v1i.yolov8/test2.mp4: 192x320 (no detections), 8.4ms\n",
            "video 1/1 (394/1395) /content/drive/MyDrive/cash_training/Currency-Identification-Smart-Glasses.v1i.yolov8/test2.mp4: 192x320 (no detections), 13.4ms\n",
            "video 1/1 (395/1395) /content/drive/MyDrive/cash_training/Currency-Identification-Smart-Glasses.v1i.yolov8/test2.mp4: 192x320 (no detections), 8.8ms\n",
            "video 1/1 (396/1395) /content/drive/MyDrive/cash_training/Currency-Identification-Smart-Glasses.v1i.yolov8/test2.mp4: 192x320 (no detections), 13.4ms\n",
            "video 1/1 (397/1395) /content/drive/MyDrive/cash_training/Currency-Identification-Smart-Glasses.v1i.yolov8/test2.mp4: 192x320 (no detections), 11.0ms\n",
            "video 1/1 (398/1395) /content/drive/MyDrive/cash_training/Currency-Identification-Smart-Glasses.v1i.yolov8/test2.mp4: 192x320 (no detections), 8.6ms\n",
            "video 1/1 (399/1395) /content/drive/MyDrive/cash_training/Currency-Identification-Smart-Glasses.v1i.yolov8/test2.mp4: 192x320 (no detections), 8.6ms\n",
            "video 1/1 (400/1395) /content/drive/MyDrive/cash_training/Currency-Identification-Smart-Glasses.v1i.yolov8/test2.mp4: 192x320 (no detections), 9.5ms\n",
            "video 1/1 (401/1395) /content/drive/MyDrive/cash_training/Currency-Identification-Smart-Glasses.v1i.yolov8/test2.mp4: 192x320 (no detections), 9.7ms\n",
            "video 1/1 (402/1395) /content/drive/MyDrive/cash_training/Currency-Identification-Smart-Glasses.v1i.yolov8/test2.mp4: 192x320 (no detections), 9.0ms\n",
            "video 1/1 (403/1395) /content/drive/MyDrive/cash_training/Currency-Identification-Smart-Glasses.v1i.yolov8/test2.mp4: 192x320 (no detections), 8.3ms\n",
            "video 1/1 (404/1395) /content/drive/MyDrive/cash_training/Currency-Identification-Smart-Glasses.v1i.yolov8/test2.mp4: 192x320 (no detections), 8.5ms\n",
            "video 1/1 (405/1395) /content/drive/MyDrive/cash_training/Currency-Identification-Smart-Glasses.v1i.yolov8/test2.mp4: 192x320 (no detections), 9.2ms\n",
            "video 1/1 (406/1395) /content/drive/MyDrive/cash_training/Currency-Identification-Smart-Glasses.v1i.yolov8/test2.mp4: 192x320 (no detections), 8.6ms\n",
            "video 1/1 (407/1395) /content/drive/MyDrive/cash_training/Currency-Identification-Smart-Glasses.v1i.yolov8/test2.mp4: 192x320 (no detections), 12.4ms\n",
            "video 1/1 (408/1395) /content/drive/MyDrive/cash_training/Currency-Identification-Smart-Glasses.v1i.yolov8/test2.mp4: 192x320 (no detections), 12.5ms\n",
            "video 1/1 (409/1395) /content/drive/MyDrive/cash_training/Currency-Identification-Smart-Glasses.v1i.yolov8/test2.mp4: 192x320 (no detections), 13.3ms\n",
            "video 1/1 (410/1395) /content/drive/MyDrive/cash_training/Currency-Identification-Smart-Glasses.v1i.yolov8/test2.mp4: 192x320 (no detections), 9.3ms\n",
            "video 1/1 (411/1395) /content/drive/MyDrive/cash_training/Currency-Identification-Smart-Glasses.v1i.yolov8/test2.mp4: 192x320 (no detections), 9.9ms\n",
            "video 1/1 (412/1395) /content/drive/MyDrive/cash_training/Currency-Identification-Smart-Glasses.v1i.yolov8/test2.mp4: 192x320 (no detections), 9.4ms\n",
            "video 1/1 (413/1395) /content/drive/MyDrive/cash_training/Currency-Identification-Smart-Glasses.v1i.yolov8/test2.mp4: 192x320 (no detections), 9.6ms\n",
            "video 1/1 (414/1395) /content/drive/MyDrive/cash_training/Currency-Identification-Smart-Glasses.v1i.yolov8/test2.mp4: 192x320 (no detections), 14.7ms\n",
            "video 1/1 (415/1395) /content/drive/MyDrive/cash_training/Currency-Identification-Smart-Glasses.v1i.yolov8/test2.mp4: 192x320 (no detections), 8.3ms\n",
            "video 1/1 (416/1395) /content/drive/MyDrive/cash_training/Currency-Identification-Smart-Glasses.v1i.yolov8/test2.mp4: 192x320 (no detections), 12.0ms\n",
            "video 1/1 (417/1395) /content/drive/MyDrive/cash_training/Currency-Identification-Smart-Glasses.v1i.yolov8/test2.mp4: 192x320 (no detections), 8.5ms\n",
            "video 1/1 (418/1395) /content/drive/MyDrive/cash_training/Currency-Identification-Smart-Glasses.v1i.yolov8/test2.mp4: 192x320 (no detections), 9.1ms\n",
            "video 1/1 (419/1395) /content/drive/MyDrive/cash_training/Currency-Identification-Smart-Glasses.v1i.yolov8/test2.mp4: 192x320 (no detections), 8.4ms\n",
            "video 1/1 (420/1395) /content/drive/MyDrive/cash_training/Currency-Identification-Smart-Glasses.v1i.yolov8/test2.mp4: 192x320 (no detections), 14.0ms\n",
            "video 1/1 (421/1395) /content/drive/MyDrive/cash_training/Currency-Identification-Smart-Glasses.v1i.yolov8/test2.mp4: 192x320 (no detections), 11.5ms\n",
            "video 1/1 (422/1395) /content/drive/MyDrive/cash_training/Currency-Identification-Smart-Glasses.v1i.yolov8/test2.mp4: 192x320 (no detections), 13.5ms\n",
            "video 1/1 (423/1395) /content/drive/MyDrive/cash_training/Currency-Identification-Smart-Glasses.v1i.yolov8/test2.mp4: 192x320 (no detections), 11.4ms\n",
            "video 1/1 (424/1395) /content/drive/MyDrive/cash_training/Currency-Identification-Smart-Glasses.v1i.yolov8/test2.mp4: 192x320 (no detections), 8.6ms\n",
            "video 1/1 (425/1395) /content/drive/MyDrive/cash_training/Currency-Identification-Smart-Glasses.v1i.yolov8/test2.mp4: 192x320 (no detections), 10.3ms\n",
            "video 1/1 (426/1395) /content/drive/MyDrive/cash_training/Currency-Identification-Smart-Glasses.v1i.yolov8/test2.mp4: 192x320 (no detections), 8.3ms\n",
            "video 1/1 (427/1395) /content/drive/MyDrive/cash_training/Currency-Identification-Smart-Glasses.v1i.yolov8/test2.mp4: 192x320 (no detections), 9.2ms\n",
            "video 1/1 (428/1395) /content/drive/MyDrive/cash_training/Currency-Identification-Smart-Glasses.v1i.yolov8/test2.mp4: 192x320 (no detections), 8.5ms\n",
            "video 1/1 (429/1395) /content/drive/MyDrive/cash_training/Currency-Identification-Smart-Glasses.v1i.yolov8/test2.mp4: 192x320 (no detections), 10.8ms\n",
            "video 1/1 (430/1395) /content/drive/MyDrive/cash_training/Currency-Identification-Smart-Glasses.v1i.yolov8/test2.mp4: 192x320 (no detections), 14.2ms\n",
            "video 1/1 (431/1395) /content/drive/MyDrive/cash_training/Currency-Identification-Smart-Glasses.v1i.yolov8/test2.mp4: 192x320 (no detections), 8.3ms\n",
            "video 1/1 (432/1395) /content/drive/MyDrive/cash_training/Currency-Identification-Smart-Glasses.v1i.yolov8/test2.mp4: 192x320 (no detections), 8.4ms\n",
            "video 1/1 (433/1395) /content/drive/MyDrive/cash_training/Currency-Identification-Smart-Glasses.v1i.yolov8/test2.mp4: 192x320 (no detections), 12.0ms\n",
            "video 1/1 (434/1395) /content/drive/MyDrive/cash_training/Currency-Identification-Smart-Glasses.v1i.yolov8/test2.mp4: 192x320 (no detections), 8.8ms\n",
            "video 1/1 (435/1395) /content/drive/MyDrive/cash_training/Currency-Identification-Smart-Glasses.v1i.yolov8/test2.mp4: 192x320 (no detections), 11.5ms\n",
            "video 1/1 (436/1395) /content/drive/MyDrive/cash_training/Currency-Identification-Smart-Glasses.v1i.yolov8/test2.mp4: 192x320 (no detections), 11.6ms\n",
            "video 1/1 (437/1395) /content/drive/MyDrive/cash_training/Currency-Identification-Smart-Glasses.v1i.yolov8/test2.mp4: 192x320 (no detections), 11.4ms\n",
            "video 1/1 (438/1395) /content/drive/MyDrive/cash_training/Currency-Identification-Smart-Glasses.v1i.yolov8/test2.mp4: 192x320 (no detections), 12.0ms\n",
            "video 1/1 (439/1395) /content/drive/MyDrive/cash_training/Currency-Identification-Smart-Glasses.v1i.yolov8/test2.mp4: 192x320 (no detections), 8.3ms\n",
            "video 1/1 (440/1395) /content/drive/MyDrive/cash_training/Currency-Identification-Smart-Glasses.v1i.yolov8/test2.mp4: 192x320 (no detections), 8.2ms\n",
            "video 1/1 (441/1395) /content/drive/MyDrive/cash_training/Currency-Identification-Smart-Glasses.v1i.yolov8/test2.mp4: 192x320 (no detections), 8.3ms\n",
            "video 1/1 (442/1395) /content/drive/MyDrive/cash_training/Currency-Identification-Smart-Glasses.v1i.yolov8/test2.mp4: 192x320 1 note, 9.3ms\n",
            "video 1/1 (443/1395) /content/drive/MyDrive/cash_training/Currency-Identification-Smart-Glasses.v1i.yolov8/test2.mp4: 192x320 1 note, 12.1ms\n",
            "video 1/1 (444/1395) /content/drive/MyDrive/cash_training/Currency-Identification-Smart-Glasses.v1i.yolov8/test2.mp4: 192x320 (no detections), 14.4ms\n",
            "video 1/1 (445/1395) /content/drive/MyDrive/cash_training/Currency-Identification-Smart-Glasses.v1i.yolov8/test2.mp4: 192x320 (no detections), 11.3ms\n",
            "video 1/1 (446/1395) /content/drive/MyDrive/cash_training/Currency-Identification-Smart-Glasses.v1i.yolov8/test2.mp4: 192x320 (no detections), 12.9ms\n",
            "video 1/1 (447/1395) /content/drive/MyDrive/cash_training/Currency-Identification-Smart-Glasses.v1i.yolov8/test2.mp4: 192x320 (no detections), 11.5ms\n",
            "video 1/1 (448/1395) /content/drive/MyDrive/cash_training/Currency-Identification-Smart-Glasses.v1i.yolov8/test2.mp4: 192x320 (no detections), 11.7ms\n",
            "video 1/1 (449/1395) /content/drive/MyDrive/cash_training/Currency-Identification-Smart-Glasses.v1i.yolov8/test2.mp4: 192x320 (no detections), 8.4ms\n",
            "video 1/1 (450/1395) /content/drive/MyDrive/cash_training/Currency-Identification-Smart-Glasses.v1i.yolov8/test2.mp4: 192x320 (no detections), 13.1ms\n",
            "video 1/1 (451/1395) /content/drive/MyDrive/cash_training/Currency-Identification-Smart-Glasses.v1i.yolov8/test2.mp4: 192x320 1 note, 11.1ms\n",
            "video 1/1 (452/1395) /content/drive/MyDrive/cash_training/Currency-Identification-Smart-Glasses.v1i.yolov8/test2.mp4: 192x320 1 note, 8.5ms\n",
            "video 1/1 (453/1395) /content/drive/MyDrive/cash_training/Currency-Identification-Smart-Glasses.v1i.yolov8/test2.mp4: 192x320 1 note, 12.4ms\n",
            "video 1/1 (454/1395) /content/drive/MyDrive/cash_training/Currency-Identification-Smart-Glasses.v1i.yolov8/test2.mp4: 192x320 1 note, 8.3ms\n",
            "video 1/1 (455/1395) /content/drive/MyDrive/cash_training/Currency-Identification-Smart-Glasses.v1i.yolov8/test2.mp4: 192x320 (no detections), 11.2ms\n",
            "video 1/1 (456/1395) /content/drive/MyDrive/cash_training/Currency-Identification-Smart-Glasses.v1i.yolov8/test2.mp4: 192x320 (no detections), 8.5ms\n",
            "video 1/1 (457/1395) /content/drive/MyDrive/cash_training/Currency-Identification-Smart-Glasses.v1i.yolov8/test2.mp4: 192x320 (no detections), 12.9ms\n",
            "video 1/1 (458/1395) /content/drive/MyDrive/cash_training/Currency-Identification-Smart-Glasses.v1i.yolov8/test2.mp4: 192x320 (no detections), 8.8ms\n",
            "video 1/1 (459/1395) /content/drive/MyDrive/cash_training/Currency-Identification-Smart-Glasses.v1i.yolov8/test2.mp4: 192x320 (no detections), 8.1ms\n",
            "video 1/1 (460/1395) /content/drive/MyDrive/cash_training/Currency-Identification-Smart-Glasses.v1i.yolov8/test2.mp4: 192x320 (no detections), 10.9ms\n",
            "video 1/1 (461/1395) /content/drive/MyDrive/cash_training/Currency-Identification-Smart-Glasses.v1i.yolov8/test2.mp4: 192x320 (no detections), 11.7ms\n",
            "video 1/1 (462/1395) /content/drive/MyDrive/cash_training/Currency-Identification-Smart-Glasses.v1i.yolov8/test2.mp4: 192x320 (no detections), 8.0ms\n",
            "video 1/1 (463/1395) /content/drive/MyDrive/cash_training/Currency-Identification-Smart-Glasses.v1i.yolov8/test2.mp4: 192x320 (no detections), 8.3ms\n",
            "video 1/1 (464/1395) /content/drive/MyDrive/cash_training/Currency-Identification-Smart-Glasses.v1i.yolov8/test2.mp4: 192x320 (no detections), 8.3ms\n",
            "video 1/1 (465/1395) /content/drive/MyDrive/cash_training/Currency-Identification-Smart-Glasses.v1i.yolov8/test2.mp4: 192x320 1 atm-card, 12.3ms\n",
            "video 1/1 (466/1395) /content/drive/MyDrive/cash_training/Currency-Identification-Smart-Glasses.v1i.yolov8/test2.mp4: 192x320 1 atm-card, 12.4ms\n",
            "video 1/1 (467/1395) /content/drive/MyDrive/cash_training/Currency-Identification-Smart-Glasses.v1i.yolov8/test2.mp4: 192x320 (no detections), 11.5ms\n",
            "video 1/1 (468/1395) /content/drive/MyDrive/cash_training/Currency-Identification-Smart-Glasses.v1i.yolov8/test2.mp4: 192x320 (no detections), 9.8ms\n",
            "video 1/1 (469/1395) /content/drive/MyDrive/cash_training/Currency-Identification-Smart-Glasses.v1i.yolov8/test2.mp4: 192x320 (no detections), 10.3ms\n",
            "video 1/1 (470/1395) /content/drive/MyDrive/cash_training/Currency-Identification-Smart-Glasses.v1i.yolov8/test2.mp4: 192x320 (no detections), 15.6ms\n",
            "video 1/1 (471/1395) /content/drive/MyDrive/cash_training/Currency-Identification-Smart-Glasses.v1i.yolov8/test2.mp4: 192x320 (no detections), 8.8ms\n",
            "video 1/1 (472/1395) /content/drive/MyDrive/cash_training/Currency-Identification-Smart-Glasses.v1i.yolov8/test2.mp4: 192x320 (no detections), 9.5ms\n",
            "video 1/1 (473/1395) /content/drive/MyDrive/cash_training/Currency-Identification-Smart-Glasses.v1i.yolov8/test2.mp4: 192x320 (no detections), 8.2ms\n",
            "video 1/1 (474/1395) /content/drive/MyDrive/cash_training/Currency-Identification-Smart-Glasses.v1i.yolov8/test2.mp4: 192x320 (no detections), 9.3ms\n",
            "video 1/1 (475/1395) /content/drive/MyDrive/cash_training/Currency-Identification-Smart-Glasses.v1i.yolov8/test2.mp4: 192x320 (no detections), 13.0ms\n",
            "video 1/1 (476/1395) /content/drive/MyDrive/cash_training/Currency-Identification-Smart-Glasses.v1i.yolov8/test2.mp4: 192x320 (no detections), 11.6ms\n",
            "video 1/1 (477/1395) /content/drive/MyDrive/cash_training/Currency-Identification-Smart-Glasses.v1i.yolov8/test2.mp4: 192x320 (no detections), 9.3ms\n",
            "video 1/1 (478/1395) /content/drive/MyDrive/cash_training/Currency-Identification-Smart-Glasses.v1i.yolov8/test2.mp4: 192x320 (no detections), 10.5ms\n",
            "video 1/1 (479/1395) /content/drive/MyDrive/cash_training/Currency-Identification-Smart-Glasses.v1i.yolov8/test2.mp4: 192x320 (no detections), 8.8ms\n",
            "video 1/1 (480/1395) /content/drive/MyDrive/cash_training/Currency-Identification-Smart-Glasses.v1i.yolov8/test2.mp4: 192x320 (no detections), 12.5ms\n",
            "video 1/1 (481/1395) /content/drive/MyDrive/cash_training/Currency-Identification-Smart-Glasses.v1i.yolov8/test2.mp4: 192x320 (no detections), 8.4ms\n",
            "video 1/1 (482/1395) /content/drive/MyDrive/cash_training/Currency-Identification-Smart-Glasses.v1i.yolov8/test2.mp4: 192x320 1 atm-card, 10.9ms\n",
            "video 1/1 (483/1395) /content/drive/MyDrive/cash_training/Currency-Identification-Smart-Glasses.v1i.yolov8/test2.mp4: 192x320 1 atm-card, 9.8ms\n",
            "video 1/1 (484/1395) /content/drive/MyDrive/cash_training/Currency-Identification-Smart-Glasses.v1i.yolov8/test2.mp4: 192x320 (no detections), 8.2ms\n",
            "video 1/1 (485/1395) /content/drive/MyDrive/cash_training/Currency-Identification-Smart-Glasses.v1i.yolov8/test2.mp4: 192x320 1 atm-card, 8.2ms\n",
            "video 1/1 (486/1395) /content/drive/MyDrive/cash_training/Currency-Identification-Smart-Glasses.v1i.yolov8/test2.mp4: 192x320 1 atm-card, 13.1ms\n",
            "video 1/1 (487/1395) /content/drive/MyDrive/cash_training/Currency-Identification-Smart-Glasses.v1i.yolov8/test2.mp4: 192x320 1 atm-card, 11.7ms\n",
            "video 1/1 (488/1395) /content/drive/MyDrive/cash_training/Currency-Identification-Smart-Glasses.v1i.yolov8/test2.mp4: 192x320 1 atm-card, 14.6ms\n",
            "video 1/1 (489/1395) /content/drive/MyDrive/cash_training/Currency-Identification-Smart-Glasses.v1i.yolov8/test2.mp4: 192x320 1 atm-card, 11.8ms\n",
            "video 1/1 (490/1395) /content/drive/MyDrive/cash_training/Currency-Identification-Smart-Glasses.v1i.yolov8/test2.mp4: 192x320 1 atm-card, 8.2ms\n",
            "video 1/1 (491/1395) /content/drive/MyDrive/cash_training/Currency-Identification-Smart-Glasses.v1i.yolov8/test2.mp4: 192x320 1 atm-card, 9.1ms\n",
            "video 1/1 (492/1395) /content/drive/MyDrive/cash_training/Currency-Identification-Smart-Glasses.v1i.yolov8/test2.mp4: 192x320 (no detections), 10.4ms\n",
            "video 1/1 (493/1395) /content/drive/MyDrive/cash_training/Currency-Identification-Smart-Glasses.v1i.yolov8/test2.mp4: 192x320 1 atm-card, 10.1ms\n",
            "video 1/1 (494/1395) /content/drive/MyDrive/cash_training/Currency-Identification-Smart-Glasses.v1i.yolov8/test2.mp4: 192x320 1 atm-card, 9.3ms\n",
            "video 1/1 (495/1395) /content/drive/MyDrive/cash_training/Currency-Identification-Smart-Glasses.v1i.yolov8/test2.mp4: 192x320 (no detections), 12.0ms\n",
            "video 1/1 (496/1395) /content/drive/MyDrive/cash_training/Currency-Identification-Smart-Glasses.v1i.yolov8/test2.mp4: 192x320 (no detections), 9.1ms\n",
            "video 1/1 (497/1395) /content/drive/MyDrive/cash_training/Currency-Identification-Smart-Glasses.v1i.yolov8/test2.mp4: 192x320 (no detections), 12.1ms\n",
            "video 1/1 (498/1395) /content/drive/MyDrive/cash_training/Currency-Identification-Smart-Glasses.v1i.yolov8/test2.mp4: 192x320 (no detections), 10.9ms\n",
            "video 1/1 (499/1395) /content/drive/MyDrive/cash_training/Currency-Identification-Smart-Glasses.v1i.yolov8/test2.mp4: 192x320 (no detections), 12.3ms\n",
            "video 1/1 (500/1395) /content/drive/MyDrive/cash_training/Currency-Identification-Smart-Glasses.v1i.yolov8/test2.mp4: 192x320 (no detections), 10.5ms\n",
            "video 1/1 (501/1395) /content/drive/MyDrive/cash_training/Currency-Identification-Smart-Glasses.v1i.yolov8/test2.mp4: 192x320 (no detections), 10.6ms\n",
            "video 1/1 (502/1395) /content/drive/MyDrive/cash_training/Currency-Identification-Smart-Glasses.v1i.yolov8/test2.mp4: 192x320 (no detections), 9.8ms\n",
            "video 1/1 (503/1395) /content/drive/MyDrive/cash_training/Currency-Identification-Smart-Glasses.v1i.yolov8/test2.mp4: 192x320 (no detections), 8.7ms\n",
            "video 1/1 (504/1395) /content/drive/MyDrive/cash_training/Currency-Identification-Smart-Glasses.v1i.yolov8/test2.mp4: 192x320 (no detections), 10.5ms\n",
            "video 1/1 (505/1395) /content/drive/MyDrive/cash_training/Currency-Identification-Smart-Glasses.v1i.yolov8/test2.mp4: 192x320 (no detections), 10.7ms\n",
            "video 1/1 (506/1395) /content/drive/MyDrive/cash_training/Currency-Identification-Smart-Glasses.v1i.yolov8/test2.mp4: 192x320 (no detections), 23.9ms\n",
            "video 1/1 (507/1395) /content/drive/MyDrive/cash_training/Currency-Identification-Smart-Glasses.v1i.yolov8/test2.mp4: 192x320 (no detections), 16.9ms\n",
            "video 1/1 (508/1395) /content/drive/MyDrive/cash_training/Currency-Identification-Smart-Glasses.v1i.yolov8/test2.mp4: 192x320 (no detections), 18.2ms\n",
            "video 1/1 (509/1395) /content/drive/MyDrive/cash_training/Currency-Identification-Smart-Glasses.v1i.yolov8/test2.mp4: 192x320 (no detections), 18.3ms\n",
            "video 1/1 (510/1395) /content/drive/MyDrive/cash_training/Currency-Identification-Smart-Glasses.v1i.yolov8/test2.mp4: 192x320 (no detections), 13.1ms\n",
            "video 1/1 (511/1395) /content/drive/MyDrive/cash_training/Currency-Identification-Smart-Glasses.v1i.yolov8/test2.mp4: 192x320 (no detections), 12.6ms\n",
            "video 1/1 (512/1395) /content/drive/MyDrive/cash_training/Currency-Identification-Smart-Glasses.v1i.yolov8/test2.mp4: 192x320 (no detections), 12.6ms\n",
            "video 1/1 (513/1395) /content/drive/MyDrive/cash_training/Currency-Identification-Smart-Glasses.v1i.yolov8/test2.mp4: 192x320 1 note, 12.5ms\n",
            "video 1/1 (514/1395) /content/drive/MyDrive/cash_training/Currency-Identification-Smart-Glasses.v1i.yolov8/test2.mp4: 192x320 1 note, 12.9ms\n",
            "video 1/1 (515/1395) /content/drive/MyDrive/cash_training/Currency-Identification-Smart-Glasses.v1i.yolov8/test2.mp4: 192x320 (no detections), 15.8ms\n",
            "video 1/1 (516/1395) /content/drive/MyDrive/cash_training/Currency-Identification-Smart-Glasses.v1i.yolov8/test2.mp4: 192x320 (no detections), 14.1ms\n",
            "video 1/1 (517/1395) /content/drive/MyDrive/cash_training/Currency-Identification-Smart-Glasses.v1i.yolov8/test2.mp4: 192x320 (no detections), 12.9ms\n",
            "video 1/1 (518/1395) /content/drive/MyDrive/cash_training/Currency-Identification-Smart-Glasses.v1i.yolov8/test2.mp4: 192x320 1 note, 13.4ms\n",
            "video 1/1 (519/1395) /content/drive/MyDrive/cash_training/Currency-Identification-Smart-Glasses.v1i.yolov8/test2.mp4: 192x320 1 note, 11.2ms\n",
            "video 1/1 (520/1395) /content/drive/MyDrive/cash_training/Currency-Identification-Smart-Glasses.v1i.yolov8/test2.mp4: 192x320 1 note, 13.1ms\n",
            "video 1/1 (521/1395) /content/drive/MyDrive/cash_training/Currency-Identification-Smart-Glasses.v1i.yolov8/test2.mp4: 192x320 1 note, 13.1ms\n",
            "video 1/1 (522/1395) /content/drive/MyDrive/cash_training/Currency-Identification-Smart-Glasses.v1i.yolov8/test2.mp4: 192x320 1 atm-card, 1 note, 13.2ms\n",
            "video 1/1 (523/1395) /content/drive/MyDrive/cash_training/Currency-Identification-Smart-Glasses.v1i.yolov8/test2.mp4: 192x320 (no detections), 12.2ms\n",
            "video 1/1 (524/1395) /content/drive/MyDrive/cash_training/Currency-Identification-Smart-Glasses.v1i.yolov8/test2.mp4: 192x320 (no detections), 12.9ms\n",
            "video 1/1 (525/1395) /content/drive/MyDrive/cash_training/Currency-Identification-Smart-Glasses.v1i.yolov8/test2.mp4: 192x320 (no detections), 10.9ms\n",
            "video 1/1 (526/1395) /content/drive/MyDrive/cash_training/Currency-Identification-Smart-Glasses.v1i.yolov8/test2.mp4: 192x320 (no detections), 12.8ms\n",
            "video 1/1 (527/1395) /content/drive/MyDrive/cash_training/Currency-Identification-Smart-Glasses.v1i.yolov8/test2.mp4: 192x320 (no detections), 11.5ms\n",
            "video 1/1 (528/1395) /content/drive/MyDrive/cash_training/Currency-Identification-Smart-Glasses.v1i.yolov8/test2.mp4: 192x320 (no detections), 14.7ms\n",
            "video 1/1 (529/1395) /content/drive/MyDrive/cash_training/Currency-Identification-Smart-Glasses.v1i.yolov8/test2.mp4: 192x320 1 atm-card, 12.6ms\n",
            "video 1/1 (530/1395) /content/drive/MyDrive/cash_training/Currency-Identification-Smart-Glasses.v1i.yolov8/test2.mp4: 192x320 (no detections), 13.1ms\n",
            "video 1/1 (531/1395) /content/drive/MyDrive/cash_training/Currency-Identification-Smart-Glasses.v1i.yolov8/test2.mp4: 192x320 (no detections), 11.7ms\n",
            "video 1/1 (532/1395) /content/drive/MyDrive/cash_training/Currency-Identification-Smart-Glasses.v1i.yolov8/test2.mp4: 192x320 1 note, 11.6ms\n",
            "video 1/1 (533/1395) /content/drive/MyDrive/cash_training/Currency-Identification-Smart-Glasses.v1i.yolov8/test2.mp4: 192x320 (no detections), 17.0ms\n",
            "video 1/1 (534/1395) /content/drive/MyDrive/cash_training/Currency-Identification-Smart-Glasses.v1i.yolov8/test2.mp4: 192x320 1 note, 12.0ms\n",
            "video 1/1 (535/1395) /content/drive/MyDrive/cash_training/Currency-Identification-Smart-Glasses.v1i.yolov8/test2.mp4: 192x320 (no detections), 13.0ms\n",
            "video 1/1 (536/1395) /content/drive/MyDrive/cash_training/Currency-Identification-Smart-Glasses.v1i.yolov8/test2.mp4: 192x320 1 note, 10.9ms\n",
            "video 1/1 (537/1395) /content/drive/MyDrive/cash_training/Currency-Identification-Smart-Glasses.v1i.yolov8/test2.mp4: 192x320 (no detections), 15.0ms\n",
            "video 1/1 (538/1395) /content/drive/MyDrive/cash_training/Currency-Identification-Smart-Glasses.v1i.yolov8/test2.mp4: 192x320 (no detections), 12.9ms\n",
            "video 1/1 (539/1395) /content/drive/MyDrive/cash_training/Currency-Identification-Smart-Glasses.v1i.yolov8/test2.mp4: 192x320 (no detections), 15.0ms\n",
            "video 1/1 (540/1395) /content/drive/MyDrive/cash_training/Currency-Identification-Smart-Glasses.v1i.yolov8/test2.mp4: 192x320 (no detections), 25.6ms\n",
            "video 1/1 (541/1395) /content/drive/MyDrive/cash_training/Currency-Identification-Smart-Glasses.v1i.yolov8/test2.mp4: 192x320 1 atm-card, 1 note, 11.5ms\n",
            "video 1/1 (542/1395) /content/drive/MyDrive/cash_training/Currency-Identification-Smart-Glasses.v1i.yolov8/test2.mp4: 192x320 1 atm-card, 1 note, 12.2ms\n",
            "video 1/1 (543/1395) /content/drive/MyDrive/cash_training/Currency-Identification-Smart-Glasses.v1i.yolov8/test2.mp4: 192x320 2 atm-cards, 1 note, 12.1ms\n",
            "video 1/1 (544/1395) /content/drive/MyDrive/cash_training/Currency-Identification-Smart-Glasses.v1i.yolov8/test2.mp4: 192x320 1 atm-card, 1 note, 13.8ms\n",
            "video 1/1 (545/1395) /content/drive/MyDrive/cash_training/Currency-Identification-Smart-Glasses.v1i.yolov8/test2.mp4: 192x320 1 atm-card, 1 note, 12.2ms\n",
            "video 1/1 (546/1395) /content/drive/MyDrive/cash_training/Currency-Identification-Smart-Glasses.v1i.yolov8/test2.mp4: 192x320 1 atm-card, 1 note, 15.2ms\n",
            "video 1/1 (547/1395) /content/drive/MyDrive/cash_training/Currency-Identification-Smart-Glasses.v1i.yolov8/test2.mp4: 192x320 1 atm-card, 1 note, 12.3ms\n",
            "video 1/1 (548/1395) /content/drive/MyDrive/cash_training/Currency-Identification-Smart-Glasses.v1i.yolov8/test2.mp4: 192x320 1 atm-card, 1 note, 16.5ms\n",
            "video 1/1 (549/1395) /content/drive/MyDrive/cash_training/Currency-Identification-Smart-Glasses.v1i.yolov8/test2.mp4: 192x320 1 atm-card, 1 note, 14.1ms\n",
            "video 1/1 (550/1395) /content/drive/MyDrive/cash_training/Currency-Identification-Smart-Glasses.v1i.yolov8/test2.mp4: 192x320 1 note, 14.2ms\n",
            "video 1/1 (551/1395) /content/drive/MyDrive/cash_training/Currency-Identification-Smart-Glasses.v1i.yolov8/test2.mp4: 192x320 1 atm-card, 1 note, 18.3ms\n",
            "video 1/1 (552/1395) /content/drive/MyDrive/cash_training/Currency-Identification-Smart-Glasses.v1i.yolov8/test2.mp4: 192x320 1 atm-card, 1 note, 13.6ms\n",
            "video 1/1 (553/1395) /content/drive/MyDrive/cash_training/Currency-Identification-Smart-Glasses.v1i.yolov8/test2.mp4: 192x320 1 atm-card, 1 note, 12.0ms\n",
            "video 1/1 (554/1395) /content/drive/MyDrive/cash_training/Currency-Identification-Smart-Glasses.v1i.yolov8/test2.mp4: 192x320 1 atm-card, 1 note, 18.6ms\n",
            "video 1/1 (555/1395) /content/drive/MyDrive/cash_training/Currency-Identification-Smart-Glasses.v1i.yolov8/test2.mp4: 192x320 1 atm-card, 1 note, 11.4ms\n",
            "video 1/1 (556/1395) /content/drive/MyDrive/cash_training/Currency-Identification-Smart-Glasses.v1i.yolov8/test2.mp4: 192x320 1 atm-card, 1 note, 17.7ms\n",
            "video 1/1 (557/1395) /content/drive/MyDrive/cash_training/Currency-Identification-Smart-Glasses.v1i.yolov8/test2.mp4: 192x320 1 atm-card, 1 note, 15.6ms\n",
            "video 1/1 (558/1395) /content/drive/MyDrive/cash_training/Currency-Identification-Smart-Glasses.v1i.yolov8/test2.mp4: 192x320 2 atm-cards, 1 note, 12.0ms\n",
            "video 1/1 (559/1395) /content/drive/MyDrive/cash_training/Currency-Identification-Smart-Glasses.v1i.yolov8/test2.mp4: 192x320 1 atm-card, 1 note, 12.4ms\n",
            "video 1/1 (560/1395) /content/drive/MyDrive/cash_training/Currency-Identification-Smart-Glasses.v1i.yolov8/test2.mp4: 192x320 1 atm-card, 1 note, 13.0ms\n",
            "video 1/1 (561/1395) /content/drive/MyDrive/cash_training/Currency-Identification-Smart-Glasses.v1i.yolov8/test2.mp4: 192x320 1 atm-card, 1 note, 11.6ms\n",
            "video 1/1 (562/1395) /content/drive/MyDrive/cash_training/Currency-Identification-Smart-Glasses.v1i.yolov8/test2.mp4: 192x320 1 atm-card, 1 note, 22.2ms\n",
            "video 1/1 (563/1395) /content/drive/MyDrive/cash_training/Currency-Identification-Smart-Glasses.v1i.yolov8/test2.mp4: 192x320 1 atm-card, 1 note, 15.7ms\n",
            "video 1/1 (564/1395) /content/drive/MyDrive/cash_training/Currency-Identification-Smart-Glasses.v1i.yolov8/test2.mp4: 192x320 1 atm-card, 1 note, 14.7ms\n",
            "video 1/1 (565/1395) /content/drive/MyDrive/cash_training/Currency-Identification-Smart-Glasses.v1i.yolov8/test2.mp4: 192x320 1 atm-card, 20.4ms\n",
            "video 1/1 (566/1395) /content/drive/MyDrive/cash_training/Currency-Identification-Smart-Glasses.v1i.yolov8/test2.mp4: 192x320 1 atm-card, 1 note, 13.4ms\n",
            "video 1/1 (567/1395) /content/drive/MyDrive/cash_training/Currency-Identification-Smart-Glasses.v1i.yolov8/test2.mp4: 192x320 1 atm-card, 2 notes, 14.4ms\n",
            "video 1/1 (568/1395) /content/drive/MyDrive/cash_training/Currency-Identification-Smart-Glasses.v1i.yolov8/test2.mp4: 192x320 1 atm-card, 1 note, 11.7ms\n",
            "video 1/1 (569/1395) /content/drive/MyDrive/cash_training/Currency-Identification-Smart-Glasses.v1i.yolov8/test2.mp4: 192x320 1 note, 12.1ms\n",
            "video 1/1 (570/1395) /content/drive/MyDrive/cash_training/Currency-Identification-Smart-Glasses.v1i.yolov8/test2.mp4: 192x320 1 atm-card, 1 note, 15.5ms\n",
            "video 1/1 (571/1395) /content/drive/MyDrive/cash_training/Currency-Identification-Smart-Glasses.v1i.yolov8/test2.mp4: 192x320 1 atm-card, 1 note, 11.1ms\n",
            "video 1/1 (572/1395) /content/drive/MyDrive/cash_training/Currency-Identification-Smart-Glasses.v1i.yolov8/test2.mp4: 192x320 1 atm-card, 1 note, 17.6ms\n",
            "video 1/1 (573/1395) /content/drive/MyDrive/cash_training/Currency-Identification-Smart-Glasses.v1i.yolov8/test2.mp4: 192x320 1 atm-card, 1 note, 22.2ms\n",
            "video 1/1 (574/1395) /content/drive/MyDrive/cash_training/Currency-Identification-Smart-Glasses.v1i.yolov8/test2.mp4: 192x320 1 atm-card, 1 note, 18.5ms\n",
            "video 1/1 (575/1395) /content/drive/MyDrive/cash_training/Currency-Identification-Smart-Glasses.v1i.yolov8/test2.mp4: 192x320 1 atm-card, 1 note, 11.1ms\n",
            "video 1/1 (576/1395) /content/drive/MyDrive/cash_training/Currency-Identification-Smart-Glasses.v1i.yolov8/test2.mp4: 192x320 1 atm-card, 1 note, 12.4ms\n",
            "video 1/1 (577/1395) /content/drive/MyDrive/cash_training/Currency-Identification-Smart-Glasses.v1i.yolov8/test2.mp4: 192x320 1 atm-card, 10.7ms\n",
            "video 1/1 (578/1395) /content/drive/MyDrive/cash_training/Currency-Identification-Smart-Glasses.v1i.yolov8/test2.mp4: 192x320 1 atm-card, 12.9ms\n",
            "video 1/1 (579/1395) /content/drive/MyDrive/cash_training/Currency-Identification-Smart-Glasses.v1i.yolov8/test2.mp4: 192x320 1 atm-card, 1 note, 12.6ms\n",
            "video 1/1 (580/1395) /content/drive/MyDrive/cash_training/Currency-Identification-Smart-Glasses.v1i.yolov8/test2.mp4: 192x320 1 atm-card, 17.2ms\n",
            "video 1/1 (581/1395) /content/drive/MyDrive/cash_training/Currency-Identification-Smart-Glasses.v1i.yolov8/test2.mp4: 192x320 1 atm-card, 1 note, 14.4ms\n",
            "video 1/1 (582/1395) /content/drive/MyDrive/cash_training/Currency-Identification-Smart-Glasses.v1i.yolov8/test2.mp4: 192x320 1 atm-card, 14.0ms\n",
            "video 1/1 (583/1395) /content/drive/MyDrive/cash_training/Currency-Identification-Smart-Glasses.v1i.yolov8/test2.mp4: 192x320 1 atm-card, 10.7ms\n",
            "video 1/1 (584/1395) /content/drive/MyDrive/cash_training/Currency-Identification-Smart-Glasses.v1i.yolov8/test2.mp4: 192x320 1 atm-card, 13.5ms\n",
            "video 1/1 (585/1395) /content/drive/MyDrive/cash_training/Currency-Identification-Smart-Glasses.v1i.yolov8/test2.mp4: 192x320 1 atm-card, 10.9ms\n",
            "video 1/1 (586/1395) /content/drive/MyDrive/cash_training/Currency-Identification-Smart-Glasses.v1i.yolov8/test2.mp4: 192x320 1 atm-card, 11.3ms\n",
            "video 1/1 (587/1395) /content/drive/MyDrive/cash_training/Currency-Identification-Smart-Glasses.v1i.yolov8/test2.mp4: 192x320 1 atm-card, 11.3ms\n",
            "video 1/1 (588/1395) /content/drive/MyDrive/cash_training/Currency-Identification-Smart-Glasses.v1i.yolov8/test2.mp4: 192x320 1 atm-card, 11.3ms\n",
            "video 1/1 (589/1395) /content/drive/MyDrive/cash_training/Currency-Identification-Smart-Glasses.v1i.yolov8/test2.mp4: 192x320 1 atm-card, 16.9ms\n",
            "video 1/1 (590/1395) /content/drive/MyDrive/cash_training/Currency-Identification-Smart-Glasses.v1i.yolov8/test2.mp4: 192x320 1 atm-card, 15.6ms\n",
            "video 1/1 (591/1395) /content/drive/MyDrive/cash_training/Currency-Identification-Smart-Glasses.v1i.yolov8/test2.mp4: 192x320 1 atm-card, 17.7ms\n",
            "video 1/1 (592/1395) /content/drive/MyDrive/cash_training/Currency-Identification-Smart-Glasses.v1i.yolov8/test2.mp4: 192x320 1 atm-card, 1 note, 14.9ms\n",
            "video 1/1 (593/1395) /content/drive/MyDrive/cash_training/Currency-Identification-Smart-Glasses.v1i.yolov8/test2.mp4: 192x320 1 atm-card, 1 note, 15.0ms\n",
            "video 1/1 (594/1395) /content/drive/MyDrive/cash_training/Currency-Identification-Smart-Glasses.v1i.yolov8/test2.mp4: 192x320 1 note, 15.3ms\n",
            "video 1/1 (595/1395) /content/drive/MyDrive/cash_training/Currency-Identification-Smart-Glasses.v1i.yolov8/test2.mp4: 192x320 1 note, 17.1ms\n",
            "video 1/1 (596/1395) /content/drive/MyDrive/cash_training/Currency-Identification-Smart-Glasses.v1i.yolov8/test2.mp4: 192x320 1 note, 12.8ms\n",
            "video 1/1 (597/1395) /content/drive/MyDrive/cash_training/Currency-Identification-Smart-Glasses.v1i.yolov8/test2.mp4: 192x320 1 note, 13.4ms\n",
            "video 1/1 (598/1395) /content/drive/MyDrive/cash_training/Currency-Identification-Smart-Glasses.v1i.yolov8/test2.mp4: 192x320 1 note, 12.9ms\n",
            "video 1/1 (599/1395) /content/drive/MyDrive/cash_training/Currency-Identification-Smart-Glasses.v1i.yolov8/test2.mp4: 192x320 1 note, 12.9ms\n",
            "video 1/1 (600/1395) /content/drive/MyDrive/cash_training/Currency-Identification-Smart-Glasses.v1i.yolov8/test2.mp4: 192x320 1 note, 12.5ms\n",
            "video 1/1 (601/1395) /content/drive/MyDrive/cash_training/Currency-Identification-Smart-Glasses.v1i.yolov8/test2.mp4: 192x320 1 note, 14.7ms\n",
            "video 1/1 (602/1395) /content/drive/MyDrive/cash_training/Currency-Identification-Smart-Glasses.v1i.yolov8/test2.mp4: 192x320 1 note, 11.2ms\n",
            "video 1/1 (603/1395) /content/drive/MyDrive/cash_training/Currency-Identification-Smart-Glasses.v1i.yolov8/test2.mp4: 192x320 1 note, 12.9ms\n",
            "video 1/1 (604/1395) /content/drive/MyDrive/cash_training/Currency-Identification-Smart-Glasses.v1i.yolov8/test2.mp4: 192x320 1 note, 10.4ms\n",
            "video 1/1 (605/1395) /content/drive/MyDrive/cash_training/Currency-Identification-Smart-Glasses.v1i.yolov8/test2.mp4: 192x320 1 note, 12.7ms\n",
            "video 1/1 (606/1395) /content/drive/MyDrive/cash_training/Currency-Identification-Smart-Glasses.v1i.yolov8/test2.mp4: 192x320 1 note, 11.2ms\n",
            "video 1/1 (607/1395) /content/drive/MyDrive/cash_training/Currency-Identification-Smart-Glasses.v1i.yolov8/test2.mp4: 192x320 1 note, 13.4ms\n",
            "video 1/1 (608/1395) /content/drive/MyDrive/cash_training/Currency-Identification-Smart-Glasses.v1i.yolov8/test2.mp4: 192x320 1 note, 13.0ms\n",
            "video 1/1 (609/1395) /content/drive/MyDrive/cash_training/Currency-Identification-Smart-Glasses.v1i.yolov8/test2.mp4: 192x320 1 note, 17.9ms\n",
            "video 1/1 (610/1395) /content/drive/MyDrive/cash_training/Currency-Identification-Smart-Glasses.v1i.yolov8/test2.mp4: 192x320 1 note, 14.7ms\n",
            "video 1/1 (611/1395) /content/drive/MyDrive/cash_training/Currency-Identification-Smart-Glasses.v1i.yolov8/test2.mp4: 192x320 1 note, 14.7ms\n",
            "video 1/1 (612/1395) /content/drive/MyDrive/cash_training/Currency-Identification-Smart-Glasses.v1i.yolov8/test2.mp4: 192x320 1 atm-card, 1 note, 13.3ms\n",
            "video 1/1 (613/1395) /content/drive/MyDrive/cash_training/Currency-Identification-Smart-Glasses.v1i.yolov8/test2.mp4: 192x320 1 note, 10.4ms\n",
            "video 1/1 (614/1395) /content/drive/MyDrive/cash_training/Currency-Identification-Smart-Glasses.v1i.yolov8/test2.mp4: 192x320 1 atm-card, 1 note, 12.4ms\n",
            "video 1/1 (615/1395) /content/drive/MyDrive/cash_training/Currency-Identification-Smart-Glasses.v1i.yolov8/test2.mp4: 192x320 1 atm-card, 1 note, 14.9ms\n",
            "video 1/1 (616/1395) /content/drive/MyDrive/cash_training/Currency-Identification-Smart-Glasses.v1i.yolov8/test2.mp4: 192x320 1 atm-card, 1 note, 13.8ms\n",
            "video 1/1 (617/1395) /content/drive/MyDrive/cash_training/Currency-Identification-Smart-Glasses.v1i.yolov8/test2.mp4: 192x320 1 atm-card, 1 note, 12.1ms\n",
            "video 1/1 (618/1395) /content/drive/MyDrive/cash_training/Currency-Identification-Smart-Glasses.v1i.yolov8/test2.mp4: 192x320 1 atm-card, 1 note, 17.1ms\n",
            "video 1/1 (619/1395) /content/drive/MyDrive/cash_training/Currency-Identification-Smart-Glasses.v1i.yolov8/test2.mp4: 192x320 1 atm-card, 1 note, 11.0ms\n",
            "video 1/1 (620/1395) /content/drive/MyDrive/cash_training/Currency-Identification-Smart-Glasses.v1i.yolov8/test2.mp4: 192x320 1 atm-card, 17.7ms\n",
            "video 1/1 (621/1395) /content/drive/MyDrive/cash_training/Currency-Identification-Smart-Glasses.v1i.yolov8/test2.mp4: 192x320 1 atm-card, 1 note, 11.7ms\n",
            "video 1/1 (622/1395) /content/drive/MyDrive/cash_training/Currency-Identification-Smart-Glasses.v1i.yolov8/test2.mp4: 192x320 1 atm-card, 1 note, 22.0ms\n",
            "video 1/1 (623/1395) /content/drive/MyDrive/cash_training/Currency-Identification-Smart-Glasses.v1i.yolov8/test2.mp4: 192x320 1 atm-card, 1 note, 17.7ms\n",
            "video 1/1 (624/1395) /content/drive/MyDrive/cash_training/Currency-Identification-Smart-Glasses.v1i.yolov8/test2.mp4: 192x320 1 note, 16.5ms\n",
            "video 1/1 (625/1395) /content/drive/MyDrive/cash_training/Currency-Identification-Smart-Glasses.v1i.yolov8/test2.mp4: 192x320 1 note, 8.6ms\n",
            "video 1/1 (626/1395) /content/drive/MyDrive/cash_training/Currency-Identification-Smart-Glasses.v1i.yolov8/test2.mp4: 192x320 1 note, 11.3ms\n",
            "video 1/1 (627/1395) /content/drive/MyDrive/cash_training/Currency-Identification-Smart-Glasses.v1i.yolov8/test2.mp4: 192x320 1 note, 14.2ms\n",
            "video 1/1 (628/1395) /content/drive/MyDrive/cash_training/Currency-Identification-Smart-Glasses.v1i.yolov8/test2.mp4: 192x320 1 atm-card, 1 note, 16.1ms\n",
            "video 1/1 (629/1395) /content/drive/MyDrive/cash_training/Currency-Identification-Smart-Glasses.v1i.yolov8/test2.mp4: 192x320 1 atm-card, 1 note, 10.2ms\n",
            "video 1/1 (630/1395) /content/drive/MyDrive/cash_training/Currency-Identification-Smart-Glasses.v1i.yolov8/test2.mp4: 192x320 1 atm-card, 1 note, 13.4ms\n",
            "video 1/1 (631/1395) /content/drive/MyDrive/cash_training/Currency-Identification-Smart-Glasses.v1i.yolov8/test2.mp4: 192x320 1 note, 8.3ms\n",
            "video 1/1 (632/1395) /content/drive/MyDrive/cash_training/Currency-Identification-Smart-Glasses.v1i.yolov8/test2.mp4: 192x320 1 note, 12.3ms\n",
            "video 1/1 (633/1395) /content/drive/MyDrive/cash_training/Currency-Identification-Smart-Glasses.v1i.yolov8/test2.mp4: 192x320 1 note, 8.2ms\n",
            "video 1/1 (634/1395) /content/drive/MyDrive/cash_training/Currency-Identification-Smart-Glasses.v1i.yolov8/test2.mp4: 192x320 1 atm-card, 1 note, 9.3ms\n",
            "video 1/1 (635/1395) /content/drive/MyDrive/cash_training/Currency-Identification-Smart-Glasses.v1i.yolov8/test2.mp4: 192x320 1 atm-card, 1 note, 8.4ms\n",
            "video 1/1 (636/1395) /content/drive/MyDrive/cash_training/Currency-Identification-Smart-Glasses.v1i.yolov8/test2.mp4: 192x320 1 note, 8.4ms\n",
            "video 1/1 (637/1395) /content/drive/MyDrive/cash_training/Currency-Identification-Smart-Glasses.v1i.yolov8/test2.mp4: 192x320 1 atm-card, 1 note, 10.1ms\n",
            "video 1/1 (638/1395) /content/drive/MyDrive/cash_training/Currency-Identification-Smart-Glasses.v1i.yolov8/test2.mp4: 192x320 1 atm-card, 9.0ms\n",
            "video 1/1 (639/1395) /content/drive/MyDrive/cash_training/Currency-Identification-Smart-Glasses.v1i.yolov8/test2.mp4: 192x320 (no detections), 8.2ms\n",
            "video 1/1 (640/1395) /content/drive/MyDrive/cash_training/Currency-Identification-Smart-Glasses.v1i.yolov8/test2.mp4: 192x320 (no detections), 8.2ms\n",
            "video 1/1 (641/1395) /content/drive/MyDrive/cash_training/Currency-Identification-Smart-Glasses.v1i.yolov8/test2.mp4: 192x320 1 atm-card, 9.5ms\n",
            "video 1/1 (642/1395) /content/drive/MyDrive/cash_training/Currency-Identification-Smart-Glasses.v1i.yolov8/test2.mp4: 192x320 1 atm-card, 11.5ms\n",
            "video 1/1 (643/1395) /content/drive/MyDrive/cash_training/Currency-Identification-Smart-Glasses.v1i.yolov8/test2.mp4: 192x320 1 atm-card, 8.4ms\n",
            "video 1/1 (644/1395) /content/drive/MyDrive/cash_training/Currency-Identification-Smart-Glasses.v1i.yolov8/test2.mp4: 192x320 (no detections), 13.0ms\n",
            "video 1/1 (645/1395) /content/drive/MyDrive/cash_training/Currency-Identification-Smart-Glasses.v1i.yolov8/test2.mp4: 192x320 1 note, 8.3ms\n",
            "video 1/1 (646/1395) /content/drive/MyDrive/cash_training/Currency-Identification-Smart-Glasses.v1i.yolov8/test2.mp4: 192x320 1 note, 12.2ms\n",
            "video 1/1 (647/1395) /content/drive/MyDrive/cash_training/Currency-Identification-Smart-Glasses.v1i.yolov8/test2.mp4: 192x320 1 atm-card, 1 note, 8.3ms\n",
            "video 1/1 (648/1395) /content/drive/MyDrive/cash_training/Currency-Identification-Smart-Glasses.v1i.yolov8/test2.mp4: 192x320 1 atm-card, 1 note, 10.1ms\n",
            "video 1/1 (649/1395) /content/drive/MyDrive/cash_training/Currency-Identification-Smart-Glasses.v1i.yolov8/test2.mp4: 192x320 1 atm-card, 1 note, 9.0ms\n",
            "video 1/1 (650/1395) /content/drive/MyDrive/cash_training/Currency-Identification-Smart-Glasses.v1i.yolov8/test2.mp4: 192x320 1 atm-card, 1 note, 11.2ms\n",
            "video 1/1 (651/1395) /content/drive/MyDrive/cash_training/Currency-Identification-Smart-Glasses.v1i.yolov8/test2.mp4: 192x320 1 atm-card, 1 note, 12.0ms\n",
            "video 1/1 (652/1395) /content/drive/MyDrive/cash_training/Currency-Identification-Smart-Glasses.v1i.yolov8/test2.mp4: 192x320 1 note, 13.1ms\n",
            "video 1/1 (653/1395) /content/drive/MyDrive/cash_training/Currency-Identification-Smart-Glasses.v1i.yolov8/test2.mp4: 192x320 1 atm-card, 1 note, 8.3ms\n",
            "video 1/1 (654/1395) /content/drive/MyDrive/cash_training/Currency-Identification-Smart-Glasses.v1i.yolov8/test2.mp4: 192x320 1 note, 12.3ms\n",
            "video 1/1 (655/1395) /content/drive/MyDrive/cash_training/Currency-Identification-Smart-Glasses.v1i.yolov8/test2.mp4: 192x320 1 atm-card, 1 note, 8.5ms\n",
            "video 1/1 (656/1395) /content/drive/MyDrive/cash_training/Currency-Identification-Smart-Glasses.v1i.yolov8/test2.mp4: 192x320 1 atm-card, 1 note, 12.2ms\n",
            "video 1/1 (657/1395) /content/drive/MyDrive/cash_training/Currency-Identification-Smart-Glasses.v1i.yolov8/test2.mp4: 192x320 1 atm-card, 1 note, 12.9ms\n",
            "video 1/1 (658/1395) /content/drive/MyDrive/cash_training/Currency-Identification-Smart-Glasses.v1i.yolov8/test2.mp4: 192x320 1 note, 9.2ms\n",
            "video 1/1 (659/1395) /content/drive/MyDrive/cash_training/Currency-Identification-Smart-Glasses.v1i.yolov8/test2.mp4: 192x320 (no detections), 9.8ms\n",
            "video 1/1 (660/1395) /content/drive/MyDrive/cash_training/Currency-Identification-Smart-Glasses.v1i.yolov8/test2.mp4: 192x320 1 note, 11.8ms\n",
            "video 1/1 (661/1395) /content/drive/MyDrive/cash_training/Currency-Identification-Smart-Glasses.v1i.yolov8/test2.mp4: 192x320 1 atm-card, 1 note, 11.4ms\n",
            "video 1/1 (662/1395) /content/drive/MyDrive/cash_training/Currency-Identification-Smart-Glasses.v1i.yolov8/test2.mp4: 192x320 1 atm-card, 1 note, 11.2ms\n",
            "video 1/1 (663/1395) /content/drive/MyDrive/cash_training/Currency-Identification-Smart-Glasses.v1i.yolov8/test2.mp4: 192x320 1 atm-card, 1 note, 8.2ms\n",
            "video 1/1 (664/1395) /content/drive/MyDrive/cash_training/Currency-Identification-Smart-Glasses.v1i.yolov8/test2.mp4: 192x320 1 atm-card, 1 note, 8.1ms\n",
            "video 1/1 (665/1395) /content/drive/MyDrive/cash_training/Currency-Identification-Smart-Glasses.v1i.yolov8/test2.mp4: 192x320 1 atm-card, 1 note, 8.3ms\n",
            "video 1/1 (666/1395) /content/drive/MyDrive/cash_training/Currency-Identification-Smart-Glasses.v1i.yolov8/test2.mp4: 192x320 1 atm-card, 1 note, 9.7ms\n",
            "video 1/1 (667/1395) /content/drive/MyDrive/cash_training/Currency-Identification-Smart-Glasses.v1i.yolov8/test2.mp4: 192x320 1 atm-card, 1 note, 13.3ms\n",
            "video 1/1 (668/1395) /content/drive/MyDrive/cash_training/Currency-Identification-Smart-Glasses.v1i.yolov8/test2.mp4: 192x320 1 atm-card, 1 note, 9.2ms\n",
            "video 1/1 (669/1395) /content/drive/MyDrive/cash_training/Currency-Identification-Smart-Glasses.v1i.yolov8/test2.mp4: 192x320 1 atm-card, 1 note, 8.4ms\n",
            "video 1/1 (670/1395) /content/drive/MyDrive/cash_training/Currency-Identification-Smart-Glasses.v1i.yolov8/test2.mp4: 192x320 1 atm-card, 1 note, 12.2ms\n",
            "video 1/1 (671/1395) /content/drive/MyDrive/cash_training/Currency-Identification-Smart-Glasses.v1i.yolov8/test2.mp4: 192x320 1 atm-card, 1 note, 9.0ms\n",
            "video 1/1 (672/1395) /content/drive/MyDrive/cash_training/Currency-Identification-Smart-Glasses.v1i.yolov8/test2.mp4: 192x320 1 atm-card, 1 note, 8.7ms\n",
            "video 1/1 (673/1395) /content/drive/MyDrive/cash_training/Currency-Identification-Smart-Glasses.v1i.yolov8/test2.mp4: 192x320 1 atm-card, 1 note, 12.1ms\n",
            "video 1/1 (674/1395) /content/drive/MyDrive/cash_training/Currency-Identification-Smart-Glasses.v1i.yolov8/test2.mp4: 192x320 1 atm-card, 1 note, 10.9ms\n",
            "video 1/1 (675/1395) /content/drive/MyDrive/cash_training/Currency-Identification-Smart-Glasses.v1i.yolov8/test2.mp4: 192x320 1 atm-card, 1 note, 8.6ms\n",
            "video 1/1 (676/1395) /content/drive/MyDrive/cash_training/Currency-Identification-Smart-Glasses.v1i.yolov8/test2.mp4: 192x320 1 atm-card, 1 note, 12.5ms\n",
            "video 1/1 (677/1395) /content/drive/MyDrive/cash_training/Currency-Identification-Smart-Glasses.v1i.yolov8/test2.mp4: 192x320 1 atm-card, 2 notes, 9.0ms\n",
            "video 1/1 (678/1395) /content/drive/MyDrive/cash_training/Currency-Identification-Smart-Glasses.v1i.yolov8/test2.mp4: 192x320 1 atm-card, 2 notes, 14.0ms\n",
            "video 1/1 (679/1395) /content/drive/MyDrive/cash_training/Currency-Identification-Smart-Glasses.v1i.yolov8/test2.mp4: 192x320 1 atm-card, 2 notes, 8.9ms\n",
            "video 1/1 (680/1395) /content/drive/MyDrive/cash_training/Currency-Identification-Smart-Glasses.v1i.yolov8/test2.mp4: 192x320 1 atm-card, 2 notes, 8.4ms\n",
            "video 1/1 (681/1395) /content/drive/MyDrive/cash_training/Currency-Identification-Smart-Glasses.v1i.yolov8/test2.mp4: 192x320 1 atm-card, 2 notes, 9.1ms\n",
            "video 1/1 (682/1395) /content/drive/MyDrive/cash_training/Currency-Identification-Smart-Glasses.v1i.yolov8/test2.mp4: 192x320 1 atm-card, 2 notes, 12.5ms\n",
            "video 1/1 (683/1395) /content/drive/MyDrive/cash_training/Currency-Identification-Smart-Glasses.v1i.yolov8/test2.mp4: 192x320 1 atm-card, 2 notes, 8.3ms\n",
            "video 1/1 (684/1395) /content/drive/MyDrive/cash_training/Currency-Identification-Smart-Glasses.v1i.yolov8/test2.mp4: 192x320 1 atm-card, 2 notes, 8.3ms\n",
            "video 1/1 (685/1395) /content/drive/MyDrive/cash_training/Currency-Identification-Smart-Glasses.v1i.yolov8/test2.mp4: 192x320 1 atm-card, 2 notes, 13.7ms\n",
            "video 1/1 (686/1395) /content/drive/MyDrive/cash_training/Currency-Identification-Smart-Glasses.v1i.yolov8/test2.mp4: 192x320 1 atm-card, 2 notes, 9.6ms\n",
            "video 1/1 (687/1395) /content/drive/MyDrive/cash_training/Currency-Identification-Smart-Glasses.v1i.yolov8/test2.mp4: 192x320 1 atm-card, 2 notes, 8.2ms\n",
            "video 1/1 (688/1395) /content/drive/MyDrive/cash_training/Currency-Identification-Smart-Glasses.v1i.yolov8/test2.mp4: 192x320 1 atm-card, 2 notes, 8.6ms\n",
            "video 1/1 (689/1395) /content/drive/MyDrive/cash_training/Currency-Identification-Smart-Glasses.v1i.yolov8/test2.mp4: 192x320 1 atm-card, 2 notes, 15.2ms\n",
            "video 1/1 (690/1395) /content/drive/MyDrive/cash_training/Currency-Identification-Smart-Glasses.v1i.yolov8/test2.mp4: 192x320 1 note, 15.9ms\n",
            "video 1/1 (691/1395) /content/drive/MyDrive/cash_training/Currency-Identification-Smart-Glasses.v1i.yolov8/test2.mp4: 192x320 1 note, 12.1ms\n",
            "video 1/1 (692/1395) /content/drive/MyDrive/cash_training/Currency-Identification-Smart-Glasses.v1i.yolov8/test2.mp4: 192x320 1 note, 12.3ms\n",
            "video 1/1 (693/1395) /content/drive/MyDrive/cash_training/Currency-Identification-Smart-Glasses.v1i.yolov8/test2.mp4: 192x320 1 note, 12.1ms\n",
            "video 1/1 (694/1395) /content/drive/MyDrive/cash_training/Currency-Identification-Smart-Glasses.v1i.yolov8/test2.mp4: 192x320 1 note, 9.0ms\n",
            "video 1/1 (695/1395) /content/drive/MyDrive/cash_training/Currency-Identification-Smart-Glasses.v1i.yolov8/test2.mp4: 192x320 1 note, 8.9ms\n",
            "video 1/1 (696/1395) /content/drive/MyDrive/cash_training/Currency-Identification-Smart-Glasses.v1i.yolov8/test2.mp4: 192x320 1 note, 11.9ms\n",
            "video 1/1 (697/1395) /content/drive/MyDrive/cash_training/Currency-Identification-Smart-Glasses.v1i.yolov8/test2.mp4: 192x320 1 note, 9.6ms\n",
            "video 1/1 (698/1395) /content/drive/MyDrive/cash_training/Currency-Identification-Smart-Glasses.v1i.yolov8/test2.mp4: 192x320 1 note, 9.9ms\n",
            "video 1/1 (699/1395) /content/drive/MyDrive/cash_training/Currency-Identification-Smart-Glasses.v1i.yolov8/test2.mp4: 192x320 1 note, 8.4ms\n",
            "video 1/1 (700/1395) /content/drive/MyDrive/cash_training/Currency-Identification-Smart-Glasses.v1i.yolov8/test2.mp4: 192x320 1 note, 9.8ms\n",
            "video 1/1 (701/1395) /content/drive/MyDrive/cash_training/Currency-Identification-Smart-Glasses.v1i.yolov8/test2.mp4: 192x320 1 note, 11.7ms\n",
            "video 1/1 (702/1395) /content/drive/MyDrive/cash_training/Currency-Identification-Smart-Glasses.v1i.yolov8/test2.mp4: 192x320 1 note, 8.9ms\n",
            "video 1/1 (703/1395) /content/drive/MyDrive/cash_training/Currency-Identification-Smart-Glasses.v1i.yolov8/test2.mp4: 192x320 1 note, 8.8ms\n",
            "video 1/1 (704/1395) /content/drive/MyDrive/cash_training/Currency-Identification-Smart-Glasses.v1i.yolov8/test2.mp4: 192x320 1 note, 8.6ms\n",
            "video 1/1 (705/1395) /content/drive/MyDrive/cash_training/Currency-Identification-Smart-Glasses.v1i.yolov8/test2.mp4: 192x320 1 note, 10.1ms\n",
            "video 1/1 (706/1395) /content/drive/MyDrive/cash_training/Currency-Identification-Smart-Glasses.v1i.yolov8/test2.mp4: 192x320 1 note, 21.5ms\n",
            "video 1/1 (707/1395) /content/drive/MyDrive/cash_training/Currency-Identification-Smart-Glasses.v1i.yolov8/test2.mp4: 192x320 1 note, 13.0ms\n",
            "video 1/1 (708/1395) /content/drive/MyDrive/cash_training/Currency-Identification-Smart-Glasses.v1i.yolov8/test2.mp4: 192x320 1 note, 8.5ms\n",
            "video 1/1 (709/1395) /content/drive/MyDrive/cash_training/Currency-Identification-Smart-Glasses.v1i.yolov8/test2.mp4: 192x320 1 note, 13.3ms\n",
            "video 1/1 (710/1395) /content/drive/MyDrive/cash_training/Currency-Identification-Smart-Glasses.v1i.yolov8/test2.mp4: 192x320 1 note, 8.6ms\n",
            "video 1/1 (711/1395) /content/drive/MyDrive/cash_training/Currency-Identification-Smart-Glasses.v1i.yolov8/test2.mp4: 192x320 1 note, 13.2ms\n",
            "video 1/1 (712/1395) /content/drive/MyDrive/cash_training/Currency-Identification-Smart-Glasses.v1i.yolov8/test2.mp4: 192x320 1 note, 16.8ms\n",
            "video 1/1 (713/1395) /content/drive/MyDrive/cash_training/Currency-Identification-Smart-Glasses.v1i.yolov8/test2.mp4: 192x320 1 note, 8.3ms\n",
            "video 1/1 (714/1395) /content/drive/MyDrive/cash_training/Currency-Identification-Smart-Glasses.v1i.yolov8/test2.mp4: 192x320 1 note, 16.7ms\n",
            "video 1/1 (715/1395) /content/drive/MyDrive/cash_training/Currency-Identification-Smart-Glasses.v1i.yolov8/test2.mp4: 192x320 1 note, 8.8ms\n",
            "video 1/1 (716/1395) /content/drive/MyDrive/cash_training/Currency-Identification-Smart-Glasses.v1i.yolov8/test2.mp4: 192x320 1 note, 10.0ms\n",
            "video 1/1 (717/1395) /content/drive/MyDrive/cash_training/Currency-Identification-Smart-Glasses.v1i.yolov8/test2.mp4: 192x320 1 note, 8.7ms\n",
            "video 1/1 (718/1395) /content/drive/MyDrive/cash_training/Currency-Identification-Smart-Glasses.v1i.yolov8/test2.mp4: 192x320 1 note, 9.3ms\n",
            "video 1/1 (719/1395) /content/drive/MyDrive/cash_training/Currency-Identification-Smart-Glasses.v1i.yolov8/test2.mp4: 192x320 1 note, 22.9ms\n",
            "video 1/1 (720/1395) /content/drive/MyDrive/cash_training/Currency-Identification-Smart-Glasses.v1i.yolov8/test2.mp4: 192x320 1 note, 17.8ms\n",
            "video 1/1 (721/1395) /content/drive/MyDrive/cash_training/Currency-Identification-Smart-Glasses.v1i.yolov8/test2.mp4: 192x320 (no detections), 14.1ms\n",
            "video 1/1 (722/1395) /content/drive/MyDrive/cash_training/Currency-Identification-Smart-Glasses.v1i.yolov8/test2.mp4: 192x320 (no detections), 15.1ms\n",
            "video 1/1 (723/1395) /content/drive/MyDrive/cash_training/Currency-Identification-Smart-Glasses.v1i.yolov8/test2.mp4: 192x320 (no detections), 11.3ms\n",
            "video 1/1 (724/1395) /content/drive/MyDrive/cash_training/Currency-Identification-Smart-Glasses.v1i.yolov8/test2.mp4: 192x320 (no detections), 8.6ms\n",
            "video 1/1 (725/1395) /content/drive/MyDrive/cash_training/Currency-Identification-Smart-Glasses.v1i.yolov8/test2.mp4: 192x320 (no detections), 8.4ms\n",
            "video 1/1 (726/1395) /content/drive/MyDrive/cash_training/Currency-Identification-Smart-Glasses.v1i.yolov8/test2.mp4: 192x320 (no detections), 11.3ms\n",
            "video 1/1 (727/1395) /content/drive/MyDrive/cash_training/Currency-Identification-Smart-Glasses.v1i.yolov8/test2.mp4: 192x320 1 note, 8.9ms\n",
            "video 1/1 (728/1395) /content/drive/MyDrive/cash_training/Currency-Identification-Smart-Glasses.v1i.yolov8/test2.mp4: 192x320 1 note, 8.2ms\n",
            "video 1/1 (729/1395) /content/drive/MyDrive/cash_training/Currency-Identification-Smart-Glasses.v1i.yolov8/test2.mp4: 192x320 1 note, 9.4ms\n",
            "video 1/1 (730/1395) /content/drive/MyDrive/cash_training/Currency-Identification-Smart-Glasses.v1i.yolov8/test2.mp4: 192x320 1 note, 8.2ms\n",
            "video 1/1 (731/1395) /content/drive/MyDrive/cash_training/Currency-Identification-Smart-Glasses.v1i.yolov8/test2.mp4: 192x320 1 note, 9.2ms\n",
            "video 1/1 (732/1395) /content/drive/MyDrive/cash_training/Currency-Identification-Smart-Glasses.v1i.yolov8/test2.mp4: 192x320 1 note, 12.3ms\n",
            "video 1/1 (733/1395) /content/drive/MyDrive/cash_training/Currency-Identification-Smart-Glasses.v1i.yolov8/test2.mp4: 192x320 1 note, 10.3ms\n",
            "video 1/1 (734/1395) /content/drive/MyDrive/cash_training/Currency-Identification-Smart-Glasses.v1i.yolov8/test2.mp4: 192x320 1 note, 16.4ms\n",
            "video 1/1 (735/1395) /content/drive/MyDrive/cash_training/Currency-Identification-Smart-Glasses.v1i.yolov8/test2.mp4: 192x320 1 note, 8.8ms\n",
            "video 1/1 (736/1395) /content/drive/MyDrive/cash_training/Currency-Identification-Smart-Glasses.v1i.yolov8/test2.mp4: 192x320 1 note, 11.0ms\n",
            "video 1/1 (737/1395) /content/drive/MyDrive/cash_training/Currency-Identification-Smart-Glasses.v1i.yolov8/test2.mp4: 192x320 1 note, 11.9ms\n",
            "video 1/1 (738/1395) /content/drive/MyDrive/cash_training/Currency-Identification-Smart-Glasses.v1i.yolov8/test2.mp4: 192x320 1 note, 11.5ms\n",
            "video 1/1 (739/1395) /content/drive/MyDrive/cash_training/Currency-Identification-Smart-Glasses.v1i.yolov8/test2.mp4: 192x320 1 note, 11.1ms\n",
            "video 1/1 (740/1395) /content/drive/MyDrive/cash_training/Currency-Identification-Smart-Glasses.v1i.yolov8/test2.mp4: 192x320 1 note, 12.4ms\n",
            "video 1/1 (741/1395) /content/drive/MyDrive/cash_training/Currency-Identification-Smart-Glasses.v1i.yolov8/test2.mp4: 192x320 1 note, 12.6ms\n",
            "video 1/1 (742/1395) /content/drive/MyDrive/cash_training/Currency-Identification-Smart-Glasses.v1i.yolov8/test2.mp4: 192x320 1 note, 12.5ms\n",
            "video 1/1 (743/1395) /content/drive/MyDrive/cash_training/Currency-Identification-Smart-Glasses.v1i.yolov8/test2.mp4: 192x320 1 atm-card, 1 note, 11.7ms\n",
            "video 1/1 (744/1395) /content/drive/MyDrive/cash_training/Currency-Identification-Smart-Glasses.v1i.yolov8/test2.mp4: 192x320 1 atm-card, 1 note, 13.0ms\n",
            "video 1/1 (745/1395) /content/drive/MyDrive/cash_training/Currency-Identification-Smart-Glasses.v1i.yolov8/test2.mp4: 192x320 1 note, 10.9ms\n",
            "video 1/1 (746/1395) /content/drive/MyDrive/cash_training/Currency-Identification-Smart-Glasses.v1i.yolov8/test2.mp4: 192x320 1 note, 13.9ms\n",
            "video 1/1 (747/1395) /content/drive/MyDrive/cash_training/Currency-Identification-Smart-Glasses.v1i.yolov8/test2.mp4: 192x320 1 note, 14.7ms\n",
            "video 1/1 (748/1395) /content/drive/MyDrive/cash_training/Currency-Identification-Smart-Glasses.v1i.yolov8/test2.mp4: 192x320 1 note, 9.7ms\n",
            "video 1/1 (749/1395) /content/drive/MyDrive/cash_training/Currency-Identification-Smart-Glasses.v1i.yolov8/test2.mp4: 192x320 1 note, 11.2ms\n",
            "video 1/1 (750/1395) /content/drive/MyDrive/cash_training/Currency-Identification-Smart-Glasses.v1i.yolov8/test2.mp4: 192x320 1 note, 12.2ms\n",
            "video 1/1 (751/1395) /content/drive/MyDrive/cash_training/Currency-Identification-Smart-Glasses.v1i.yolov8/test2.mp4: 192x320 1 note, 11.0ms\n",
            "video 1/1 (752/1395) /content/drive/MyDrive/cash_training/Currency-Identification-Smart-Glasses.v1i.yolov8/test2.mp4: 192x320 1 note, 11.9ms\n",
            "video 1/1 (753/1395) /content/drive/MyDrive/cash_training/Currency-Identification-Smart-Glasses.v1i.yolov8/test2.mp4: 192x320 1 note, 11.8ms\n",
            "video 1/1 (754/1395) /content/drive/MyDrive/cash_training/Currency-Identification-Smart-Glasses.v1i.yolov8/test2.mp4: 192x320 1 note, 12.2ms\n",
            "video 1/1 (755/1395) /content/drive/MyDrive/cash_training/Currency-Identification-Smart-Glasses.v1i.yolov8/test2.mp4: 192x320 1 note, 11.2ms\n",
            "video 1/1 (756/1395) /content/drive/MyDrive/cash_training/Currency-Identification-Smart-Glasses.v1i.yolov8/test2.mp4: 192x320 1 note, 11.4ms\n",
            "video 1/1 (757/1395) /content/drive/MyDrive/cash_training/Currency-Identification-Smart-Glasses.v1i.yolov8/test2.mp4: 192x320 1 note, 10.8ms\n",
            "video 1/1 (758/1395) /content/drive/MyDrive/cash_training/Currency-Identification-Smart-Glasses.v1i.yolov8/test2.mp4: 192x320 1 note, 11.4ms\n",
            "video 1/1 (759/1395) /content/drive/MyDrive/cash_training/Currency-Identification-Smart-Glasses.v1i.yolov8/test2.mp4: 192x320 1 note, 11.1ms\n",
            "video 1/1 (760/1395) /content/drive/MyDrive/cash_training/Currency-Identification-Smart-Glasses.v1i.yolov8/test2.mp4: 192x320 1 note, 11.0ms\n",
            "video 1/1 (761/1395) /content/drive/MyDrive/cash_training/Currency-Identification-Smart-Glasses.v1i.yolov8/test2.mp4: 192x320 1 note, 12.5ms\n",
            "video 1/1 (762/1395) /content/drive/MyDrive/cash_training/Currency-Identification-Smart-Glasses.v1i.yolov8/test2.mp4: 192x320 1 note, 8.7ms\n",
            "video 1/1 (763/1395) /content/drive/MyDrive/cash_training/Currency-Identification-Smart-Glasses.v1i.yolov8/test2.mp4: 192x320 1 note, 10.3ms\n",
            "video 1/1 (764/1395) /content/drive/MyDrive/cash_training/Currency-Identification-Smart-Glasses.v1i.yolov8/test2.mp4: 192x320 1 note, 14.2ms\n",
            "video 1/1 (765/1395) /content/drive/MyDrive/cash_training/Currency-Identification-Smart-Glasses.v1i.yolov8/test2.mp4: 192x320 1 note, 9.1ms\n",
            "video 1/1 (766/1395) /content/drive/MyDrive/cash_training/Currency-Identification-Smart-Glasses.v1i.yolov8/test2.mp4: 192x320 1 note, 12.8ms\n",
            "video 1/1 (767/1395) /content/drive/MyDrive/cash_training/Currency-Identification-Smart-Glasses.v1i.yolov8/test2.mp4: 192x320 1 note, 9.4ms\n",
            "video 1/1 (768/1395) /content/drive/MyDrive/cash_training/Currency-Identification-Smart-Glasses.v1i.yolov8/test2.mp4: 192x320 1 note, 10.9ms\n",
            "video 1/1 (769/1395) /content/drive/MyDrive/cash_training/Currency-Identification-Smart-Glasses.v1i.yolov8/test2.mp4: 192x320 1 note, 8.2ms\n",
            "video 1/1 (770/1395) /content/drive/MyDrive/cash_training/Currency-Identification-Smart-Glasses.v1i.yolov8/test2.mp4: 192x320 1 note, 11.3ms\n",
            "video 1/1 (771/1395) /content/drive/MyDrive/cash_training/Currency-Identification-Smart-Glasses.v1i.yolov8/test2.mp4: 192x320 1 note, 13.3ms\n",
            "video 1/1 (772/1395) /content/drive/MyDrive/cash_training/Currency-Identification-Smart-Glasses.v1i.yolov8/test2.mp4: 192x320 1 note, 11.9ms\n",
            "video 1/1 (773/1395) /content/drive/MyDrive/cash_training/Currency-Identification-Smart-Glasses.v1i.yolov8/test2.mp4: 192x320 1 note, 8.6ms\n",
            "video 1/1 (774/1395) /content/drive/MyDrive/cash_training/Currency-Identification-Smart-Glasses.v1i.yolov8/test2.mp4: 192x320 1 note, 11.3ms\n",
            "video 1/1 (775/1395) /content/drive/MyDrive/cash_training/Currency-Identification-Smart-Glasses.v1i.yolov8/test2.mp4: 192x320 1 note, 10.3ms\n",
            "video 1/1 (776/1395) /content/drive/MyDrive/cash_training/Currency-Identification-Smart-Glasses.v1i.yolov8/test2.mp4: 192x320 1 note, 10.7ms\n",
            "video 1/1 (777/1395) /content/drive/MyDrive/cash_training/Currency-Identification-Smart-Glasses.v1i.yolov8/test2.mp4: 192x320 1 note, 11.7ms\n",
            "video 1/1 (778/1395) /content/drive/MyDrive/cash_training/Currency-Identification-Smart-Glasses.v1i.yolov8/test2.mp4: 192x320 1 note, 12.4ms\n",
            "video 1/1 (779/1395) /content/drive/MyDrive/cash_training/Currency-Identification-Smart-Glasses.v1i.yolov8/test2.mp4: 192x320 1 note, 9.3ms\n",
            "video 1/1 (780/1395) /content/drive/MyDrive/cash_training/Currency-Identification-Smart-Glasses.v1i.yolov8/test2.mp4: 192x320 1 note, 13.2ms\n",
            "video 1/1 (781/1395) /content/drive/MyDrive/cash_training/Currency-Identification-Smart-Glasses.v1i.yolov8/test2.mp4: 192x320 1 note, 9.7ms\n",
            "video 1/1 (782/1395) /content/drive/MyDrive/cash_training/Currency-Identification-Smart-Glasses.v1i.yolov8/test2.mp4: 192x320 1 note, 9.6ms\n",
            "video 1/1 (783/1395) /content/drive/MyDrive/cash_training/Currency-Identification-Smart-Glasses.v1i.yolov8/test2.mp4: 192x320 1 note, 8.6ms\n",
            "video 1/1 (784/1395) /content/drive/MyDrive/cash_training/Currency-Identification-Smart-Glasses.v1i.yolov8/test2.mp4: 192x320 1 note, 9.9ms\n",
            "video 1/1 (785/1395) /content/drive/MyDrive/cash_training/Currency-Identification-Smart-Glasses.v1i.yolov8/test2.mp4: 192x320 1 note, 8.8ms\n",
            "video 1/1 (786/1395) /content/drive/MyDrive/cash_training/Currency-Identification-Smart-Glasses.v1i.yolov8/test2.mp4: 192x320 1 note, 8.7ms\n",
            "video 1/1 (787/1395) /content/drive/MyDrive/cash_training/Currency-Identification-Smart-Glasses.v1i.yolov8/test2.mp4: 192x320 1 note, 8.4ms\n",
            "video 1/1 (788/1395) /content/drive/MyDrive/cash_training/Currency-Identification-Smart-Glasses.v1i.yolov8/test2.mp4: 192x320 1 note, 9.0ms\n",
            "video 1/1 (789/1395) /content/drive/MyDrive/cash_training/Currency-Identification-Smart-Glasses.v1i.yolov8/test2.mp4: 192x320 1 note, 8.5ms\n",
            "video 1/1 (790/1395) /content/drive/MyDrive/cash_training/Currency-Identification-Smart-Glasses.v1i.yolov8/test2.mp4: 192x320 1 note, 8.5ms\n",
            "video 1/1 (791/1395) /content/drive/MyDrive/cash_training/Currency-Identification-Smart-Glasses.v1i.yolov8/test2.mp4: 192x320 1 note, 8.3ms\n",
            "video 1/1 (792/1395) /content/drive/MyDrive/cash_training/Currency-Identification-Smart-Glasses.v1i.yolov8/test2.mp4: 192x320 1 note, 8.8ms\n",
            "video 1/1 (793/1395) /content/drive/MyDrive/cash_training/Currency-Identification-Smart-Glasses.v1i.yolov8/test2.mp4: 192x320 1 note, 13.4ms\n",
            "video 1/1 (794/1395) /content/drive/MyDrive/cash_training/Currency-Identification-Smart-Glasses.v1i.yolov8/test2.mp4: 192x320 1 note, 10.6ms\n",
            "video 1/1 (795/1395) /content/drive/MyDrive/cash_training/Currency-Identification-Smart-Glasses.v1i.yolov8/test2.mp4: 192x320 1 note, 9.5ms\n",
            "video 1/1 (796/1395) /content/drive/MyDrive/cash_training/Currency-Identification-Smart-Glasses.v1i.yolov8/test2.mp4: 192x320 1 note, 15.6ms\n",
            "video 1/1 (797/1395) /content/drive/MyDrive/cash_training/Currency-Identification-Smart-Glasses.v1i.yolov8/test2.mp4: 192x320 1 note, 10.7ms\n",
            "video 1/1 (798/1395) /content/drive/MyDrive/cash_training/Currency-Identification-Smart-Glasses.v1i.yolov8/test2.mp4: 192x320 1 note, 8.7ms\n",
            "video 1/1 (799/1395) /content/drive/MyDrive/cash_training/Currency-Identification-Smart-Glasses.v1i.yolov8/test2.mp4: 192x320 1 note, 8.6ms\n",
            "video 1/1 (800/1395) /content/drive/MyDrive/cash_training/Currency-Identification-Smart-Glasses.v1i.yolov8/test2.mp4: 192x320 1 note, 12.1ms\n",
            "video 1/1 (801/1395) /content/drive/MyDrive/cash_training/Currency-Identification-Smart-Glasses.v1i.yolov8/test2.mp4: 192x320 1 note, 10.4ms\n",
            "video 1/1 (802/1395) /content/drive/MyDrive/cash_training/Currency-Identification-Smart-Glasses.v1i.yolov8/test2.mp4: 192x320 1 note, 8.9ms\n",
            "video 1/1 (803/1395) /content/drive/MyDrive/cash_training/Currency-Identification-Smart-Glasses.v1i.yolov8/test2.mp4: 192x320 1 note, 14.1ms\n",
            "video 1/1 (804/1395) /content/drive/MyDrive/cash_training/Currency-Identification-Smart-Glasses.v1i.yolov8/test2.mp4: 192x320 1 note, 13.3ms\n",
            "video 1/1 (805/1395) /content/drive/MyDrive/cash_training/Currency-Identification-Smart-Glasses.v1i.yolov8/test2.mp4: 192x320 1 atm-card, 1 note, 9.1ms\n",
            "video 1/1 (806/1395) /content/drive/MyDrive/cash_training/Currency-Identification-Smart-Glasses.v1i.yolov8/test2.mp4: 192x320 1 note, 11.2ms\n",
            "video 1/1 (807/1395) /content/drive/MyDrive/cash_training/Currency-Identification-Smart-Glasses.v1i.yolov8/test2.mp4: 192x320 1 note, 12.7ms\n",
            "video 1/1 (808/1395) /content/drive/MyDrive/cash_training/Currency-Identification-Smart-Glasses.v1i.yolov8/test2.mp4: 192x320 1 note, 14.2ms\n",
            "video 1/1 (809/1395) /content/drive/MyDrive/cash_training/Currency-Identification-Smart-Glasses.v1i.yolov8/test2.mp4: 192x320 1 note, 11.5ms\n",
            "video 1/1 (810/1395) /content/drive/MyDrive/cash_training/Currency-Identification-Smart-Glasses.v1i.yolov8/test2.mp4: 192x320 1 note, 12.6ms\n",
            "video 1/1 (811/1395) /content/drive/MyDrive/cash_training/Currency-Identification-Smart-Glasses.v1i.yolov8/test2.mp4: 192x320 1 note, 13.4ms\n",
            "video 1/1 (812/1395) /content/drive/MyDrive/cash_training/Currency-Identification-Smart-Glasses.v1i.yolov8/test2.mp4: 192x320 (no detections), 11.3ms\n",
            "video 1/1 (813/1395) /content/drive/MyDrive/cash_training/Currency-Identification-Smart-Glasses.v1i.yolov8/test2.mp4: 192x320 1 note, 12.4ms\n",
            "video 1/1 (814/1395) /content/drive/MyDrive/cash_training/Currency-Identification-Smart-Glasses.v1i.yolov8/test2.mp4: 192x320 1 note, 16.0ms\n",
            "video 1/1 (815/1395) /content/drive/MyDrive/cash_training/Currency-Identification-Smart-Glasses.v1i.yolov8/test2.mp4: 192x320 (no detections), 8.6ms\n",
            "video 1/1 (816/1395) /content/drive/MyDrive/cash_training/Currency-Identification-Smart-Glasses.v1i.yolov8/test2.mp4: 192x320 (no detections), 10.3ms\n",
            "video 1/1 (817/1395) /content/drive/MyDrive/cash_training/Currency-Identification-Smart-Glasses.v1i.yolov8/test2.mp4: 192x320 (no detections), 8.9ms\n",
            "video 1/1 (818/1395) /content/drive/MyDrive/cash_training/Currency-Identification-Smart-Glasses.v1i.yolov8/test2.mp4: 192x320 (no detections), 10.6ms\n",
            "video 1/1 (819/1395) /content/drive/MyDrive/cash_training/Currency-Identification-Smart-Glasses.v1i.yolov8/test2.mp4: 192x320 (no detections), 8.8ms\n",
            "video 1/1 (820/1395) /content/drive/MyDrive/cash_training/Currency-Identification-Smart-Glasses.v1i.yolov8/test2.mp4: 192x320 (no detections), 8.3ms\n",
            "video 1/1 (821/1395) /content/drive/MyDrive/cash_training/Currency-Identification-Smart-Glasses.v1i.yolov8/test2.mp4: 192x320 (no detections), 9.8ms\n",
            "video 1/1 (822/1395) /content/drive/MyDrive/cash_training/Currency-Identification-Smart-Glasses.v1i.yolov8/test2.mp4: 192x320 (no detections), 16.2ms\n",
            "video 1/1 (823/1395) /content/drive/MyDrive/cash_training/Currency-Identification-Smart-Glasses.v1i.yolov8/test2.mp4: 192x320 (no detections), 11.5ms\n",
            "video 1/1 (824/1395) /content/drive/MyDrive/cash_training/Currency-Identification-Smart-Glasses.v1i.yolov8/test2.mp4: 192x320 (no detections), 9.0ms\n",
            "video 1/1 (825/1395) /content/drive/MyDrive/cash_training/Currency-Identification-Smart-Glasses.v1i.yolov8/test2.mp4: 192x320 (no detections), 9.4ms\n",
            "video 1/1 (826/1395) /content/drive/MyDrive/cash_training/Currency-Identification-Smart-Glasses.v1i.yolov8/test2.mp4: 192x320 (no detections), 11.0ms\n",
            "video 1/1 (827/1395) /content/drive/MyDrive/cash_training/Currency-Identification-Smart-Glasses.v1i.yolov8/test2.mp4: 192x320 1 note, 10.9ms\n",
            "video 1/1 (828/1395) /content/drive/MyDrive/cash_training/Currency-Identification-Smart-Glasses.v1i.yolov8/test2.mp4: 192x320 (no detections), 8.6ms\n",
            "video 1/1 (829/1395) /content/drive/MyDrive/cash_training/Currency-Identification-Smart-Glasses.v1i.yolov8/test2.mp4: 192x320 (no detections), 11.9ms\n",
            "video 1/1 (830/1395) /content/drive/MyDrive/cash_training/Currency-Identification-Smart-Glasses.v1i.yolov8/test2.mp4: 192x320 (no detections), 13.4ms\n",
            "video 1/1 (831/1395) /content/drive/MyDrive/cash_training/Currency-Identification-Smart-Glasses.v1i.yolov8/test2.mp4: 192x320 (no detections), 8.8ms\n",
            "video 1/1 (832/1395) /content/drive/MyDrive/cash_training/Currency-Identification-Smart-Glasses.v1i.yolov8/test2.mp4: 192x320 1 note, 12.8ms\n",
            "video 1/1 (833/1395) /content/drive/MyDrive/cash_training/Currency-Identification-Smart-Glasses.v1i.yolov8/test2.mp4: 192x320 1 note, 8.4ms\n",
            "video 1/1 (834/1395) /content/drive/MyDrive/cash_training/Currency-Identification-Smart-Glasses.v1i.yolov8/test2.mp4: 192x320 1 note, 13.9ms\n",
            "video 1/1 (835/1395) /content/drive/MyDrive/cash_training/Currency-Identification-Smart-Glasses.v1i.yolov8/test2.mp4: 192x320 1 note, 12.9ms\n",
            "video 1/1 (836/1395) /content/drive/MyDrive/cash_training/Currency-Identification-Smart-Glasses.v1i.yolov8/test2.mp4: 192x320 1 note, 8.3ms\n",
            "video 1/1 (837/1395) /content/drive/MyDrive/cash_training/Currency-Identification-Smart-Glasses.v1i.yolov8/test2.mp4: 192x320 1 note, 12.3ms\n",
            "video 1/1 (838/1395) /content/drive/MyDrive/cash_training/Currency-Identification-Smart-Glasses.v1i.yolov8/test2.mp4: 192x320 (no detections), 8.6ms\n",
            "video 1/1 (839/1395) /content/drive/MyDrive/cash_training/Currency-Identification-Smart-Glasses.v1i.yolov8/test2.mp4: 192x320 1 note, 8.4ms\n",
            "video 1/1 (840/1395) /content/drive/MyDrive/cash_training/Currency-Identification-Smart-Glasses.v1i.yolov8/test2.mp4: 192x320 (no detections), 12.8ms\n",
            "video 1/1 (841/1395) /content/drive/MyDrive/cash_training/Currency-Identification-Smart-Glasses.v1i.yolov8/test2.mp4: 192x320 1 note, 8.6ms\n",
            "video 1/1 (842/1395) /content/drive/MyDrive/cash_training/Currency-Identification-Smart-Glasses.v1i.yolov8/test2.mp4: 192x320 1 note, 8.9ms\n",
            "video 1/1 (843/1395) /content/drive/MyDrive/cash_training/Currency-Identification-Smart-Glasses.v1i.yolov8/test2.mp4: 192x320 1 note, 8.4ms\n",
            "video 1/1 (844/1395) /content/drive/MyDrive/cash_training/Currency-Identification-Smart-Glasses.v1i.yolov8/test2.mp4: 192x320 1 note, 11.8ms\n",
            "video 1/1 (845/1395) /content/drive/MyDrive/cash_training/Currency-Identification-Smart-Glasses.v1i.yolov8/test2.mp4: 192x320 1 note, 8.5ms\n",
            "video 1/1 (846/1395) /content/drive/MyDrive/cash_training/Currency-Identification-Smart-Glasses.v1i.yolov8/test2.mp4: 192x320 1 note, 8.2ms\n",
            "video 1/1 (847/1395) /content/drive/MyDrive/cash_training/Currency-Identification-Smart-Glasses.v1i.yolov8/test2.mp4: 192x320 1 note, 9.4ms\n",
            "video 1/1 (848/1395) /content/drive/MyDrive/cash_training/Currency-Identification-Smart-Glasses.v1i.yolov8/test2.mp4: 192x320 1 note, 10.6ms\n",
            "video 1/1 (849/1395) /content/drive/MyDrive/cash_training/Currency-Identification-Smart-Glasses.v1i.yolov8/test2.mp4: 192x320 1 note, 8.7ms\n",
            "video 1/1 (850/1395) /content/drive/MyDrive/cash_training/Currency-Identification-Smart-Glasses.v1i.yolov8/test2.mp4: 192x320 1 note, 8.7ms\n",
            "video 1/1 (851/1395) /content/drive/MyDrive/cash_training/Currency-Identification-Smart-Glasses.v1i.yolov8/test2.mp4: 192x320 1 note, 11.9ms\n",
            "video 1/1 (852/1395) /content/drive/MyDrive/cash_training/Currency-Identification-Smart-Glasses.v1i.yolov8/test2.mp4: 192x320 1 note, 18.5ms\n",
            "video 1/1 (853/1395) /content/drive/MyDrive/cash_training/Currency-Identification-Smart-Glasses.v1i.yolov8/test2.mp4: 192x320 1 note, 10.4ms\n",
            "video 1/1 (854/1395) /content/drive/MyDrive/cash_training/Currency-Identification-Smart-Glasses.v1i.yolov8/test2.mp4: 192x320 1 note, 9.3ms\n",
            "video 1/1 (855/1395) /content/drive/MyDrive/cash_training/Currency-Identification-Smart-Glasses.v1i.yolov8/test2.mp4: 192x320 1 note, 9.3ms\n",
            "video 1/1 (856/1395) /content/drive/MyDrive/cash_training/Currency-Identification-Smart-Glasses.v1i.yolov8/test2.mp4: 192x320 1 note, 8.8ms\n",
            "video 1/1 (857/1395) /content/drive/MyDrive/cash_training/Currency-Identification-Smart-Glasses.v1i.yolov8/test2.mp4: 192x320 1 note, 13.0ms\n",
            "video 1/1 (858/1395) /content/drive/MyDrive/cash_training/Currency-Identification-Smart-Glasses.v1i.yolov8/test2.mp4: 192x320 1 note, 8.6ms\n",
            "video 1/1 (859/1395) /content/drive/MyDrive/cash_training/Currency-Identification-Smart-Glasses.v1i.yolov8/test2.mp4: 192x320 1 note, 11.9ms\n",
            "video 1/1 (860/1395) /content/drive/MyDrive/cash_training/Currency-Identification-Smart-Glasses.v1i.yolov8/test2.mp4: 192x320 1 note, 8.7ms\n",
            "video 1/1 (861/1395) /content/drive/MyDrive/cash_training/Currency-Identification-Smart-Glasses.v1i.yolov8/test2.mp4: 192x320 1 note, 13.1ms\n",
            "video 1/1 (862/1395) /content/drive/MyDrive/cash_training/Currency-Identification-Smart-Glasses.v1i.yolov8/test2.mp4: 192x320 1 note, 8.9ms\n",
            "video 1/1 (863/1395) /content/drive/MyDrive/cash_training/Currency-Identification-Smart-Glasses.v1i.yolov8/test2.mp4: 192x320 1 note, 12.8ms\n",
            "video 1/1 (864/1395) /content/drive/MyDrive/cash_training/Currency-Identification-Smart-Glasses.v1i.yolov8/test2.mp4: 192x320 1 note, 12.5ms\n",
            "video 1/1 (865/1395) /content/drive/MyDrive/cash_training/Currency-Identification-Smart-Glasses.v1i.yolov8/test2.mp4: 192x320 1 note, 12.1ms\n",
            "video 1/1 (866/1395) /content/drive/MyDrive/cash_training/Currency-Identification-Smart-Glasses.v1i.yolov8/test2.mp4: 192x320 1 note, 8.8ms\n",
            "video 1/1 (867/1395) /content/drive/MyDrive/cash_training/Currency-Identification-Smart-Glasses.v1i.yolov8/test2.mp4: 192x320 1 note, 9.0ms\n",
            "video 1/1 (868/1395) /content/drive/MyDrive/cash_training/Currency-Identification-Smart-Glasses.v1i.yolov8/test2.mp4: 192x320 1 note, 11.9ms\n",
            "video 1/1 (869/1395) /content/drive/MyDrive/cash_training/Currency-Identification-Smart-Glasses.v1i.yolov8/test2.mp4: 192x320 1 note, 13.1ms\n",
            "video 1/1 (870/1395) /content/drive/MyDrive/cash_training/Currency-Identification-Smart-Glasses.v1i.yolov8/test2.mp4: 192x320 1 note, 12.7ms\n",
            "video 1/1 (871/1395) /content/drive/MyDrive/cash_training/Currency-Identification-Smart-Glasses.v1i.yolov8/test2.mp4: 192x320 1 note, 13.0ms\n",
            "video 1/1 (872/1395) /content/drive/MyDrive/cash_training/Currency-Identification-Smart-Glasses.v1i.yolov8/test2.mp4: 192x320 1 note, 12.4ms\n",
            "video 1/1 (873/1395) /content/drive/MyDrive/cash_training/Currency-Identification-Smart-Glasses.v1i.yolov8/test2.mp4: 192x320 1 note, 8.4ms\n",
            "video 1/1 (874/1395) /content/drive/MyDrive/cash_training/Currency-Identification-Smart-Glasses.v1i.yolov8/test2.mp4: 192x320 1 note, 8.2ms\n",
            "video 1/1 (875/1395) /content/drive/MyDrive/cash_training/Currency-Identification-Smart-Glasses.v1i.yolov8/test2.mp4: 192x320 1 note, 13.0ms\n",
            "video 1/1 (876/1395) /content/drive/MyDrive/cash_training/Currency-Identification-Smart-Glasses.v1i.yolov8/test2.mp4: 192x320 1 note, 9.7ms\n",
            "video 1/1 (877/1395) /content/drive/MyDrive/cash_training/Currency-Identification-Smart-Glasses.v1i.yolov8/test2.mp4: 192x320 1 note, 12.3ms\n",
            "video 1/1 (878/1395) /content/drive/MyDrive/cash_training/Currency-Identification-Smart-Glasses.v1i.yolov8/test2.mp4: 192x320 1 note, 8.6ms\n",
            "video 1/1 (879/1395) /content/drive/MyDrive/cash_training/Currency-Identification-Smart-Glasses.v1i.yolov8/test2.mp4: 192x320 1 note, 12.3ms\n",
            "video 1/1 (880/1395) /content/drive/MyDrive/cash_training/Currency-Identification-Smart-Glasses.v1i.yolov8/test2.mp4: 192x320 1 note, 10.3ms\n",
            "video 1/1 (881/1395) /content/drive/MyDrive/cash_training/Currency-Identification-Smart-Glasses.v1i.yolov8/test2.mp4: 192x320 1 note, 15.6ms\n",
            "video 1/1 (882/1395) /content/drive/MyDrive/cash_training/Currency-Identification-Smart-Glasses.v1i.yolov8/test2.mp4: 192x320 1 note, 13.8ms\n",
            "video 1/1 (883/1395) /content/drive/MyDrive/cash_training/Currency-Identification-Smart-Glasses.v1i.yolov8/test2.mp4: 192x320 1 note, 9.9ms\n",
            "video 1/1 (884/1395) /content/drive/MyDrive/cash_training/Currency-Identification-Smart-Glasses.v1i.yolov8/test2.mp4: 192x320 1 note, 9.9ms\n",
            "video 1/1 (885/1395) /content/drive/MyDrive/cash_training/Currency-Identification-Smart-Glasses.v1i.yolov8/test2.mp4: 192x320 1 note, 8.7ms\n",
            "video 1/1 (886/1395) /content/drive/MyDrive/cash_training/Currency-Identification-Smart-Glasses.v1i.yolov8/test2.mp4: 192x320 1 note, 11.5ms\n",
            "video 1/1 (887/1395) /content/drive/MyDrive/cash_training/Currency-Identification-Smart-Glasses.v1i.yolov8/test2.mp4: 192x320 1 note, 8.9ms\n",
            "video 1/1 (888/1395) /content/drive/MyDrive/cash_training/Currency-Identification-Smart-Glasses.v1i.yolov8/test2.mp4: 192x320 1 note, 10.8ms\n",
            "video 1/1 (889/1395) /content/drive/MyDrive/cash_training/Currency-Identification-Smart-Glasses.v1i.yolov8/test2.mp4: 192x320 1 note, 15.2ms\n",
            "video 1/1 (890/1395) /content/drive/MyDrive/cash_training/Currency-Identification-Smart-Glasses.v1i.yolov8/test2.mp4: 192x320 1 note, 8.7ms\n",
            "video 1/1 (891/1395) /content/drive/MyDrive/cash_training/Currency-Identification-Smart-Glasses.v1i.yolov8/test2.mp4: 192x320 1 note, 11.3ms\n",
            "video 1/1 (892/1395) /content/drive/MyDrive/cash_training/Currency-Identification-Smart-Glasses.v1i.yolov8/test2.mp4: 192x320 1 note, 8.9ms\n",
            "video 1/1 (893/1395) /content/drive/MyDrive/cash_training/Currency-Identification-Smart-Glasses.v1i.yolov8/test2.mp4: 192x320 1 note, 10.0ms\n",
            "video 1/1 (894/1395) /content/drive/MyDrive/cash_training/Currency-Identification-Smart-Glasses.v1i.yolov8/test2.mp4: 192x320 1 note, 15.8ms\n",
            "video 1/1 (895/1395) /content/drive/MyDrive/cash_training/Currency-Identification-Smart-Glasses.v1i.yolov8/test2.mp4: 192x320 1 note, 11.8ms\n",
            "video 1/1 (896/1395) /content/drive/MyDrive/cash_training/Currency-Identification-Smart-Glasses.v1i.yolov8/test2.mp4: 192x320 1 note, 12.4ms\n",
            "video 1/1 (897/1395) /content/drive/MyDrive/cash_training/Currency-Identification-Smart-Glasses.v1i.yolov8/test2.mp4: 192x320 (no detections), 12.7ms\n",
            "video 1/1 (898/1395) /content/drive/MyDrive/cash_training/Currency-Identification-Smart-Glasses.v1i.yolov8/test2.mp4: 192x320 (no detections), 8.3ms\n",
            "video 1/1 (899/1395) /content/drive/MyDrive/cash_training/Currency-Identification-Smart-Glasses.v1i.yolov8/test2.mp4: 192x320 (no detections), 11.2ms\n",
            "video 1/1 (900/1395) /content/drive/MyDrive/cash_training/Currency-Identification-Smart-Glasses.v1i.yolov8/test2.mp4: 192x320 (no detections), 15.7ms\n",
            "video 1/1 (901/1395) /content/drive/MyDrive/cash_training/Currency-Identification-Smart-Glasses.v1i.yolov8/test2.mp4: 192x320 1 note, 8.4ms\n",
            "video 1/1 (902/1395) /content/drive/MyDrive/cash_training/Currency-Identification-Smart-Glasses.v1i.yolov8/test2.mp4: 192x320 1 atm-card, 1 note, 11.0ms\n",
            "video 1/1 (903/1395) /content/drive/MyDrive/cash_training/Currency-Identification-Smart-Glasses.v1i.yolov8/test2.mp4: 192x320 1 atm-card, 2 notes, 8.8ms\n",
            "video 1/1 (904/1395) /content/drive/MyDrive/cash_training/Currency-Identification-Smart-Glasses.v1i.yolov8/test2.mp4: 192x320 1 atm-card, 2 notes, 11.3ms\n",
            "video 1/1 (905/1395) /content/drive/MyDrive/cash_training/Currency-Identification-Smart-Glasses.v1i.yolov8/test2.mp4: 192x320 1 atm-card, 2 notes, 8.6ms\n",
            "video 1/1 (906/1395) /content/drive/MyDrive/cash_training/Currency-Identification-Smart-Glasses.v1i.yolov8/test2.mp4: 192x320 1 atm-card, 1 note, 11.0ms\n",
            "video 1/1 (907/1395) /content/drive/MyDrive/cash_training/Currency-Identification-Smart-Glasses.v1i.yolov8/test2.mp4: 192x320 1 atm-card, 1 note, 8.5ms\n",
            "video 1/1 (908/1395) /content/drive/MyDrive/cash_training/Currency-Identification-Smart-Glasses.v1i.yolov8/test2.mp4: 192x320 (no detections), 11.4ms\n",
            "video 1/1 (909/1395) /content/drive/MyDrive/cash_training/Currency-Identification-Smart-Glasses.v1i.yolov8/test2.mp4: 192x320 1 note, 8.6ms\n",
            "video 1/1 (910/1395) /content/drive/MyDrive/cash_training/Currency-Identification-Smart-Glasses.v1i.yolov8/test2.mp4: 192x320 1 atm-card, 1 note, 23.3ms\n",
            "video 1/1 (911/1395) /content/drive/MyDrive/cash_training/Currency-Identification-Smart-Glasses.v1i.yolov8/test2.mp4: 192x320 1 atm-card, 1 note, 16.3ms\n",
            "video 1/1 (912/1395) /content/drive/MyDrive/cash_training/Currency-Identification-Smart-Glasses.v1i.yolov8/test2.mp4: 192x320 1 note, 15.2ms\n",
            "video 1/1 (913/1395) /content/drive/MyDrive/cash_training/Currency-Identification-Smart-Glasses.v1i.yolov8/test2.mp4: 192x320 1 note, 21.7ms\n",
            "video 1/1 (914/1395) /content/drive/MyDrive/cash_training/Currency-Identification-Smart-Glasses.v1i.yolov8/test2.mp4: 192x320 1 note, 19.8ms\n",
            "video 1/1 (915/1395) /content/drive/MyDrive/cash_training/Currency-Identification-Smart-Glasses.v1i.yolov8/test2.mp4: 192x320 1 note, 14.7ms\n",
            "video 1/1 (916/1395) /content/drive/MyDrive/cash_training/Currency-Identification-Smart-Glasses.v1i.yolov8/test2.mp4: 192x320 1 note, 11.1ms\n",
            "video 1/1 (917/1395) /content/drive/MyDrive/cash_training/Currency-Identification-Smart-Glasses.v1i.yolov8/test2.mp4: 192x320 1 note, 12.7ms\n",
            "video 1/1 (918/1395) /content/drive/MyDrive/cash_training/Currency-Identification-Smart-Glasses.v1i.yolov8/test2.mp4: 192x320 (no detections), 17.2ms\n",
            "video 1/1 (919/1395) /content/drive/MyDrive/cash_training/Currency-Identification-Smart-Glasses.v1i.yolov8/test2.mp4: 192x320 (no detections), 17.6ms\n",
            "video 1/1 (920/1395) /content/drive/MyDrive/cash_training/Currency-Identification-Smart-Glasses.v1i.yolov8/test2.mp4: 192x320 (no detections), 15.8ms\n",
            "video 1/1 (921/1395) /content/drive/MyDrive/cash_training/Currency-Identification-Smart-Glasses.v1i.yolov8/test2.mp4: 192x320 (no detections), 11.1ms\n",
            "video 1/1 (922/1395) /content/drive/MyDrive/cash_training/Currency-Identification-Smart-Glasses.v1i.yolov8/test2.mp4: 192x320 (no detections), 13.4ms\n",
            "video 1/1 (923/1395) /content/drive/MyDrive/cash_training/Currency-Identification-Smart-Glasses.v1i.yolov8/test2.mp4: 192x320 (no detections), 15.0ms\n",
            "video 1/1 (924/1395) /content/drive/MyDrive/cash_training/Currency-Identification-Smart-Glasses.v1i.yolov8/test2.mp4: 192x320 (no detections), 14.6ms\n",
            "video 1/1 (925/1395) /content/drive/MyDrive/cash_training/Currency-Identification-Smart-Glasses.v1i.yolov8/test2.mp4: 192x320 (no detections), 14.2ms\n",
            "video 1/1 (926/1395) /content/drive/MyDrive/cash_training/Currency-Identification-Smart-Glasses.v1i.yolov8/test2.mp4: 192x320 (no detections), 12.8ms\n",
            "video 1/1 (927/1395) /content/drive/MyDrive/cash_training/Currency-Identification-Smart-Glasses.v1i.yolov8/test2.mp4: 192x320 (no detections), 12.6ms\n",
            "video 1/1 (928/1395) /content/drive/MyDrive/cash_training/Currency-Identification-Smart-Glasses.v1i.yolov8/test2.mp4: 192x320 1 note, 15.1ms\n",
            "video 1/1 (929/1395) /content/drive/MyDrive/cash_training/Currency-Identification-Smart-Glasses.v1i.yolov8/test2.mp4: 192x320 1 note, 10.5ms\n",
            "video 1/1 (930/1395) /content/drive/MyDrive/cash_training/Currency-Identification-Smart-Glasses.v1i.yolov8/test2.mp4: 192x320 1 note, 17.6ms\n",
            "video 1/1 (931/1395) /content/drive/MyDrive/cash_training/Currency-Identification-Smart-Glasses.v1i.yolov8/test2.mp4: 192x320 1 note, 14.5ms\n",
            "video 1/1 (932/1395) /content/drive/MyDrive/cash_training/Currency-Identification-Smart-Glasses.v1i.yolov8/test2.mp4: 192x320 1 note, 18.1ms\n",
            "video 1/1 (933/1395) /content/drive/MyDrive/cash_training/Currency-Identification-Smart-Glasses.v1i.yolov8/test2.mp4: 192x320 1 note, 10.9ms\n",
            "video 1/1 (934/1395) /content/drive/MyDrive/cash_training/Currency-Identification-Smart-Glasses.v1i.yolov8/test2.mp4: 192x320 1 note, 18.8ms\n",
            "video 1/1 (935/1395) /content/drive/MyDrive/cash_training/Currency-Identification-Smart-Glasses.v1i.yolov8/test2.mp4: 192x320 1 note, 13.1ms\n",
            "video 1/1 (936/1395) /content/drive/MyDrive/cash_training/Currency-Identification-Smart-Glasses.v1i.yolov8/test2.mp4: 192x320 1 note, 13.9ms\n",
            "video 1/1 (937/1395) /content/drive/MyDrive/cash_training/Currency-Identification-Smart-Glasses.v1i.yolov8/test2.mp4: 192x320 1 note, 14.4ms\n",
            "video 1/1 (938/1395) /content/drive/MyDrive/cash_training/Currency-Identification-Smart-Glasses.v1i.yolov8/test2.mp4: 192x320 1 note, 16.3ms\n",
            "video 1/1 (939/1395) /content/drive/MyDrive/cash_training/Currency-Identification-Smart-Glasses.v1i.yolov8/test2.mp4: 192x320 1 note, 11.1ms\n",
            "video 1/1 (940/1395) /content/drive/MyDrive/cash_training/Currency-Identification-Smart-Glasses.v1i.yolov8/test2.mp4: 192x320 1 note, 13.3ms\n",
            "video 1/1 (941/1395) /content/drive/MyDrive/cash_training/Currency-Identification-Smart-Glasses.v1i.yolov8/test2.mp4: 192x320 1 note, 10.7ms\n",
            "video 1/1 (942/1395) /content/drive/MyDrive/cash_training/Currency-Identification-Smart-Glasses.v1i.yolov8/test2.mp4: 192x320 1 note, 13.6ms\n",
            "video 1/1 (943/1395) /content/drive/MyDrive/cash_training/Currency-Identification-Smart-Glasses.v1i.yolov8/test2.mp4: 192x320 1 note, 10.6ms\n",
            "video 1/1 (944/1395) /content/drive/MyDrive/cash_training/Currency-Identification-Smart-Glasses.v1i.yolov8/test2.mp4: 192x320 1 note, 13.1ms\n",
            "video 1/1 (945/1395) /content/drive/MyDrive/cash_training/Currency-Identification-Smart-Glasses.v1i.yolov8/test2.mp4: 192x320 1 note, 11.4ms\n",
            "video 1/1 (946/1395) /content/drive/MyDrive/cash_training/Currency-Identification-Smart-Glasses.v1i.yolov8/test2.mp4: 192x320 1 note, 16.0ms\n",
            "video 1/1 (947/1395) /content/drive/MyDrive/cash_training/Currency-Identification-Smart-Glasses.v1i.yolov8/test2.mp4: 192x320 1 note, 11.4ms\n",
            "video 1/1 (948/1395) /content/drive/MyDrive/cash_training/Currency-Identification-Smart-Glasses.v1i.yolov8/test2.mp4: 192x320 1 note, 12.0ms\n",
            "video 1/1 (949/1395) /content/drive/MyDrive/cash_training/Currency-Identification-Smart-Glasses.v1i.yolov8/test2.mp4: 192x320 1 note, 17.4ms\n",
            "video 1/1 (950/1395) /content/drive/MyDrive/cash_training/Currency-Identification-Smart-Glasses.v1i.yolov8/test2.mp4: 192x320 1 note, 10.7ms\n",
            "video 1/1 (951/1395) /content/drive/MyDrive/cash_training/Currency-Identification-Smart-Glasses.v1i.yolov8/test2.mp4: 192x320 1 note, 20.3ms\n",
            "video 1/1 (952/1395) /content/drive/MyDrive/cash_training/Currency-Identification-Smart-Glasses.v1i.yolov8/test2.mp4: 192x320 1 note, 11.7ms\n",
            "video 1/1 (953/1395) /content/drive/MyDrive/cash_training/Currency-Identification-Smart-Glasses.v1i.yolov8/test2.mp4: 192x320 1 note, 12.7ms\n",
            "video 1/1 (954/1395) /content/drive/MyDrive/cash_training/Currency-Identification-Smart-Glasses.v1i.yolov8/test2.mp4: 192x320 1 note, 19.5ms\n",
            "video 1/1 (955/1395) /content/drive/MyDrive/cash_training/Currency-Identification-Smart-Glasses.v1i.yolov8/test2.mp4: 192x320 1 note, 17.7ms\n",
            "video 1/1 (956/1395) /content/drive/MyDrive/cash_training/Currency-Identification-Smart-Glasses.v1i.yolov8/test2.mp4: 192x320 1 note, 11.8ms\n",
            "video 1/1 (957/1395) /content/drive/MyDrive/cash_training/Currency-Identification-Smart-Glasses.v1i.yolov8/test2.mp4: 192x320 1 note, 16.6ms\n",
            "video 1/1 (958/1395) /content/drive/MyDrive/cash_training/Currency-Identification-Smart-Glasses.v1i.yolov8/test2.mp4: 192x320 1 note, 13.6ms\n",
            "video 1/1 (959/1395) /content/drive/MyDrive/cash_training/Currency-Identification-Smart-Glasses.v1i.yolov8/test2.mp4: 192x320 1 note, 17.1ms\n",
            "video 1/1 (960/1395) /content/drive/MyDrive/cash_training/Currency-Identification-Smart-Glasses.v1i.yolov8/test2.mp4: 192x320 1 note, 15.1ms\n",
            "video 1/1 (961/1395) /content/drive/MyDrive/cash_training/Currency-Identification-Smart-Glasses.v1i.yolov8/test2.mp4: 192x320 1 note, 13.1ms\n",
            "video 1/1 (962/1395) /content/drive/MyDrive/cash_training/Currency-Identification-Smart-Glasses.v1i.yolov8/test2.mp4: 192x320 1 note, 11.2ms\n",
            "video 1/1 (963/1395) /content/drive/MyDrive/cash_training/Currency-Identification-Smart-Glasses.v1i.yolov8/test2.mp4: 192x320 1 note, 19.0ms\n",
            "video 1/1 (964/1395) /content/drive/MyDrive/cash_training/Currency-Identification-Smart-Glasses.v1i.yolov8/test2.mp4: 192x320 1 note, 13.1ms\n",
            "video 1/1 (965/1395) /content/drive/MyDrive/cash_training/Currency-Identification-Smart-Glasses.v1i.yolov8/test2.mp4: 192x320 1 note, 12.9ms\n",
            "video 1/1 (966/1395) /content/drive/MyDrive/cash_training/Currency-Identification-Smart-Glasses.v1i.yolov8/test2.mp4: 192x320 1 note, 12.4ms\n",
            "video 1/1 (967/1395) /content/drive/MyDrive/cash_training/Currency-Identification-Smart-Glasses.v1i.yolov8/test2.mp4: 192x320 1 note, 14.1ms\n",
            "video 1/1 (968/1395) /content/drive/MyDrive/cash_training/Currency-Identification-Smart-Glasses.v1i.yolov8/test2.mp4: 192x320 1 note, 10.9ms\n",
            "video 1/1 (969/1395) /content/drive/MyDrive/cash_training/Currency-Identification-Smart-Glasses.v1i.yolov8/test2.mp4: 192x320 1 note, 13.7ms\n",
            "video 1/1 (970/1395) /content/drive/MyDrive/cash_training/Currency-Identification-Smart-Glasses.v1i.yolov8/test2.mp4: 192x320 1 note, 11.1ms\n",
            "video 1/1 (971/1395) /content/drive/MyDrive/cash_training/Currency-Identification-Smart-Glasses.v1i.yolov8/test2.mp4: 192x320 1 note, 13.7ms\n",
            "video 1/1 (972/1395) /content/drive/MyDrive/cash_training/Currency-Identification-Smart-Glasses.v1i.yolov8/test2.mp4: 192x320 1 note, 11.4ms\n",
            "video 1/1 (973/1395) /content/drive/MyDrive/cash_training/Currency-Identification-Smart-Glasses.v1i.yolov8/test2.mp4: 192x320 1 note, 15.0ms\n",
            "video 1/1 (974/1395) /content/drive/MyDrive/cash_training/Currency-Identification-Smart-Glasses.v1i.yolov8/test2.mp4: 192x320 1 note, 14.0ms\n",
            "video 1/1 (975/1395) /content/drive/MyDrive/cash_training/Currency-Identification-Smart-Glasses.v1i.yolov8/test2.mp4: 192x320 1 note, 13.7ms\n",
            "video 1/1 (976/1395) /content/drive/MyDrive/cash_training/Currency-Identification-Smart-Glasses.v1i.yolov8/test2.mp4: 192x320 1 note, 15.8ms\n",
            "video 1/1 (977/1395) /content/drive/MyDrive/cash_training/Currency-Identification-Smart-Glasses.v1i.yolov8/test2.mp4: 192x320 1 note, 16.3ms\n",
            "video 1/1 (978/1395) /content/drive/MyDrive/cash_training/Currency-Identification-Smart-Glasses.v1i.yolov8/test2.mp4: 192x320 1 note, 11.0ms\n",
            "video 1/1 (979/1395) /content/drive/MyDrive/cash_training/Currency-Identification-Smart-Glasses.v1i.yolov8/test2.mp4: 192x320 1 note, 13.5ms\n",
            "video 1/1 (980/1395) /content/drive/MyDrive/cash_training/Currency-Identification-Smart-Glasses.v1i.yolov8/test2.mp4: 192x320 1 note, 10.3ms\n",
            "video 1/1 (981/1395) /content/drive/MyDrive/cash_training/Currency-Identification-Smart-Glasses.v1i.yolov8/test2.mp4: 192x320 1 note, 16.2ms\n",
            "video 1/1 (982/1395) /content/drive/MyDrive/cash_training/Currency-Identification-Smart-Glasses.v1i.yolov8/test2.mp4: 192x320 1 note, 11.8ms\n",
            "video 1/1 (983/1395) /content/drive/MyDrive/cash_training/Currency-Identification-Smart-Glasses.v1i.yolov8/test2.mp4: 192x320 1 note, 12.7ms\n",
            "video 1/1 (984/1395) /content/drive/MyDrive/cash_training/Currency-Identification-Smart-Glasses.v1i.yolov8/test2.mp4: 192x320 1 note, 10.4ms\n",
            "video 1/1 (985/1395) /content/drive/MyDrive/cash_training/Currency-Identification-Smart-Glasses.v1i.yolov8/test2.mp4: 192x320 1 note, 12.7ms\n",
            "video 1/1 (986/1395) /content/drive/MyDrive/cash_training/Currency-Identification-Smart-Glasses.v1i.yolov8/test2.mp4: 192x320 1 note, 11.5ms\n",
            "video 1/1 (987/1395) /content/drive/MyDrive/cash_training/Currency-Identification-Smart-Glasses.v1i.yolov8/test2.mp4: 192x320 1 note, 15.5ms\n",
            "video 1/1 (988/1395) /content/drive/MyDrive/cash_training/Currency-Identification-Smart-Glasses.v1i.yolov8/test2.mp4: 192x320 1 note, 12.2ms\n",
            "video 1/1 (989/1395) /content/drive/MyDrive/cash_training/Currency-Identification-Smart-Glasses.v1i.yolov8/test2.mp4: 192x320 1 note, 14.7ms\n",
            "video 1/1 (990/1395) /content/drive/MyDrive/cash_training/Currency-Identification-Smart-Glasses.v1i.yolov8/test2.mp4: 192x320 1 note, 17.6ms\n",
            "video 1/1 (991/1395) /content/drive/MyDrive/cash_training/Currency-Identification-Smart-Glasses.v1i.yolov8/test2.mp4: 192x320 1 note, 10.3ms\n",
            "video 1/1 (992/1395) /content/drive/MyDrive/cash_training/Currency-Identification-Smart-Glasses.v1i.yolov8/test2.mp4: 192x320 1 note, 16.8ms\n",
            "video 1/1 (993/1395) /content/drive/MyDrive/cash_training/Currency-Identification-Smart-Glasses.v1i.yolov8/test2.mp4: 192x320 1 note, 11.9ms\n",
            "video 1/1 (994/1395) /content/drive/MyDrive/cash_training/Currency-Identification-Smart-Glasses.v1i.yolov8/test2.mp4: 192x320 1 note, 16.9ms\n",
            "video 1/1 (995/1395) /content/drive/MyDrive/cash_training/Currency-Identification-Smart-Glasses.v1i.yolov8/test2.mp4: 192x320 1 note, 13.8ms\n",
            "video 1/1 (996/1395) /content/drive/MyDrive/cash_training/Currency-Identification-Smart-Glasses.v1i.yolov8/test2.mp4: 192x320 1 note, 13.7ms\n",
            "video 1/1 (997/1395) /content/drive/MyDrive/cash_training/Currency-Identification-Smart-Glasses.v1i.yolov8/test2.mp4: 192x320 1 note, 10.8ms\n",
            "video 1/1 (998/1395) /content/drive/MyDrive/cash_training/Currency-Identification-Smart-Glasses.v1i.yolov8/test2.mp4: 192x320 1 atm-card, 1 note, 14.9ms\n",
            "video 1/1 (999/1395) /content/drive/MyDrive/cash_training/Currency-Identification-Smart-Glasses.v1i.yolov8/test2.mp4: 192x320 1 note, 20.4ms\n",
            "video 1/1 (1000/1395) /content/drive/MyDrive/cash_training/Currency-Identification-Smart-Glasses.v1i.yolov8/test2.mp4: 192x320 1 note, 14.7ms\n",
            "video 1/1 (1001/1395) /content/drive/MyDrive/cash_training/Currency-Identification-Smart-Glasses.v1i.yolov8/test2.mp4: 192x320 1 note, 15.6ms\n",
            "video 1/1 (1002/1395) /content/drive/MyDrive/cash_training/Currency-Identification-Smart-Glasses.v1i.yolov8/test2.mp4: 192x320 1 note, 16.5ms\n",
            "video 1/1 (1003/1395) /content/drive/MyDrive/cash_training/Currency-Identification-Smart-Glasses.v1i.yolov8/test2.mp4: 192x320 1 note, 10.9ms\n",
            "video 1/1 (1004/1395) /content/drive/MyDrive/cash_training/Currency-Identification-Smart-Glasses.v1i.yolov8/test2.mp4: 192x320 1 note, 16.2ms\n",
            "video 1/1 (1005/1395) /content/drive/MyDrive/cash_training/Currency-Identification-Smart-Glasses.v1i.yolov8/test2.mp4: 192x320 1 note, 16.9ms\n",
            "video 1/1 (1006/1395) /content/drive/MyDrive/cash_training/Currency-Identification-Smart-Glasses.v1i.yolov8/test2.mp4: 192x320 1 note, 12.6ms\n",
            "video 1/1 (1007/1395) /content/drive/MyDrive/cash_training/Currency-Identification-Smart-Glasses.v1i.yolov8/test2.mp4: 192x320 1 note, 15.5ms\n",
            "video 1/1 (1008/1395) /content/drive/MyDrive/cash_training/Currency-Identification-Smart-Glasses.v1i.yolov8/test2.mp4: 192x320 1 note, 17.2ms\n",
            "video 1/1 (1009/1395) /content/drive/MyDrive/cash_training/Currency-Identification-Smart-Glasses.v1i.yolov8/test2.mp4: 192x320 1 note, 15.7ms\n",
            "video 1/1 (1010/1395) /content/drive/MyDrive/cash_training/Currency-Identification-Smart-Glasses.v1i.yolov8/test2.mp4: 192x320 1 note, 15.5ms\n",
            "video 1/1 (1011/1395) /content/drive/MyDrive/cash_training/Currency-Identification-Smart-Glasses.v1i.yolov8/test2.mp4: 192x320 1 note, 16.1ms\n",
            "video 1/1 (1012/1395) /content/drive/MyDrive/cash_training/Currency-Identification-Smart-Glasses.v1i.yolov8/test2.mp4: 192x320 1 note, 14.9ms\n",
            "video 1/1 (1013/1395) /content/drive/MyDrive/cash_training/Currency-Identification-Smart-Glasses.v1i.yolov8/test2.mp4: 192x320 1 note, 17.6ms\n",
            "video 1/1 (1014/1395) /content/drive/MyDrive/cash_training/Currency-Identification-Smart-Glasses.v1i.yolov8/test2.mp4: 192x320 1 note, 13.2ms\n",
            "video 1/1 (1015/1395) /content/drive/MyDrive/cash_training/Currency-Identification-Smart-Glasses.v1i.yolov8/test2.mp4: 192x320 1 note, 14.4ms\n",
            "video 1/1 (1016/1395) /content/drive/MyDrive/cash_training/Currency-Identification-Smart-Glasses.v1i.yolov8/test2.mp4: 192x320 1 note, 10.9ms\n",
            "video 1/1 (1017/1395) /content/drive/MyDrive/cash_training/Currency-Identification-Smart-Glasses.v1i.yolov8/test2.mp4: 192x320 1 note, 16.2ms\n",
            "video 1/1 (1018/1395) /content/drive/MyDrive/cash_training/Currency-Identification-Smart-Glasses.v1i.yolov8/test2.mp4: 192x320 1 note, 14.5ms\n",
            "video 1/1 (1019/1395) /content/drive/MyDrive/cash_training/Currency-Identification-Smart-Glasses.v1i.yolov8/test2.mp4: 192x320 1 note, 11.5ms\n",
            "video 1/1 (1020/1395) /content/drive/MyDrive/cash_training/Currency-Identification-Smart-Glasses.v1i.yolov8/test2.mp4: 192x320 1 note, 23.0ms\n",
            "video 1/1 (1021/1395) /content/drive/MyDrive/cash_training/Currency-Identification-Smart-Glasses.v1i.yolov8/test2.mp4: 192x320 1 note, 14.3ms\n",
            "video 1/1 (1022/1395) /content/drive/MyDrive/cash_training/Currency-Identification-Smart-Glasses.v1i.yolov8/test2.mp4: 192x320 1 note, 13.5ms\n",
            "video 1/1 (1023/1395) /content/drive/MyDrive/cash_training/Currency-Identification-Smart-Glasses.v1i.yolov8/test2.mp4: 192x320 1 note, 14.6ms\n",
            "video 1/1 (1024/1395) /content/drive/MyDrive/cash_training/Currency-Identification-Smart-Glasses.v1i.yolov8/test2.mp4: 192x320 1 note, 10.7ms\n",
            "video 1/1 (1025/1395) /content/drive/MyDrive/cash_training/Currency-Identification-Smart-Glasses.v1i.yolov8/test2.mp4: 192x320 1 note, 11.2ms\n",
            "video 1/1 (1026/1395) /content/drive/MyDrive/cash_training/Currency-Identification-Smart-Glasses.v1i.yolov8/test2.mp4: 192x320 1 note, 11.4ms\n",
            "video 1/1 (1027/1395) /content/drive/MyDrive/cash_training/Currency-Identification-Smart-Glasses.v1i.yolov8/test2.mp4: 192x320 1 note, 14.6ms\n",
            "video 1/1 (1028/1395) /content/drive/MyDrive/cash_training/Currency-Identification-Smart-Glasses.v1i.yolov8/test2.mp4: 192x320 1 note, 14.3ms\n",
            "video 1/1 (1029/1395) /content/drive/MyDrive/cash_training/Currency-Identification-Smart-Glasses.v1i.yolov8/test2.mp4: 192x320 1 note, 17.5ms\n",
            "video 1/1 (1030/1395) /content/drive/MyDrive/cash_training/Currency-Identification-Smart-Glasses.v1i.yolov8/test2.mp4: 192x320 1 note, 13.0ms\n",
            "video 1/1 (1031/1395) /content/drive/MyDrive/cash_training/Currency-Identification-Smart-Glasses.v1i.yolov8/test2.mp4: 192x320 1 note, 11.1ms\n",
            "video 1/1 (1032/1395) /content/drive/MyDrive/cash_training/Currency-Identification-Smart-Glasses.v1i.yolov8/test2.mp4: 192x320 1 note, 12.0ms\n",
            "video 1/1 (1033/1395) /content/drive/MyDrive/cash_training/Currency-Identification-Smart-Glasses.v1i.yolov8/test2.mp4: 192x320 1 note, 12.2ms\n",
            "video 1/1 (1034/1395) /content/drive/MyDrive/cash_training/Currency-Identification-Smart-Glasses.v1i.yolov8/test2.mp4: 192x320 1 note, 8.0ms\n",
            "video 1/1 (1035/1395) /content/drive/MyDrive/cash_training/Currency-Identification-Smart-Glasses.v1i.yolov8/test2.mp4: 192x320 1 note, 11.9ms\n",
            "video 1/1 (1036/1395) /content/drive/MyDrive/cash_training/Currency-Identification-Smart-Glasses.v1i.yolov8/test2.mp4: 192x320 1 note, 8.2ms\n",
            "video 1/1 (1037/1395) /content/drive/MyDrive/cash_training/Currency-Identification-Smart-Glasses.v1i.yolov8/test2.mp4: 192x320 1 note, 8.7ms\n",
            "video 1/1 (1038/1395) /content/drive/MyDrive/cash_training/Currency-Identification-Smart-Glasses.v1i.yolov8/test2.mp4: 192x320 1 note, 15.6ms\n",
            "video 1/1 (1039/1395) /content/drive/MyDrive/cash_training/Currency-Identification-Smart-Glasses.v1i.yolov8/test2.mp4: 192x320 1 note, 14.1ms\n",
            "video 1/1 (1040/1395) /content/drive/MyDrive/cash_training/Currency-Identification-Smart-Glasses.v1i.yolov8/test2.mp4: 192x320 1 note, 12.2ms\n",
            "video 1/1 (1041/1395) /content/drive/MyDrive/cash_training/Currency-Identification-Smart-Glasses.v1i.yolov8/test2.mp4: 192x320 1 note, 13.7ms\n",
            "video 1/1 (1042/1395) /content/drive/MyDrive/cash_training/Currency-Identification-Smart-Glasses.v1i.yolov8/test2.mp4: 192x320 1 note, 10.7ms\n",
            "video 1/1 (1043/1395) /content/drive/MyDrive/cash_training/Currency-Identification-Smart-Glasses.v1i.yolov8/test2.mp4: 192x320 1 note, 8.8ms\n",
            "video 1/1 (1044/1395) /content/drive/MyDrive/cash_training/Currency-Identification-Smart-Glasses.v1i.yolov8/test2.mp4: 192x320 1 note, 8.8ms\n",
            "video 1/1 (1045/1395) /content/drive/MyDrive/cash_training/Currency-Identification-Smart-Glasses.v1i.yolov8/test2.mp4: 192x320 1 note, 11.2ms\n",
            "video 1/1 (1046/1395) /content/drive/MyDrive/cash_training/Currency-Identification-Smart-Glasses.v1i.yolov8/test2.mp4: 192x320 1 note, 11.8ms\n",
            "video 1/1 (1047/1395) /content/drive/MyDrive/cash_training/Currency-Identification-Smart-Glasses.v1i.yolov8/test2.mp4: 192x320 1 note, 8.5ms\n",
            "video 1/1 (1048/1395) /content/drive/MyDrive/cash_training/Currency-Identification-Smart-Glasses.v1i.yolov8/test2.mp4: 192x320 1 note, 8.4ms\n",
            "video 1/1 (1049/1395) /content/drive/MyDrive/cash_training/Currency-Identification-Smart-Glasses.v1i.yolov8/test2.mp4: 192x320 1 note, 15.2ms\n",
            "video 1/1 (1050/1395) /content/drive/MyDrive/cash_training/Currency-Identification-Smart-Glasses.v1i.yolov8/test2.mp4: 192x320 1 note, 20.6ms\n",
            "video 1/1 (1051/1395) /content/drive/MyDrive/cash_training/Currency-Identification-Smart-Glasses.v1i.yolov8/test2.mp4: 192x320 1 note, 8.5ms\n",
            "video 1/1 (1052/1395) /content/drive/MyDrive/cash_training/Currency-Identification-Smart-Glasses.v1i.yolov8/test2.mp4: 192x320 1 note, 10.1ms\n",
            "video 1/1 (1053/1395) /content/drive/MyDrive/cash_training/Currency-Identification-Smart-Glasses.v1i.yolov8/test2.mp4: 192x320 1 note, 10.4ms\n",
            "video 1/1 (1054/1395) /content/drive/MyDrive/cash_training/Currency-Identification-Smart-Glasses.v1i.yolov8/test2.mp4: 192x320 1 note, 9.3ms\n",
            "video 1/1 (1055/1395) /content/drive/MyDrive/cash_training/Currency-Identification-Smart-Glasses.v1i.yolov8/test2.mp4: 192x320 2 notes, 8.8ms\n",
            "video 1/1 (1056/1395) /content/drive/MyDrive/cash_training/Currency-Identification-Smart-Glasses.v1i.yolov8/test2.mp4: 192x320 1 note, 12.6ms\n",
            "video 1/1 (1057/1395) /content/drive/MyDrive/cash_training/Currency-Identification-Smart-Glasses.v1i.yolov8/test2.mp4: 192x320 1 note, 9.5ms\n",
            "video 1/1 (1058/1395) /content/drive/MyDrive/cash_training/Currency-Identification-Smart-Glasses.v1i.yolov8/test2.mp4: 192x320 1 note, 12.2ms\n",
            "video 1/1 (1059/1395) /content/drive/MyDrive/cash_training/Currency-Identification-Smart-Glasses.v1i.yolov8/test2.mp4: 192x320 1 note, 10.2ms\n",
            "video 1/1 (1060/1395) /content/drive/MyDrive/cash_training/Currency-Identification-Smart-Glasses.v1i.yolov8/test2.mp4: 192x320 1 note, 9.8ms\n",
            "video 1/1 (1061/1395) /content/drive/MyDrive/cash_training/Currency-Identification-Smart-Glasses.v1i.yolov8/test2.mp4: 192x320 1 note, 8.5ms\n",
            "video 1/1 (1062/1395) /content/drive/MyDrive/cash_training/Currency-Identification-Smart-Glasses.v1i.yolov8/test2.mp4: 192x320 1 note, 16.3ms\n",
            "video 1/1 (1063/1395) /content/drive/MyDrive/cash_training/Currency-Identification-Smart-Glasses.v1i.yolov8/test2.mp4: 192x320 1 note, 22.6ms\n",
            "video 1/1 (1064/1395) /content/drive/MyDrive/cash_training/Currency-Identification-Smart-Glasses.v1i.yolov8/test2.mp4: 192x320 1 note, 17.7ms\n",
            "video 1/1 (1065/1395) /content/drive/MyDrive/cash_training/Currency-Identification-Smart-Glasses.v1i.yolov8/test2.mp4: 192x320 1 note, 16.8ms\n",
            "video 1/1 (1066/1395) /content/drive/MyDrive/cash_training/Currency-Identification-Smart-Glasses.v1i.yolov8/test2.mp4: 192x320 1 note, 13.2ms\n",
            "video 1/1 (1067/1395) /content/drive/MyDrive/cash_training/Currency-Identification-Smart-Glasses.v1i.yolov8/test2.mp4: 192x320 1 note, 16.4ms\n",
            "video 1/1 (1068/1395) /content/drive/MyDrive/cash_training/Currency-Identification-Smart-Glasses.v1i.yolov8/test2.mp4: 192x320 1 note, 18.0ms\n",
            "video 1/1 (1069/1395) /content/drive/MyDrive/cash_training/Currency-Identification-Smart-Glasses.v1i.yolov8/test2.mp4: 192x320 1 note, 12.5ms\n",
            "video 1/1 (1070/1395) /content/drive/MyDrive/cash_training/Currency-Identification-Smart-Glasses.v1i.yolov8/test2.mp4: 192x320 1 note, 12.9ms\n",
            "video 1/1 (1071/1395) /content/drive/MyDrive/cash_training/Currency-Identification-Smart-Glasses.v1i.yolov8/test2.mp4: 192x320 1 note, 13.1ms\n",
            "video 1/1 (1072/1395) /content/drive/MyDrive/cash_training/Currency-Identification-Smart-Glasses.v1i.yolov8/test2.mp4: 192x320 1 note, 13.0ms\n",
            "video 1/1 (1073/1395) /content/drive/MyDrive/cash_training/Currency-Identification-Smart-Glasses.v1i.yolov8/test2.mp4: 192x320 1 note, 21.9ms\n",
            "video 1/1 (1074/1395) /content/drive/MyDrive/cash_training/Currency-Identification-Smart-Glasses.v1i.yolov8/test2.mp4: 192x320 1 note, 15.2ms\n",
            "video 1/1 (1075/1395) /content/drive/MyDrive/cash_training/Currency-Identification-Smart-Glasses.v1i.yolov8/test2.mp4: 192x320 1 note, 12.9ms\n",
            "video 1/1 (1076/1395) /content/drive/MyDrive/cash_training/Currency-Identification-Smart-Glasses.v1i.yolov8/test2.mp4: 192x320 1 note, 13.7ms\n",
            "video 1/1 (1077/1395) /content/drive/MyDrive/cash_training/Currency-Identification-Smart-Glasses.v1i.yolov8/test2.mp4: 192x320 1 note, 12.4ms\n",
            "video 1/1 (1078/1395) /content/drive/MyDrive/cash_training/Currency-Identification-Smart-Glasses.v1i.yolov8/test2.mp4: 192x320 1 note, 12.9ms\n",
            "video 1/1 (1079/1395) /content/drive/MyDrive/cash_training/Currency-Identification-Smart-Glasses.v1i.yolov8/test2.mp4: 192x320 1 atm-card, 2 notes, 12.5ms\n",
            "video 1/1 (1080/1395) /content/drive/MyDrive/cash_training/Currency-Identification-Smart-Glasses.v1i.yolov8/test2.mp4: 192x320 1 atm-card, 1 note, 16.0ms\n",
            "video 1/1 (1081/1395) /content/drive/MyDrive/cash_training/Currency-Identification-Smart-Glasses.v1i.yolov8/test2.mp4: 192x320 2 notes, 14.3ms\n",
            "video 1/1 (1082/1395) /content/drive/MyDrive/cash_training/Currency-Identification-Smart-Glasses.v1i.yolov8/test2.mp4: 192x320 2 notes, 11.9ms\n",
            "video 1/1 (1083/1395) /content/drive/MyDrive/cash_training/Currency-Identification-Smart-Glasses.v1i.yolov8/test2.mp4: 192x320 1 note, 10.8ms\n",
            "video 1/1 (1084/1395) /content/drive/MyDrive/cash_training/Currency-Identification-Smart-Glasses.v1i.yolov8/test2.mp4: 192x320 1 note, 13.3ms\n",
            "video 1/1 (1085/1395) /content/drive/MyDrive/cash_training/Currency-Identification-Smart-Glasses.v1i.yolov8/test2.mp4: 192x320 1 note, 11.4ms\n",
            "video 1/1 (1086/1395) /content/drive/MyDrive/cash_training/Currency-Identification-Smart-Glasses.v1i.yolov8/test2.mp4: 192x320 1 note, 12.0ms\n",
            "video 1/1 (1087/1395) /content/drive/MyDrive/cash_training/Currency-Identification-Smart-Glasses.v1i.yolov8/test2.mp4: 192x320 2 notes, 10.7ms\n",
            "video 1/1 (1088/1395) /content/drive/MyDrive/cash_training/Currency-Identification-Smart-Glasses.v1i.yolov8/test2.mp4: 192x320 3 notes, 16.0ms\n",
            "video 1/1 (1089/1395) /content/drive/MyDrive/cash_training/Currency-Identification-Smart-Glasses.v1i.yolov8/test2.mp4: 192x320 2 notes, 11.8ms\n",
            "video 1/1 (1090/1395) /content/drive/MyDrive/cash_training/Currency-Identification-Smart-Glasses.v1i.yolov8/test2.mp4: 192x320 2 notes, 11.6ms\n",
            "video 1/1 (1091/1395) /content/drive/MyDrive/cash_training/Currency-Identification-Smart-Glasses.v1i.yolov8/test2.mp4: 192x320 4 notes, 10.9ms\n",
            "video 1/1 (1092/1395) /content/drive/MyDrive/cash_training/Currency-Identification-Smart-Glasses.v1i.yolov8/test2.mp4: 192x320 3 notes, 11.8ms\n",
            "video 1/1 (1093/1395) /content/drive/MyDrive/cash_training/Currency-Identification-Smart-Glasses.v1i.yolov8/test2.mp4: 192x320 2 notes, 11.3ms\n",
            "video 1/1 (1094/1395) /content/drive/MyDrive/cash_training/Currency-Identification-Smart-Glasses.v1i.yolov8/test2.mp4: 192x320 2 notes, 12.8ms\n",
            "video 1/1 (1095/1395) /content/drive/MyDrive/cash_training/Currency-Identification-Smart-Glasses.v1i.yolov8/test2.mp4: 192x320 2 notes, 17.6ms\n",
            "video 1/1 (1096/1395) /content/drive/MyDrive/cash_training/Currency-Identification-Smart-Glasses.v1i.yolov8/test2.mp4: 192x320 1 note, 11.7ms\n",
            "video 1/1 (1097/1395) /content/drive/MyDrive/cash_training/Currency-Identification-Smart-Glasses.v1i.yolov8/test2.mp4: 192x320 1 note, 10.7ms\n",
            "video 1/1 (1098/1395) /content/drive/MyDrive/cash_training/Currency-Identification-Smart-Glasses.v1i.yolov8/test2.mp4: 192x320 1 note, 10.6ms\n",
            "video 1/1 (1099/1395) /content/drive/MyDrive/cash_training/Currency-Identification-Smart-Glasses.v1i.yolov8/test2.mp4: 192x320 1 note, 10.9ms\n",
            "video 1/1 (1100/1395) /content/drive/MyDrive/cash_training/Currency-Identification-Smart-Glasses.v1i.yolov8/test2.mp4: 192x320 1 note, 10.7ms\n",
            "video 1/1 (1101/1395) /content/drive/MyDrive/cash_training/Currency-Identification-Smart-Glasses.v1i.yolov8/test2.mp4: 192x320 1 note, 10.9ms\n",
            "video 1/1 (1102/1395) /content/drive/MyDrive/cash_training/Currency-Identification-Smart-Glasses.v1i.yolov8/test2.mp4: 192x320 1 note, 12.6ms\n",
            "video 1/1 (1103/1395) /content/drive/MyDrive/cash_training/Currency-Identification-Smart-Glasses.v1i.yolov8/test2.mp4: 192x320 1 note, 11.0ms\n",
            "video 1/1 (1104/1395) /content/drive/MyDrive/cash_training/Currency-Identification-Smart-Glasses.v1i.yolov8/test2.mp4: 192x320 1 note, 16.1ms\n",
            "video 1/1 (1105/1395) /content/drive/MyDrive/cash_training/Currency-Identification-Smart-Glasses.v1i.yolov8/test2.mp4: 192x320 1 note, 15.7ms\n",
            "video 1/1 (1106/1395) /content/drive/MyDrive/cash_training/Currency-Identification-Smart-Glasses.v1i.yolov8/test2.mp4: 192x320 1 note, 16.5ms\n",
            "video 1/1 (1107/1395) /content/drive/MyDrive/cash_training/Currency-Identification-Smart-Glasses.v1i.yolov8/test2.mp4: 192x320 1 note, 11.3ms\n",
            "video 1/1 (1108/1395) /content/drive/MyDrive/cash_training/Currency-Identification-Smart-Glasses.v1i.yolov8/test2.mp4: 192x320 1 note, 18.6ms\n",
            "video 1/1 (1109/1395) /content/drive/MyDrive/cash_training/Currency-Identification-Smart-Glasses.v1i.yolov8/test2.mp4: 192x320 1 note, 11.0ms\n",
            "video 1/1 (1110/1395) /content/drive/MyDrive/cash_training/Currency-Identification-Smart-Glasses.v1i.yolov8/test2.mp4: 192x320 1 note, 29.9ms\n",
            "video 1/1 (1111/1395) /content/drive/MyDrive/cash_training/Currency-Identification-Smart-Glasses.v1i.yolov8/test2.mp4: 192x320 1 note, 15.6ms\n",
            "video 1/1 (1112/1395) /content/drive/MyDrive/cash_training/Currency-Identification-Smart-Glasses.v1i.yolov8/test2.mp4: 192x320 1 note, 12.7ms\n",
            "video 1/1 (1113/1395) /content/drive/MyDrive/cash_training/Currency-Identification-Smart-Glasses.v1i.yolov8/test2.mp4: 192x320 1 note, 17.7ms\n",
            "video 1/1 (1114/1395) /content/drive/MyDrive/cash_training/Currency-Identification-Smart-Glasses.v1i.yolov8/test2.mp4: 192x320 1 note, 13.5ms\n",
            "video 1/1 (1115/1395) /content/drive/MyDrive/cash_training/Currency-Identification-Smart-Glasses.v1i.yolov8/test2.mp4: 192x320 1 note, 16.9ms\n",
            "video 1/1 (1116/1395) /content/drive/MyDrive/cash_training/Currency-Identification-Smart-Glasses.v1i.yolov8/test2.mp4: 192x320 1 note, 13.0ms\n",
            "video 1/1 (1117/1395) /content/drive/MyDrive/cash_training/Currency-Identification-Smart-Glasses.v1i.yolov8/test2.mp4: 192x320 1 note, 19.6ms\n",
            "video 1/1 (1118/1395) /content/drive/MyDrive/cash_training/Currency-Identification-Smart-Glasses.v1i.yolov8/test2.mp4: 192x320 1 note, 13.2ms\n",
            "video 1/1 (1119/1395) /content/drive/MyDrive/cash_training/Currency-Identification-Smart-Glasses.v1i.yolov8/test2.mp4: 192x320 1 atm-card, 1 note, 15.9ms\n",
            "video 1/1 (1120/1395) /content/drive/MyDrive/cash_training/Currency-Identification-Smart-Glasses.v1i.yolov8/test2.mp4: 192x320 1 note, 16.6ms\n",
            "video 1/1 (1121/1395) /content/drive/MyDrive/cash_training/Currency-Identification-Smart-Glasses.v1i.yolov8/test2.mp4: 192x320 1 note, 12.1ms\n",
            "video 1/1 (1122/1395) /content/drive/MyDrive/cash_training/Currency-Identification-Smart-Glasses.v1i.yolov8/test2.mp4: 192x320 1 atm-card, 1 note, 13.3ms\n",
            "video 1/1 (1123/1395) /content/drive/MyDrive/cash_training/Currency-Identification-Smart-Glasses.v1i.yolov8/test2.mp4: 192x320 1 note, 23.2ms\n",
            "video 1/1 (1124/1395) /content/drive/MyDrive/cash_training/Currency-Identification-Smart-Glasses.v1i.yolov8/test2.mp4: 192x320 1 note, 15.9ms\n",
            "video 1/1 (1125/1395) /content/drive/MyDrive/cash_training/Currency-Identification-Smart-Glasses.v1i.yolov8/test2.mp4: 192x320 1 note, 11.7ms\n",
            "video 1/1 (1126/1395) /content/drive/MyDrive/cash_training/Currency-Identification-Smart-Glasses.v1i.yolov8/test2.mp4: 192x320 1 atm-card, 1 note, 14.6ms\n",
            "video 1/1 (1127/1395) /content/drive/MyDrive/cash_training/Currency-Identification-Smart-Glasses.v1i.yolov8/test2.mp4: 192x320 1 note, 10.7ms\n",
            "video 1/1 (1128/1395) /content/drive/MyDrive/cash_training/Currency-Identification-Smart-Glasses.v1i.yolov8/test2.mp4: 192x320 1 atm-card, 1 note, 11.6ms\n",
            "video 1/1 (1129/1395) /content/drive/MyDrive/cash_training/Currency-Identification-Smart-Glasses.v1i.yolov8/test2.mp4: 192x320 1 atm-card, 1 note, 13.3ms\n",
            "video 1/1 (1130/1395) /content/drive/MyDrive/cash_training/Currency-Identification-Smart-Glasses.v1i.yolov8/test2.mp4: 192x320 1 atm-card, 1 note, 11.3ms\n",
            "video 1/1 (1131/1395) /content/drive/MyDrive/cash_training/Currency-Identification-Smart-Glasses.v1i.yolov8/test2.mp4: 192x320 1 note, 18.4ms\n",
            "video 1/1 (1132/1395) /content/drive/MyDrive/cash_training/Currency-Identification-Smart-Glasses.v1i.yolov8/test2.mp4: 192x320 1 atm-card, 1 note, 19.2ms\n",
            "video 1/1 (1133/1395) /content/drive/MyDrive/cash_training/Currency-Identification-Smart-Glasses.v1i.yolov8/test2.mp4: 192x320 1 atm-card, 1 note, 14.1ms\n",
            "video 1/1 (1134/1395) /content/drive/MyDrive/cash_training/Currency-Identification-Smart-Glasses.v1i.yolov8/test2.mp4: 192x320 1 atm-card, 1 note, 11.3ms\n",
            "video 1/1 (1135/1395) /content/drive/MyDrive/cash_training/Currency-Identification-Smart-Glasses.v1i.yolov8/test2.mp4: 192x320 1 atm-card, 1 note, 15.7ms\n",
            "video 1/1 (1136/1395) /content/drive/MyDrive/cash_training/Currency-Identification-Smart-Glasses.v1i.yolov8/test2.mp4: 192x320 1 atm-card, 1 note, 15.7ms\n",
            "video 1/1 (1137/1395) /content/drive/MyDrive/cash_training/Currency-Identification-Smart-Glasses.v1i.yolov8/test2.mp4: 192x320 1 note, 14.0ms\n",
            "video 1/1 (1138/1395) /content/drive/MyDrive/cash_training/Currency-Identification-Smart-Glasses.v1i.yolov8/test2.mp4: 192x320 1 note, 20.4ms\n",
            "video 1/1 (1139/1395) /content/drive/MyDrive/cash_training/Currency-Identification-Smart-Glasses.v1i.yolov8/test2.mp4: 192x320 1 note, 12.8ms\n",
            "video 1/1 (1140/1395) /content/drive/MyDrive/cash_training/Currency-Identification-Smart-Glasses.v1i.yolov8/test2.mp4: 192x320 1 note, 45.7ms\n",
            "video 1/1 (1141/1395) /content/drive/MyDrive/cash_training/Currency-Identification-Smart-Glasses.v1i.yolov8/test2.mp4: 192x320 1 note, 21.1ms\n",
            "video 1/1 (1142/1395) /content/drive/MyDrive/cash_training/Currency-Identification-Smart-Glasses.v1i.yolov8/test2.mp4: 192x320 1 note, 14.6ms\n",
            "video 1/1 (1143/1395) /content/drive/MyDrive/cash_training/Currency-Identification-Smart-Glasses.v1i.yolov8/test2.mp4: 192x320 1 note, 16.2ms\n",
            "video 1/1 (1144/1395) /content/drive/MyDrive/cash_training/Currency-Identification-Smart-Glasses.v1i.yolov8/test2.mp4: 192x320 1 note, 15.3ms\n",
            "video 1/1 (1145/1395) /content/drive/MyDrive/cash_training/Currency-Identification-Smart-Glasses.v1i.yolov8/test2.mp4: 192x320 1 note, 12.6ms\n",
            "video 1/1 (1146/1395) /content/drive/MyDrive/cash_training/Currency-Identification-Smart-Glasses.v1i.yolov8/test2.mp4: 192x320 1 note, 17.0ms\n",
            "video 1/1 (1147/1395) /content/drive/MyDrive/cash_training/Currency-Identification-Smart-Glasses.v1i.yolov8/test2.mp4: 192x320 1 note, 13.6ms\n",
            "video 1/1 (1148/1395) /content/drive/MyDrive/cash_training/Currency-Identification-Smart-Glasses.v1i.yolov8/test2.mp4: 192x320 1 note, 16.1ms\n",
            "video 1/1 (1149/1395) /content/drive/MyDrive/cash_training/Currency-Identification-Smart-Glasses.v1i.yolov8/test2.mp4: 192x320 1 note, 14.6ms\n",
            "video 1/1 (1150/1395) /content/drive/MyDrive/cash_training/Currency-Identification-Smart-Glasses.v1i.yolov8/test2.mp4: 192x320 1 note, 12.6ms\n",
            "video 1/1 (1151/1395) /content/drive/MyDrive/cash_training/Currency-Identification-Smart-Glasses.v1i.yolov8/test2.mp4: 192x320 1 note, 13.1ms\n",
            "video 1/1 (1152/1395) /content/drive/MyDrive/cash_training/Currency-Identification-Smart-Glasses.v1i.yolov8/test2.mp4: 192x320 1 note, 17.8ms\n",
            "video 1/1 (1153/1395) /content/drive/MyDrive/cash_training/Currency-Identification-Smart-Glasses.v1i.yolov8/test2.mp4: 192x320 1 note, 46.6ms\n",
            "video 1/1 (1154/1395) /content/drive/MyDrive/cash_training/Currency-Identification-Smart-Glasses.v1i.yolov8/test2.mp4: 192x320 1 note, 15.4ms\n",
            "video 1/1 (1155/1395) /content/drive/MyDrive/cash_training/Currency-Identification-Smart-Glasses.v1i.yolov8/test2.mp4: 192x320 1 note, 19.0ms\n",
            "video 1/1 (1156/1395) /content/drive/MyDrive/cash_training/Currency-Identification-Smart-Glasses.v1i.yolov8/test2.mp4: 192x320 1 note, 20.4ms\n",
            "video 1/1 (1157/1395) /content/drive/MyDrive/cash_training/Currency-Identification-Smart-Glasses.v1i.yolov8/test2.mp4: 192x320 1 note, 17.8ms\n",
            "video 1/1 (1158/1395) /content/drive/MyDrive/cash_training/Currency-Identification-Smart-Glasses.v1i.yolov8/test2.mp4: 192x320 1 note, 10.8ms\n",
            "video 1/1 (1159/1395) /content/drive/MyDrive/cash_training/Currency-Identification-Smart-Glasses.v1i.yolov8/test2.mp4: 192x320 1 note, 15.8ms\n",
            "video 1/1 (1160/1395) /content/drive/MyDrive/cash_training/Currency-Identification-Smart-Glasses.v1i.yolov8/test2.mp4: 192x320 1 note, 11.7ms\n",
            "video 1/1 (1161/1395) /content/drive/MyDrive/cash_training/Currency-Identification-Smart-Glasses.v1i.yolov8/test2.mp4: 192x320 1 note, 16.6ms\n",
            "video 1/1 (1162/1395) /content/drive/MyDrive/cash_training/Currency-Identification-Smart-Glasses.v1i.yolov8/test2.mp4: 192x320 1 note, 13.6ms\n",
            "video 1/1 (1163/1395) /content/drive/MyDrive/cash_training/Currency-Identification-Smart-Glasses.v1i.yolov8/test2.mp4: 192x320 1 note, 10.8ms\n",
            "video 1/1 (1164/1395) /content/drive/MyDrive/cash_training/Currency-Identification-Smart-Glasses.v1i.yolov8/test2.mp4: 192x320 1 note, 14.2ms\n",
            "video 1/1 (1165/1395) /content/drive/MyDrive/cash_training/Currency-Identification-Smart-Glasses.v1i.yolov8/test2.mp4: 192x320 1 note, 12.0ms\n",
            "video 1/1 (1166/1395) /content/drive/MyDrive/cash_training/Currency-Identification-Smart-Glasses.v1i.yolov8/test2.mp4: 192x320 1 note, 12.9ms\n",
            "video 1/1 (1167/1395) /content/drive/MyDrive/cash_training/Currency-Identification-Smart-Glasses.v1i.yolov8/test2.mp4: 192x320 1 note, 10.6ms\n",
            "video 1/1 (1168/1395) /content/drive/MyDrive/cash_training/Currency-Identification-Smart-Glasses.v1i.yolov8/test2.mp4: 192x320 1 note, 15.1ms\n",
            "video 1/1 (1169/1395) /content/drive/MyDrive/cash_training/Currency-Identification-Smart-Glasses.v1i.yolov8/test2.mp4: 192x320 1 note, 10.4ms\n",
            "video 1/1 (1170/1395) /content/drive/MyDrive/cash_training/Currency-Identification-Smart-Glasses.v1i.yolov8/test2.mp4: 192x320 1 note, 13.5ms\n",
            "video 1/1 (1171/1395) /content/drive/MyDrive/cash_training/Currency-Identification-Smart-Glasses.v1i.yolov8/test2.mp4: 192x320 1 note, 11.1ms\n",
            "video 1/1 (1172/1395) /content/drive/MyDrive/cash_training/Currency-Identification-Smart-Glasses.v1i.yolov8/test2.mp4: 192x320 1 note, 11.8ms\n",
            "video 1/1 (1173/1395) /content/drive/MyDrive/cash_training/Currency-Identification-Smart-Glasses.v1i.yolov8/test2.mp4: 192x320 1 note, 11.3ms\n",
            "video 1/1 (1174/1395) /content/drive/MyDrive/cash_training/Currency-Identification-Smart-Glasses.v1i.yolov8/test2.mp4: 192x320 1 note, 13.7ms\n",
            "video 1/1 (1175/1395) /content/drive/MyDrive/cash_training/Currency-Identification-Smart-Glasses.v1i.yolov8/test2.mp4: 192x320 1 note, 13.5ms\n",
            "video 1/1 (1176/1395) /content/drive/MyDrive/cash_training/Currency-Identification-Smart-Glasses.v1i.yolov8/test2.mp4: 192x320 1 note, 20.7ms\n",
            "video 1/1 (1177/1395) /content/drive/MyDrive/cash_training/Currency-Identification-Smart-Glasses.v1i.yolov8/test2.mp4: 192x320 1 note, 15.4ms\n",
            "video 1/1 (1178/1395) /content/drive/MyDrive/cash_training/Currency-Identification-Smart-Glasses.v1i.yolov8/test2.mp4: 192x320 1 note, 12.9ms\n",
            "video 1/1 (1179/1395) /content/drive/MyDrive/cash_training/Currency-Identification-Smart-Glasses.v1i.yolov8/test2.mp4: 192x320 1 note, 14.8ms\n",
            "video 1/1 (1180/1395) /content/drive/MyDrive/cash_training/Currency-Identification-Smart-Glasses.v1i.yolov8/test2.mp4: 192x320 1 note, 17.5ms\n",
            "video 1/1 (1181/1395) /content/drive/MyDrive/cash_training/Currency-Identification-Smart-Glasses.v1i.yolov8/test2.mp4: 192x320 1 note, 13.1ms\n",
            "video 1/1 (1182/1395) /content/drive/MyDrive/cash_training/Currency-Identification-Smart-Glasses.v1i.yolov8/test2.mp4: 192x320 1 note, 11.3ms\n",
            "video 1/1 (1183/1395) /content/drive/MyDrive/cash_training/Currency-Identification-Smart-Glasses.v1i.yolov8/test2.mp4: 192x320 1 note, 10.7ms\n",
            "video 1/1 (1184/1395) /content/drive/MyDrive/cash_training/Currency-Identification-Smart-Glasses.v1i.yolov8/test2.mp4: 192x320 1 note, 11.4ms\n",
            "video 1/1 (1185/1395) /content/drive/MyDrive/cash_training/Currency-Identification-Smart-Glasses.v1i.yolov8/test2.mp4: 192x320 1 note, 11.6ms\n",
            "video 1/1 (1186/1395) /content/drive/MyDrive/cash_training/Currency-Identification-Smart-Glasses.v1i.yolov8/test2.mp4: 192x320 1 note, 11.2ms\n",
            "video 1/1 (1187/1395) /content/drive/MyDrive/cash_training/Currency-Identification-Smart-Glasses.v1i.yolov8/test2.mp4: 192x320 1 note, 11.3ms\n",
            "video 1/1 (1188/1395) /content/drive/MyDrive/cash_training/Currency-Identification-Smart-Glasses.v1i.yolov8/test2.mp4: 192x320 1 note, 21.3ms\n",
            "video 1/1 (1189/1395) /content/drive/MyDrive/cash_training/Currency-Identification-Smart-Glasses.v1i.yolov8/test2.mp4: 192x320 1 note, 18.3ms\n",
            "video 1/1 (1190/1395) /content/drive/MyDrive/cash_training/Currency-Identification-Smart-Glasses.v1i.yolov8/test2.mp4: 192x320 1 note, 16.3ms\n",
            "video 1/1 (1191/1395) /content/drive/MyDrive/cash_training/Currency-Identification-Smart-Glasses.v1i.yolov8/test2.mp4: 192x320 1 note, 10.9ms\n",
            "video 1/1 (1192/1395) /content/drive/MyDrive/cash_training/Currency-Identification-Smart-Glasses.v1i.yolov8/test2.mp4: 192x320 1 note, 12.7ms\n",
            "video 1/1 (1193/1395) /content/drive/MyDrive/cash_training/Currency-Identification-Smart-Glasses.v1i.yolov8/test2.mp4: 192x320 1 note, 14.1ms\n",
            "video 1/1 (1194/1395) /content/drive/MyDrive/cash_training/Currency-Identification-Smart-Glasses.v1i.yolov8/test2.mp4: 192x320 1 note, 12.5ms\n",
            "video 1/1 (1195/1395) /content/drive/MyDrive/cash_training/Currency-Identification-Smart-Glasses.v1i.yolov8/test2.mp4: 192x320 1 note, 13.2ms\n",
            "video 1/1 (1196/1395) /content/drive/MyDrive/cash_training/Currency-Identification-Smart-Glasses.v1i.yolov8/test2.mp4: 192x320 1 note, 12.6ms\n",
            "video 1/1 (1197/1395) /content/drive/MyDrive/cash_training/Currency-Identification-Smart-Glasses.v1i.yolov8/test2.mp4: 192x320 1 note, 23.0ms\n",
            "video 1/1 (1198/1395) /content/drive/MyDrive/cash_training/Currency-Identification-Smart-Glasses.v1i.yolov8/test2.mp4: 192x320 1 note, 23.1ms\n",
            "video 1/1 (1199/1395) /content/drive/MyDrive/cash_training/Currency-Identification-Smart-Glasses.v1i.yolov8/test2.mp4: 192x320 1 note, 11.6ms\n",
            "video 1/1 (1200/1395) /content/drive/MyDrive/cash_training/Currency-Identification-Smart-Glasses.v1i.yolov8/test2.mp4: 192x320 1 note, 11.3ms\n",
            "video 1/1 (1201/1395) /content/drive/MyDrive/cash_training/Currency-Identification-Smart-Glasses.v1i.yolov8/test2.mp4: 192x320 1 note, 12.2ms\n",
            "video 1/1 (1202/1395) /content/drive/MyDrive/cash_training/Currency-Identification-Smart-Glasses.v1i.yolov8/test2.mp4: 192x320 1 note, 14.1ms\n",
            "video 1/1 (1203/1395) /content/drive/MyDrive/cash_training/Currency-Identification-Smart-Glasses.v1i.yolov8/test2.mp4: 192x320 1 note, 15.4ms\n",
            "video 1/1 (1204/1395) /content/drive/MyDrive/cash_training/Currency-Identification-Smart-Glasses.v1i.yolov8/test2.mp4: 192x320 1 note, 13.9ms\n",
            "video 1/1 (1205/1395) /content/drive/MyDrive/cash_training/Currency-Identification-Smart-Glasses.v1i.yolov8/test2.mp4: 192x320 1 note, 15.6ms\n",
            "video 1/1 (1206/1395) /content/drive/MyDrive/cash_training/Currency-Identification-Smart-Glasses.v1i.yolov8/test2.mp4: 192x320 1 note, 15.2ms\n",
            "video 1/1 (1207/1395) /content/drive/MyDrive/cash_training/Currency-Identification-Smart-Glasses.v1i.yolov8/test2.mp4: 192x320 1 note, 8.9ms\n",
            "video 1/1 (1208/1395) /content/drive/MyDrive/cash_training/Currency-Identification-Smart-Glasses.v1i.yolov8/test2.mp4: 192x320 1 note, 9.8ms\n",
            "video 1/1 (1209/1395) /content/drive/MyDrive/cash_training/Currency-Identification-Smart-Glasses.v1i.yolov8/test2.mp4: 192x320 1 note, 8.9ms\n",
            "video 1/1 (1210/1395) /content/drive/MyDrive/cash_training/Currency-Identification-Smart-Glasses.v1i.yolov8/test2.mp4: 192x320 1 note, 12.0ms\n",
            "video 1/1 (1211/1395) /content/drive/MyDrive/cash_training/Currency-Identification-Smart-Glasses.v1i.yolov8/test2.mp4: 192x320 1 note, 10.8ms\n",
            "video 1/1 (1212/1395) /content/drive/MyDrive/cash_training/Currency-Identification-Smart-Glasses.v1i.yolov8/test2.mp4: 192x320 1 note, 9.5ms\n",
            "video 1/1 (1213/1395) /content/drive/MyDrive/cash_training/Currency-Identification-Smart-Glasses.v1i.yolov8/test2.mp4: 192x320 1 note, 12.8ms\n",
            "video 1/1 (1214/1395) /content/drive/MyDrive/cash_training/Currency-Identification-Smart-Glasses.v1i.yolov8/test2.mp4: 192x320 1 note, 9.7ms\n",
            "video 1/1 (1215/1395) /content/drive/MyDrive/cash_training/Currency-Identification-Smart-Glasses.v1i.yolov8/test2.mp4: 192x320 1 note, 13.2ms\n",
            "video 1/1 (1216/1395) /content/drive/MyDrive/cash_training/Currency-Identification-Smart-Glasses.v1i.yolov8/test2.mp4: 192x320 1 note, 12.2ms\n",
            "video 1/1 (1217/1395) /content/drive/MyDrive/cash_training/Currency-Identification-Smart-Glasses.v1i.yolov8/test2.mp4: 192x320 1 note, 8.3ms\n",
            "video 1/1 (1218/1395) /content/drive/MyDrive/cash_training/Currency-Identification-Smart-Glasses.v1i.yolov8/test2.mp4: 192x320 1 note, 9.1ms\n",
            "video 1/1 (1219/1395) /content/drive/MyDrive/cash_training/Currency-Identification-Smart-Glasses.v1i.yolov8/test2.mp4: 192x320 1 note, 8.2ms\n",
            "video 1/1 (1220/1395) /content/drive/MyDrive/cash_training/Currency-Identification-Smart-Glasses.v1i.yolov8/test2.mp4: 192x320 1 note, 10.0ms\n",
            "video 1/1 (1221/1395) /content/drive/MyDrive/cash_training/Currency-Identification-Smart-Glasses.v1i.yolov8/test2.mp4: 192x320 1 note, 8.8ms\n",
            "video 1/1 (1222/1395) /content/drive/MyDrive/cash_training/Currency-Identification-Smart-Glasses.v1i.yolov8/test2.mp4: 192x320 1 note, 8.6ms\n",
            "video 1/1 (1223/1395) /content/drive/MyDrive/cash_training/Currency-Identification-Smart-Glasses.v1i.yolov8/test2.mp4: 192x320 1 note, 8.6ms\n",
            "video 1/1 (1224/1395) /content/drive/MyDrive/cash_training/Currency-Identification-Smart-Glasses.v1i.yolov8/test2.mp4: 192x320 1 note, 15.8ms\n",
            "video 1/1 (1225/1395) /content/drive/MyDrive/cash_training/Currency-Identification-Smart-Glasses.v1i.yolov8/test2.mp4: 192x320 1 note, 10.7ms\n",
            "video 1/1 (1226/1395) /content/drive/MyDrive/cash_training/Currency-Identification-Smart-Glasses.v1i.yolov8/test2.mp4: 192x320 1 note, 16.2ms\n",
            "video 1/1 (1227/1395) /content/drive/MyDrive/cash_training/Currency-Identification-Smart-Glasses.v1i.yolov8/test2.mp4: 192x320 1 note, 8.8ms\n",
            "video 1/1 (1228/1395) /content/drive/MyDrive/cash_training/Currency-Identification-Smart-Glasses.v1i.yolov8/test2.mp4: 192x320 1 note, 8.6ms\n",
            "video 1/1 (1229/1395) /content/drive/MyDrive/cash_training/Currency-Identification-Smart-Glasses.v1i.yolov8/test2.mp4: 192x320 1 note, 8.9ms\n",
            "video 1/1 (1230/1395) /content/drive/MyDrive/cash_training/Currency-Identification-Smart-Glasses.v1i.yolov8/test2.mp4: 192x320 1 note, 16.9ms\n",
            "video 1/1 (1231/1395) /content/drive/MyDrive/cash_training/Currency-Identification-Smart-Glasses.v1i.yolov8/test2.mp4: 192x320 1 note, 13.4ms\n",
            "video 1/1 (1232/1395) /content/drive/MyDrive/cash_training/Currency-Identification-Smart-Glasses.v1i.yolov8/test2.mp4: 192x320 1 note, 12.1ms\n",
            "video 1/1 (1233/1395) /content/drive/MyDrive/cash_training/Currency-Identification-Smart-Glasses.v1i.yolov8/test2.mp4: 192x320 1 note, 14.4ms\n",
            "video 1/1 (1234/1395) /content/drive/MyDrive/cash_training/Currency-Identification-Smart-Glasses.v1i.yolov8/test2.mp4: 192x320 1 note, 11.1ms\n",
            "video 1/1 (1235/1395) /content/drive/MyDrive/cash_training/Currency-Identification-Smart-Glasses.v1i.yolov8/test2.mp4: 192x320 1 note, 12.3ms\n",
            "video 1/1 (1236/1395) /content/drive/MyDrive/cash_training/Currency-Identification-Smart-Glasses.v1i.yolov8/test2.mp4: 192x320 1 note, 10.4ms\n",
            "video 1/1 (1237/1395) /content/drive/MyDrive/cash_training/Currency-Identification-Smart-Glasses.v1i.yolov8/test2.mp4: 192x320 1 note, 8.7ms\n",
            "video 1/1 (1238/1395) /content/drive/MyDrive/cash_training/Currency-Identification-Smart-Glasses.v1i.yolov8/test2.mp4: 192x320 1 note, 11.1ms\n",
            "video 1/1 (1239/1395) /content/drive/MyDrive/cash_training/Currency-Identification-Smart-Glasses.v1i.yolov8/test2.mp4: 192x320 1 note, 12.5ms\n",
            "video 1/1 (1240/1395) /content/drive/MyDrive/cash_training/Currency-Identification-Smart-Glasses.v1i.yolov8/test2.mp4: 192x320 1 note, 12.8ms\n",
            "video 1/1 (1241/1395) /content/drive/MyDrive/cash_training/Currency-Identification-Smart-Glasses.v1i.yolov8/test2.mp4: 192x320 1 note, 14.9ms\n",
            "video 1/1 (1242/1395) /content/drive/MyDrive/cash_training/Currency-Identification-Smart-Glasses.v1i.yolov8/test2.mp4: 192x320 1 note, 12.7ms\n",
            "video 1/1 (1243/1395) /content/drive/MyDrive/cash_training/Currency-Identification-Smart-Glasses.v1i.yolov8/test2.mp4: 192x320 1 note, 11.6ms\n",
            "video 1/1 (1244/1395) /content/drive/MyDrive/cash_training/Currency-Identification-Smart-Glasses.v1i.yolov8/test2.mp4: 192x320 1 note, 15.0ms\n",
            "video 1/1 (1245/1395) /content/drive/MyDrive/cash_training/Currency-Identification-Smart-Glasses.v1i.yolov8/test2.mp4: 192x320 1 note, 8.6ms\n",
            "video 1/1 (1246/1395) /content/drive/MyDrive/cash_training/Currency-Identification-Smart-Glasses.v1i.yolov8/test2.mp4: 192x320 1 note, 8.9ms\n",
            "video 1/1 (1247/1395) /content/drive/MyDrive/cash_training/Currency-Identification-Smart-Glasses.v1i.yolov8/test2.mp4: 192x320 1 note, 8.4ms\n",
            "video 1/1 (1248/1395) /content/drive/MyDrive/cash_training/Currency-Identification-Smart-Glasses.v1i.yolov8/test2.mp4: 192x320 1 note, 10.7ms\n",
            "video 1/1 (1249/1395) /content/drive/MyDrive/cash_training/Currency-Identification-Smart-Glasses.v1i.yolov8/test2.mp4: 192x320 1 note, 9.3ms\n",
            "video 1/1 (1250/1395) /content/drive/MyDrive/cash_training/Currency-Identification-Smart-Glasses.v1i.yolov8/test2.mp4: 192x320 1 note, 8.4ms\n",
            "video 1/1 (1251/1395) /content/drive/MyDrive/cash_training/Currency-Identification-Smart-Glasses.v1i.yolov8/test2.mp4: 192x320 1 note, 18.7ms\n",
            "video 1/1 (1252/1395) /content/drive/MyDrive/cash_training/Currency-Identification-Smart-Glasses.v1i.yolov8/test2.mp4: 192x320 1 note, 14.2ms\n",
            "video 1/1 (1253/1395) /content/drive/MyDrive/cash_training/Currency-Identification-Smart-Glasses.v1i.yolov8/test2.mp4: 192x320 1 note, 16.9ms\n",
            "video 1/1 (1254/1395) /content/drive/MyDrive/cash_training/Currency-Identification-Smart-Glasses.v1i.yolov8/test2.mp4: 192x320 1 note, 12.6ms\n",
            "video 1/1 (1255/1395) /content/drive/MyDrive/cash_training/Currency-Identification-Smart-Glasses.v1i.yolov8/test2.mp4: 192x320 (no detections), 16.0ms\n",
            "video 1/1 (1256/1395) /content/drive/MyDrive/cash_training/Currency-Identification-Smart-Glasses.v1i.yolov8/test2.mp4: 192x320 1 atm-card, 1 note, 22.9ms\n",
            "video 1/1 (1257/1395) /content/drive/MyDrive/cash_training/Currency-Identification-Smart-Glasses.v1i.yolov8/test2.mp4: 192x320 1 atm-card, 13.7ms\n",
            "video 1/1 (1258/1395) /content/drive/MyDrive/cash_training/Currency-Identification-Smart-Glasses.v1i.yolov8/test2.mp4: 192x320 (no detections), 16.1ms\n",
            "video 1/1 (1259/1395) /content/drive/MyDrive/cash_training/Currency-Identification-Smart-Glasses.v1i.yolov8/test2.mp4: 192x320 (no detections), 13.3ms\n",
            "video 1/1 (1260/1395) /content/drive/MyDrive/cash_training/Currency-Identification-Smart-Glasses.v1i.yolov8/test2.mp4: 192x320 1 note, 16.7ms\n",
            "video 1/1 (1261/1395) /content/drive/MyDrive/cash_training/Currency-Identification-Smart-Glasses.v1i.yolov8/test2.mp4: 192x320 1 note, 14.8ms\n",
            "video 1/1 (1262/1395) /content/drive/MyDrive/cash_training/Currency-Identification-Smart-Glasses.v1i.yolov8/test2.mp4: 192x320 1 atm-card, 1 note, 15.6ms\n",
            "video 1/1 (1263/1395) /content/drive/MyDrive/cash_training/Currency-Identification-Smart-Glasses.v1i.yolov8/test2.mp4: 192x320 1 atm-card, 1 note, 13.0ms\n",
            "video 1/1 (1264/1395) /content/drive/MyDrive/cash_training/Currency-Identification-Smart-Glasses.v1i.yolov8/test2.mp4: 192x320 1 atm-card, 1 note, 11.3ms\n",
            "video 1/1 (1265/1395) /content/drive/MyDrive/cash_training/Currency-Identification-Smart-Glasses.v1i.yolov8/test2.mp4: 192x320 1 note, 15.7ms\n",
            "video 1/1 (1266/1395) /content/drive/MyDrive/cash_training/Currency-Identification-Smart-Glasses.v1i.yolov8/test2.mp4: 192x320 1 atm-card, 1 note, 17.1ms\n",
            "video 1/1 (1267/1395) /content/drive/MyDrive/cash_training/Currency-Identification-Smart-Glasses.v1i.yolov8/test2.mp4: 192x320 1 atm-card, 1 note, 11.9ms\n",
            "video 1/1 (1268/1395) /content/drive/MyDrive/cash_training/Currency-Identification-Smart-Glasses.v1i.yolov8/test2.mp4: 192x320 1 atm-card, 1 note, 17.2ms\n",
            "video 1/1 (1269/1395) /content/drive/MyDrive/cash_training/Currency-Identification-Smart-Glasses.v1i.yolov8/test2.mp4: 192x320 1 atm-card, 1 note, 11.6ms\n",
            "video 1/1 (1270/1395) /content/drive/MyDrive/cash_training/Currency-Identification-Smart-Glasses.v1i.yolov8/test2.mp4: 192x320 1 atm-card, 1 note, 22.7ms\n",
            "video 1/1 (1271/1395) /content/drive/MyDrive/cash_training/Currency-Identification-Smart-Glasses.v1i.yolov8/test2.mp4: 192x320 1 note, 11.3ms\n",
            "video 1/1 (1272/1395) /content/drive/MyDrive/cash_training/Currency-Identification-Smart-Glasses.v1i.yolov8/test2.mp4: 192x320 1 atm-card, 1 note, 12.6ms\n",
            "video 1/1 (1273/1395) /content/drive/MyDrive/cash_training/Currency-Identification-Smart-Glasses.v1i.yolov8/test2.mp4: 192x320 1 atm-card, 1 note, 13.0ms\n",
            "video 1/1 (1274/1395) /content/drive/MyDrive/cash_training/Currency-Identification-Smart-Glasses.v1i.yolov8/test2.mp4: 192x320 1 atm-card, 1 note, 11.7ms\n",
            "video 1/1 (1275/1395) /content/drive/MyDrive/cash_training/Currency-Identification-Smart-Glasses.v1i.yolov8/test2.mp4: 192x320 1 atm-card, 1 note, 16.6ms\n",
            "video 1/1 (1276/1395) /content/drive/MyDrive/cash_training/Currency-Identification-Smart-Glasses.v1i.yolov8/test2.mp4: 192x320 1 atm-card, 1 note, 11.5ms\n",
            "video 1/1 (1277/1395) /content/drive/MyDrive/cash_training/Currency-Identification-Smart-Glasses.v1i.yolov8/test2.mp4: 192x320 1 note, 18.0ms\n",
            "video 1/1 (1278/1395) /content/drive/MyDrive/cash_training/Currency-Identification-Smart-Glasses.v1i.yolov8/test2.mp4: 192x320 1 note, 10.8ms\n",
            "video 1/1 (1279/1395) /content/drive/MyDrive/cash_training/Currency-Identification-Smart-Glasses.v1i.yolov8/test2.mp4: 192x320 1 note, 11.8ms\n",
            "video 1/1 (1280/1395) /content/drive/MyDrive/cash_training/Currency-Identification-Smart-Glasses.v1i.yolov8/test2.mp4: 192x320 1 note, 18.1ms\n",
            "video 1/1 (1281/1395) /content/drive/MyDrive/cash_training/Currency-Identification-Smart-Glasses.v1i.yolov8/test2.mp4: 192x320 1 note, 17.0ms\n",
            "video 1/1 (1282/1395) /content/drive/MyDrive/cash_training/Currency-Identification-Smart-Glasses.v1i.yolov8/test2.mp4: 192x320 1 note, 22.0ms\n",
            "video 1/1 (1283/1395) /content/drive/MyDrive/cash_training/Currency-Identification-Smart-Glasses.v1i.yolov8/test2.mp4: 192x320 1 note, 17.6ms\n",
            "video 1/1 (1284/1395) /content/drive/MyDrive/cash_training/Currency-Identification-Smart-Glasses.v1i.yolov8/test2.mp4: 192x320 1 note, 21.2ms\n",
            "video 1/1 (1285/1395) /content/drive/MyDrive/cash_training/Currency-Identification-Smart-Glasses.v1i.yolov8/test2.mp4: 192x320 1 note, 24.0ms\n",
            "video 1/1 (1286/1395) /content/drive/MyDrive/cash_training/Currency-Identification-Smart-Glasses.v1i.yolov8/test2.mp4: 192x320 1 note, 18.4ms\n",
            "video 1/1 (1287/1395) /content/drive/MyDrive/cash_training/Currency-Identification-Smart-Glasses.v1i.yolov8/test2.mp4: 192x320 1 note, 12.5ms\n",
            "video 1/1 (1288/1395) /content/drive/MyDrive/cash_training/Currency-Identification-Smart-Glasses.v1i.yolov8/test2.mp4: 192x320 1 note, 14.1ms\n",
            "video 1/1 (1289/1395) /content/drive/MyDrive/cash_training/Currency-Identification-Smart-Glasses.v1i.yolov8/test2.mp4: 192x320 1 note, 15.6ms\n",
            "video 1/1 (1290/1395) /content/drive/MyDrive/cash_training/Currency-Identification-Smart-Glasses.v1i.yolov8/test2.mp4: 192x320 1 note, 17.6ms\n",
            "video 1/1 (1291/1395) /content/drive/MyDrive/cash_training/Currency-Identification-Smart-Glasses.v1i.yolov8/test2.mp4: 192x320 1 note, 11.4ms\n",
            "video 1/1 (1292/1395) /content/drive/MyDrive/cash_training/Currency-Identification-Smart-Glasses.v1i.yolov8/test2.mp4: 192x320 1 note, 17.8ms\n",
            "video 1/1 (1293/1395) /content/drive/MyDrive/cash_training/Currency-Identification-Smart-Glasses.v1i.yolov8/test2.mp4: 192x320 1 note, 15.3ms\n",
            "video 1/1 (1294/1395) /content/drive/MyDrive/cash_training/Currency-Identification-Smart-Glasses.v1i.yolov8/test2.mp4: 192x320 1 note, 13.6ms\n",
            "video 1/1 (1295/1395) /content/drive/MyDrive/cash_training/Currency-Identification-Smart-Glasses.v1i.yolov8/test2.mp4: 192x320 1 note, 12.8ms\n",
            "video 1/1 (1296/1395) /content/drive/MyDrive/cash_training/Currency-Identification-Smart-Glasses.v1i.yolov8/test2.mp4: 192x320 1 note, 18.0ms\n",
            "video 1/1 (1297/1395) /content/drive/MyDrive/cash_training/Currency-Identification-Smart-Glasses.v1i.yolov8/test2.mp4: 192x320 1 note, 12.0ms\n",
            "video 1/1 (1298/1395) /content/drive/MyDrive/cash_training/Currency-Identification-Smart-Glasses.v1i.yolov8/test2.mp4: 192x320 1 note, 14.9ms\n",
            "video 1/1 (1299/1395) /content/drive/MyDrive/cash_training/Currency-Identification-Smart-Glasses.v1i.yolov8/test2.mp4: 192x320 1 note, 19.2ms\n",
            "video 1/1 (1300/1395) /content/drive/MyDrive/cash_training/Currency-Identification-Smart-Glasses.v1i.yolov8/test2.mp4: 192x320 1 note, 12.9ms\n",
            "video 1/1 (1301/1395) /content/drive/MyDrive/cash_training/Currency-Identification-Smart-Glasses.v1i.yolov8/test2.mp4: 192x320 1 note, 17.9ms\n",
            "video 1/1 (1302/1395) /content/drive/MyDrive/cash_training/Currency-Identification-Smart-Glasses.v1i.yolov8/test2.mp4: 192x320 1 note, 12.3ms\n",
            "video 1/1 (1303/1395) /content/drive/MyDrive/cash_training/Currency-Identification-Smart-Glasses.v1i.yolov8/test2.mp4: 192x320 1 note, 16.3ms\n",
            "video 1/1 (1304/1395) /content/drive/MyDrive/cash_training/Currency-Identification-Smart-Glasses.v1i.yolov8/test2.mp4: 192x320 1 note, 10.7ms\n",
            "video 1/1 (1305/1395) /content/drive/MyDrive/cash_training/Currency-Identification-Smart-Glasses.v1i.yolov8/test2.mp4: 192x320 1 note, 13.3ms\n",
            "video 1/1 (1306/1395) /content/drive/MyDrive/cash_training/Currency-Identification-Smart-Glasses.v1i.yolov8/test2.mp4: 192x320 1 note, 17.4ms\n",
            "video 1/1 (1307/1395) /content/drive/MyDrive/cash_training/Currency-Identification-Smart-Glasses.v1i.yolov8/test2.mp4: 192x320 1 note, 14.3ms\n",
            "video 1/1 (1308/1395) /content/drive/MyDrive/cash_training/Currency-Identification-Smart-Glasses.v1i.yolov8/test2.mp4: 192x320 1 note, 11.9ms\n",
            "video 1/1 (1309/1395) /content/drive/MyDrive/cash_training/Currency-Identification-Smart-Glasses.v1i.yolov8/test2.mp4: 192x320 1 note, 14.3ms\n",
            "video 1/1 (1310/1395) /content/drive/MyDrive/cash_training/Currency-Identification-Smart-Glasses.v1i.yolov8/test2.mp4: 192x320 1 note, 11.7ms\n",
            "video 1/1 (1311/1395) /content/drive/MyDrive/cash_training/Currency-Identification-Smart-Glasses.v1i.yolov8/test2.mp4: 192x320 1 note, 15.9ms\n",
            "video 1/1 (1312/1395) /content/drive/MyDrive/cash_training/Currency-Identification-Smart-Glasses.v1i.yolov8/test2.mp4: 192x320 1 note, 15.7ms\n",
            "video 1/1 (1313/1395) /content/drive/MyDrive/cash_training/Currency-Identification-Smart-Glasses.v1i.yolov8/test2.mp4: 192x320 1 note, 12.4ms\n",
            "video 1/1 (1314/1395) /content/drive/MyDrive/cash_training/Currency-Identification-Smart-Glasses.v1i.yolov8/test2.mp4: 192x320 1 note, 12.7ms\n",
            "video 1/1 (1315/1395) /content/drive/MyDrive/cash_training/Currency-Identification-Smart-Glasses.v1i.yolov8/test2.mp4: 192x320 1 note, 13.9ms\n",
            "video 1/1 (1316/1395) /content/drive/MyDrive/cash_training/Currency-Identification-Smart-Glasses.v1i.yolov8/test2.mp4: 192x320 1 note, 11.1ms\n",
            "video 1/1 (1317/1395) /content/drive/MyDrive/cash_training/Currency-Identification-Smart-Glasses.v1i.yolov8/test2.mp4: 192x320 1 note, 13.8ms\n",
            "video 1/1 (1318/1395) /content/drive/MyDrive/cash_training/Currency-Identification-Smart-Glasses.v1i.yolov8/test2.mp4: 192x320 1 note, 17.0ms\n",
            "video 1/1 (1319/1395) /content/drive/MyDrive/cash_training/Currency-Identification-Smart-Glasses.v1i.yolov8/test2.mp4: 192x320 1 note, 15.4ms\n",
            "video 1/1 (1320/1395) /content/drive/MyDrive/cash_training/Currency-Identification-Smart-Glasses.v1i.yolov8/test2.mp4: 192x320 1 note, 12.7ms\n",
            "video 1/1 (1321/1395) /content/drive/MyDrive/cash_training/Currency-Identification-Smart-Glasses.v1i.yolov8/test2.mp4: 192x320 1 note, 10.9ms\n",
            "video 1/1 (1322/1395) /content/drive/MyDrive/cash_training/Currency-Identification-Smart-Glasses.v1i.yolov8/test2.mp4: 192x320 1 note, 11.8ms\n",
            "video 1/1 (1323/1395) /content/drive/MyDrive/cash_training/Currency-Identification-Smart-Glasses.v1i.yolov8/test2.mp4: 192x320 1 note, 12.4ms\n",
            "video 1/1 (1324/1395) /content/drive/MyDrive/cash_training/Currency-Identification-Smart-Glasses.v1i.yolov8/test2.mp4: 192x320 1 note, 12.2ms\n",
            "video 1/1 (1325/1395) /content/drive/MyDrive/cash_training/Currency-Identification-Smart-Glasses.v1i.yolov8/test2.mp4: 192x320 1 note, 17.6ms\n",
            "video 1/1 (1326/1395) /content/drive/MyDrive/cash_training/Currency-Identification-Smart-Glasses.v1i.yolov8/test2.mp4: 192x320 1 note, 13.8ms\n",
            "video 1/1 (1327/1395) /content/drive/MyDrive/cash_training/Currency-Identification-Smart-Glasses.v1i.yolov8/test2.mp4: 192x320 1 note, 11.5ms\n",
            "video 1/1 (1328/1395) /content/drive/MyDrive/cash_training/Currency-Identification-Smart-Glasses.v1i.yolov8/test2.mp4: 192x320 1 note, 12.2ms\n",
            "video 1/1 (1329/1395) /content/drive/MyDrive/cash_training/Currency-Identification-Smart-Glasses.v1i.yolov8/test2.mp4: 192x320 1 note, 12.8ms\n",
            "video 1/1 (1330/1395) /content/drive/MyDrive/cash_training/Currency-Identification-Smart-Glasses.v1i.yolov8/test2.mp4: 192x320 1 note, 13.3ms\n",
            "video 1/1 (1331/1395) /content/drive/MyDrive/cash_training/Currency-Identification-Smart-Glasses.v1i.yolov8/test2.mp4: 192x320 1 note, 11.6ms\n",
            "video 1/1 (1332/1395) /content/drive/MyDrive/cash_training/Currency-Identification-Smart-Glasses.v1i.yolov8/test2.mp4: 192x320 1 note, 17.9ms\n",
            "video 1/1 (1333/1395) /content/drive/MyDrive/cash_training/Currency-Identification-Smart-Glasses.v1i.yolov8/test2.mp4: 192x320 1 note, 12.1ms\n",
            "video 1/1 (1334/1395) /content/drive/MyDrive/cash_training/Currency-Identification-Smart-Glasses.v1i.yolov8/test2.mp4: 192x320 1 note, 13.7ms\n",
            "video 1/1 (1335/1395) /content/drive/MyDrive/cash_training/Currency-Identification-Smart-Glasses.v1i.yolov8/test2.mp4: 192x320 1 note, 11.1ms\n",
            "video 1/1 (1336/1395) /content/drive/MyDrive/cash_training/Currency-Identification-Smart-Glasses.v1i.yolov8/test2.mp4: 192x320 1 note, 15.3ms\n",
            "video 1/1 (1337/1395) /content/drive/MyDrive/cash_training/Currency-Identification-Smart-Glasses.v1i.yolov8/test2.mp4: 192x320 1 note, 11.9ms\n",
            "video 1/1 (1338/1395) /content/drive/MyDrive/cash_training/Currency-Identification-Smart-Glasses.v1i.yolov8/test2.mp4: 192x320 1 note, 23.1ms\n",
            "video 1/1 (1339/1395) /content/drive/MyDrive/cash_training/Currency-Identification-Smart-Glasses.v1i.yolov8/test2.mp4: 192x320 1 note, 11.2ms\n",
            "video 1/1 (1340/1395) /content/drive/MyDrive/cash_training/Currency-Identification-Smart-Glasses.v1i.yolov8/test2.mp4: 192x320 1 note, 19.2ms\n",
            "video 1/1 (1341/1395) /content/drive/MyDrive/cash_training/Currency-Identification-Smart-Glasses.v1i.yolov8/test2.mp4: 192x320 1 note, 11.1ms\n",
            "video 1/1 (1342/1395) /content/drive/MyDrive/cash_training/Currency-Identification-Smart-Glasses.v1i.yolov8/test2.mp4: 192x320 1 note, 17.3ms\n",
            "video 1/1 (1343/1395) /content/drive/MyDrive/cash_training/Currency-Identification-Smart-Glasses.v1i.yolov8/test2.mp4: 192x320 1 note, 23.7ms\n",
            "video 1/1 (1344/1395) /content/drive/MyDrive/cash_training/Currency-Identification-Smart-Glasses.v1i.yolov8/test2.mp4: 192x320 1 note, 10.8ms\n",
            "video 1/1 (1345/1395) /content/drive/MyDrive/cash_training/Currency-Identification-Smart-Glasses.v1i.yolov8/test2.mp4: 192x320 1 note, 14.1ms\n",
            "video 1/1 (1346/1395) /content/drive/MyDrive/cash_training/Currency-Identification-Smart-Glasses.v1i.yolov8/test2.mp4: 192x320 1 note, 13.4ms\n",
            "video 1/1 (1347/1395) /content/drive/MyDrive/cash_training/Currency-Identification-Smart-Glasses.v1i.yolov8/test2.mp4: 192x320 1 note, 11.0ms\n",
            "video 1/1 (1348/1395) /content/drive/MyDrive/cash_training/Currency-Identification-Smart-Glasses.v1i.yolov8/test2.mp4: 192x320 1 note, 15.4ms\n",
            "video 1/1 (1349/1395) /content/drive/MyDrive/cash_training/Currency-Identification-Smart-Glasses.v1i.yolov8/test2.mp4: 192x320 1 note, 13.6ms\n",
            "video 1/1 (1350/1395) /content/drive/MyDrive/cash_training/Currency-Identification-Smart-Glasses.v1i.yolov8/test2.mp4: 192x320 1 note, 14.5ms\n",
            "video 1/1 (1351/1395) /content/drive/MyDrive/cash_training/Currency-Identification-Smart-Glasses.v1i.yolov8/test2.mp4: 192x320 (no detections), 11.9ms\n",
            "video 1/1 (1352/1395) /content/drive/MyDrive/cash_training/Currency-Identification-Smart-Glasses.v1i.yolov8/test2.mp4: 192x320 (no detections), 12.9ms\n",
            "video 1/1 (1353/1395) /content/drive/MyDrive/cash_training/Currency-Identification-Smart-Glasses.v1i.yolov8/test2.mp4: 192x320 (no detections), 14.4ms\n",
            "video 1/1 (1354/1395) /content/drive/MyDrive/cash_training/Currency-Identification-Smart-Glasses.v1i.yolov8/test2.mp4: 192x320 1 note, 21.2ms\n",
            "video 1/1 (1355/1395) /content/drive/MyDrive/cash_training/Currency-Identification-Smart-Glasses.v1i.yolov8/test2.mp4: 192x320 1 note, 13.3ms\n",
            "video 1/1 (1356/1395) /content/drive/MyDrive/cash_training/Currency-Identification-Smart-Glasses.v1i.yolov8/test2.mp4: 192x320 1 note, 13.5ms\n",
            "video 1/1 (1357/1395) /content/drive/MyDrive/cash_training/Currency-Identification-Smart-Glasses.v1i.yolov8/test2.mp4: 192x320 1 note, 10.7ms\n",
            "video 1/1 (1358/1395) /content/drive/MyDrive/cash_training/Currency-Identification-Smart-Glasses.v1i.yolov8/test2.mp4: 192x320 1 note, 17.5ms\n",
            "video 1/1 (1359/1395) /content/drive/MyDrive/cash_training/Currency-Identification-Smart-Glasses.v1i.yolov8/test2.mp4: 192x320 1 note, 15.7ms\n",
            "video 1/1 (1360/1395) /content/drive/MyDrive/cash_training/Currency-Identification-Smart-Glasses.v1i.yolov8/test2.mp4: 192x320 1 note, 10.7ms\n",
            "video 1/1 (1361/1395) /content/drive/MyDrive/cash_training/Currency-Identification-Smart-Glasses.v1i.yolov8/test2.mp4: 192x320 1 note, 16.5ms\n",
            "video 1/1 (1362/1395) /content/drive/MyDrive/cash_training/Currency-Identification-Smart-Glasses.v1i.yolov8/test2.mp4: 192x320 1 note, 29.4ms\n",
            "video 1/1 (1363/1395) /content/drive/MyDrive/cash_training/Currency-Identification-Smart-Glasses.v1i.yolov8/test2.mp4: 192x320 1 note, 13.4ms\n",
            "video 1/1 (1364/1395) /content/drive/MyDrive/cash_training/Currency-Identification-Smart-Glasses.v1i.yolov8/test2.mp4: 192x320 1 note, 14.2ms\n",
            "video 1/1 (1365/1395) /content/drive/MyDrive/cash_training/Currency-Identification-Smart-Glasses.v1i.yolov8/test2.mp4: 192x320 1 note, 15.2ms\n",
            "video 1/1 (1366/1395) /content/drive/MyDrive/cash_training/Currency-Identification-Smart-Glasses.v1i.yolov8/test2.mp4: 192x320 1 note, 15.4ms\n",
            "video 1/1 (1367/1395) /content/drive/MyDrive/cash_training/Currency-Identification-Smart-Glasses.v1i.yolov8/test2.mp4: 192x320 1 note, 16.0ms\n",
            "video 1/1 (1368/1395) /content/drive/MyDrive/cash_training/Currency-Identification-Smart-Glasses.v1i.yolov8/test2.mp4: 192x320 1 note, 15.9ms\n",
            "video 1/1 (1369/1395) /content/drive/MyDrive/cash_training/Currency-Identification-Smart-Glasses.v1i.yolov8/test2.mp4: 192x320 1 note, 15.5ms\n",
            "video 1/1 (1370/1395) /content/drive/MyDrive/cash_training/Currency-Identification-Smart-Glasses.v1i.yolov8/test2.mp4: 192x320 1 note, 14.3ms\n",
            "video 1/1 (1371/1395) /content/drive/MyDrive/cash_training/Currency-Identification-Smart-Glasses.v1i.yolov8/test2.mp4: 192x320 1 note, 10.8ms\n",
            "video 1/1 (1372/1395) /content/drive/MyDrive/cash_training/Currency-Identification-Smart-Glasses.v1i.yolov8/test2.mp4: 192x320 1 note, 8.9ms\n",
            "video 1/1 (1373/1395) /content/drive/MyDrive/cash_training/Currency-Identification-Smart-Glasses.v1i.yolov8/test2.mp4: 192x320 1 note, 10.9ms\n",
            "video 1/1 (1374/1395) /content/drive/MyDrive/cash_training/Currency-Identification-Smart-Glasses.v1i.yolov8/test2.mp4: 192x320 1 note, 9.4ms\n",
            "video 1/1 (1375/1395) /content/drive/MyDrive/cash_training/Currency-Identification-Smart-Glasses.v1i.yolov8/test2.mp4: 192x320 (no detections), 9.8ms\n",
            "video 1/1 (1376/1395) /content/drive/MyDrive/cash_training/Currency-Identification-Smart-Glasses.v1i.yolov8/test2.mp4: 192x320 (no detections), 9.0ms\n",
            "video 1/1 (1377/1395) /content/drive/MyDrive/cash_training/Currency-Identification-Smart-Glasses.v1i.yolov8/test2.mp4: 192x320 1 note, 11.9ms\n",
            "video 1/1 (1378/1395) /content/drive/MyDrive/cash_training/Currency-Identification-Smart-Glasses.v1i.yolov8/test2.mp4: 192x320 (no detections), 9.5ms\n",
            "video 1/1 (1379/1395) /content/drive/MyDrive/cash_training/Currency-Identification-Smart-Glasses.v1i.yolov8/test2.mp4: 192x320 1 note, 13.0ms\n",
            "video 1/1 (1380/1395) /content/drive/MyDrive/cash_training/Currency-Identification-Smart-Glasses.v1i.yolov8/test2.mp4: 192x320 1 note, 12.4ms\n",
            "video 1/1 (1381/1395) /content/drive/MyDrive/cash_training/Currency-Identification-Smart-Glasses.v1i.yolov8/test2.mp4: 192x320 1 note, 9.1ms\n",
            "video 1/1 (1382/1395) /content/drive/MyDrive/cash_training/Currency-Identification-Smart-Glasses.v1i.yolov8/test2.mp4: 192x320 1 note, 11.5ms\n",
            "video 1/1 (1383/1395) /content/drive/MyDrive/cash_training/Currency-Identification-Smart-Glasses.v1i.yolov8/test2.mp4: 192x320 1 note, 14.3ms\n",
            "video 1/1 (1384/1395) /content/drive/MyDrive/cash_training/Currency-Identification-Smart-Glasses.v1i.yolov8/test2.mp4: 192x320 1 note, 11.1ms\n",
            "video 1/1 (1385/1395) /content/drive/MyDrive/cash_training/Currency-Identification-Smart-Glasses.v1i.yolov8/test2.mp4: 192x320 1 note, 10.0ms\n",
            "video 1/1 (1386/1395) /content/drive/MyDrive/cash_training/Currency-Identification-Smart-Glasses.v1i.yolov8/test2.mp4: 192x320 1 note, 23.7ms\n",
            "video 1/1 (1387/1395) /content/drive/MyDrive/cash_training/Currency-Identification-Smart-Glasses.v1i.yolov8/test2.mp4: 192x320 1 note, 13.2ms\n",
            "video 1/1 (1388/1395) /content/drive/MyDrive/cash_training/Currency-Identification-Smart-Glasses.v1i.yolov8/test2.mp4: 192x320 1 note, 11.0ms\n",
            "video 1/1 (1389/1395) /content/drive/MyDrive/cash_training/Currency-Identification-Smart-Glasses.v1i.yolov8/test2.mp4: 192x320 1 note, 11.5ms\n",
            "video 1/1 (1390/1395) /content/drive/MyDrive/cash_training/Currency-Identification-Smart-Glasses.v1i.yolov8/test2.mp4: 192x320 1 note, 14.2ms\n",
            "video 1/1 (1391/1395) /content/drive/MyDrive/cash_training/Currency-Identification-Smart-Glasses.v1i.yolov8/test2.mp4: 192x320 1 note, 10.6ms\n",
            "video 1/1 (1392/1395) /content/drive/MyDrive/cash_training/Currency-Identification-Smart-Glasses.v1i.yolov8/test2.mp4: 192x320 1 note, 14.1ms\n",
            "video 1/1 (1393/1395) /content/drive/MyDrive/cash_training/Currency-Identification-Smart-Glasses.v1i.yolov8/test2.mp4: 192x320 1 note, 9.3ms\n",
            "video 1/1 (1394/1395) /content/drive/MyDrive/cash_training/Currency-Identification-Smart-Glasses.v1i.yolov8/test2.mp4: 192x320 1 note, 13.7ms\n",
            "video 1/1 (1395/1395) /content/drive/MyDrive/cash_training/Currency-Identification-Smart-Glasses.v1i.yolov8/test2.mp4: 192x320 1 note, 11.4ms\n",
            "Speed: 1.3ms preprocess, 12.4ms inference, 2.1ms postprocess per image at shape (1, 3, 192, 320)\n",
            "Results saved to \u001b[1mruns/detect/predict4\u001b[0m\n"
          ]
        }
      ]
    },
    {
      "cell_type": "code",
      "source": [],
      "metadata": {
        "id": "NPVuDu2XZNeR"
      },
      "execution_count": null,
      "outputs": []
    }
  ]
}